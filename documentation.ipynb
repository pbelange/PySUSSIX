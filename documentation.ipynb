{
 "cells": [
  {
   "cell_type": "markdown",
   "metadata": {},
   "source": [
    "# Sussix"
   ]
  },
  {
   "cell_type": "markdown",
   "metadata": {},
   "source": [
    "[See https://cds.cern.ch/record/333077 for initial reference]\n",
    "\n",
    "For regular particle motion in the KAM region, the phase space trajectories can be decomposed into a series of spectral lines made of linear combinations of the fundamental tunes, $Q_x$,$Q_y$,$Q_\\zeta$.\n",
    "\n",
    "For the horizontal particle coordinates $(x,p_x)$ transformed into the linearly normalised Courant-Snyder variables $(\\tilde x,\\tilde p_x)$, we get after $N$ turns:\n",
    "\n",
    "$$z(N) = \\tilde x - i\\tilde p_x = \\sum_{jk\\ell m} A_{jk \\ell m} e^{2\\pi i[jQ_x + k Q_y + \\ell Q_\\zeta + m]N}$$\n",
    "\n",
    "where $A_{jk \\ell m}$ is a complex quantity encoding both the amplitude and the phase of the spectral line. For linear motion, only the fundamental tune $Q_x$ is present and the trajectory (a circle) can be written as:\n",
    "$$\\tilde x - i\\tilde p_x = \\sqrt{2J_x}\\ e^{2\\pi i[Q_x]N}$$\n",
    "\n",
    "\n",
    "As a generalisation of the Fourier series to the complex plane, one can understand that any phase space trajectory $\\tilde x - i\\tilde p_x $ can be expressed as a sum of phasors, but that the particular constraints of the Hamiltonian of particle accelerators warrants us to look for phasors whose frequencies are a linear combinations of the fundamental tunes.\n",
    "\n",
    "R. Bartolini and F. Schmidt have shown that the the complex coefficients $A_{jk \\ell m}$ can be used to find the transformation to the new set of canonical coordinates.\n",
    "\n",
    "\n",
    "\n"
   ]
  },
  {
   "cell_type": "markdown",
   "metadata": {},
   "source": [
    "---\n",
    "# The Algorithm\n",
    "---"
   ]
  },
  {
   "cell_type": "markdown",
   "metadata": {},
   "source": [
    "The Sussix algorithm is no different from the NAFF (Numerical Analysis of the Fundamental Frequencies) introduced by Laskar, but does benefit from a very well optimized numerical approach, allowing to get the spectral lines up to machine precision in noiseless cases. \n",
    "\n",
    "\n",
    "Let's start with the signal processing. The Discrete Fourier Transform (DFT) $\\bar z (\\nu)$ of the complex function $z(N)$ can be defined as:\n",
    "$$\\bar z(\\nu) = \\sum_{N=0}^{N_t-1} e^{-2\\pi i\\ \\nu N}z(N)\\qquad \\text{where}\\qquad \\nu = m/N_t,\\ m\\in \\Z $$\n"
   ]
  },
  {
   "cell_type": "markdown",
   "metadata": {},
   "source": [
    "---\n",
    "# Normal form, linear case\n",
    "---"
   ]
  },
  {
   "cell_type": "markdown",
   "metadata": {},
   "source": [
    "The 1D linear motion of a particle follows the well-known expressions:\n",
    "$$\\begin{aligned}x &= \\sqrt{2\\beta_x J_x}\\cos(2\\pi Q_x\\ N)\\\\\n",
    "p_x &= -\\sqrt{\\frac{2J_x}{\\beta_x}}\\Big(\\sin(2\\pi Q_x\\ N) + \\alpha_x \\cos(2\\pi Q_x\\ N)\\Big)\\end{aligned}$$\n",
    "\n",
    "Expanding the sine and cosines with complex exponentials, one can show that the equivalent harmonic description is:\n",
    "$$x - ip_x = A_+ e^{2\\pi i[\\ Q_x\\ ] N} + A_- e^{-2\\pi i[\\ Q_x\\ ] N}$$\n",
    "\n",
    "with\n",
    "$$A_\\pm = \\frac{1}{2}\\sqrt{\\frac{2J_x}{\\beta_x}}\\Big(\\beta_x + i\\alpha_x \\pm 1 \\Big)$$\n",
    "\n",
    "In normalised coordinates, one would expect to be able to write:\n",
    "$$\\tilde x - i \\tilde p_x = \\sqrt{2J_x}e^{i\\phi_0} e^{2\\pi i[\\ Q_x\\ ] N}$$\n",
    "\n"
   ]
  },
  {
   "cell_type": "code",
   "execution_count": null,
   "metadata": {},
   "outputs": [],
   "source": []
  },
  {
   "cell_type": "code",
   "execution_count": null,
   "metadata": {},
   "outputs": [],
   "source": []
  },
  {
   "cell_type": "code",
   "execution_count": null,
   "metadata": {},
   "outputs": [],
   "source": []
  },
  {
   "cell_type": "markdown",
   "metadata": {},
   "source": [
    "---\n",
    "# Sympy below\n",
    "---"
   ]
  },
  {
   "cell_type": "code",
   "execution_count": 69,
   "metadata": {},
   "outputs": [],
   "source": [
    "import sympy as sp\n",
    "import numpy as np\n",
    "import matplotlib.pyplot as plt\n",
    "sp.init_printing(use_unicode=True,fontsize=24)\n",
    "import sys\n",
    "\n",
    "from IPython.display import display, Latex\n",
    "def print_eq(lhs,rhs):\n",
    "    result = \"$${} = {}$$\".format(sp.latex(lhs), sp.latex(rhs))\n",
    "    display(Latex(result))\n",
    "\n",
    "\n",
    "x,px,a,ap,am,Qx, N = sp.symbols('x p_x z a_+ a_- Q_x N',real=True,positive=True)"
   ]
  },
  {
   "cell_type": "code",
   "execution_count": 70,
   "metadata": {},
   "outputs": [
    {
     "name": "stdout",
     "output_type": "stream",
     "text": [
      "------------------------------------------------------------------------------------------------------------------------\n"
     ]
    },
    {
     "data": {
      "text/latex": [
       "$$- i p_{x} + x = a_{+} e^{2 i \\pi N Q_{x}} + a_{-} e^{- 2 i \\pi N Q_{x}}$$"
      ],
      "text/plain": [
       "<IPython.core.display.Latex object>"
      ]
     },
     "metadata": {},
     "output_type": "display_data"
    },
    {
     "name": "stdout",
     "output_type": "stream",
     "text": [
      "------------------------------------------------------------------------------------------------------------------------\n"
     ]
    },
    {
     "data": {
      "text/latex": [
       "$$- i p_{x} + x = \\left(a_{+} + a_{-}\\right) \\cos{\\left(2 \\pi N Q_{x} \\right)} + \\left(i a_{+} - i a_{-}\\right) \\sin{\\left(2 \\pi N Q_{x} \\right)}$$"
      ],
      "text/plain": [
       "<IPython.core.display.Latex object>"
      ]
     },
     "metadata": {},
     "output_type": "display_data"
    },
    {
     "name": "stdout",
     "output_type": "stream",
     "text": [
      "------------------------------------------------------------------------------------------------------------------------\n"
     ]
    },
    {
     "data": {
      "text/latex": [
       "$$x = \\left(a_{+} + a_{-}\\right) \\cos{\\left(2 \\pi N Q_{x} \\right)}$$"
      ],
      "text/plain": [
       "<IPython.core.display.Latex object>"
      ]
     },
     "metadata": {},
     "output_type": "display_data"
    },
    {
     "data": {
      "text/latex": [
       "$$p_{x} = - \\left(a_{+} - a_{-}\\right) \\sin{\\left(2 \\pi N Q_{x} \\right)}$$"
      ],
      "text/plain": [
       "<IPython.core.display.Latex object>"
      ]
     },
     "metadata": {},
     "output_type": "display_data"
    }
   ],
   "source": [
    "expr = ap*sp.exp(2*sp.pi*sp.I*(Qx)*N) + am*sp.exp(-2*sp.pi*sp.I*(Qx)*N)\n",
    "print(120*'-')\n",
    "print_eq(x-sp.I*px,expr)\n",
    "\n",
    "expr = expr.expand(complex = True).simplify().collect([sp.cos(2*sp.pi*(Qx)*N),sp.sin(2*sp.pi*(Qx)*N)])\n",
    "print(120*'-')\n",
    "print_eq(x-sp.I*px,expr)\n",
    "\n",
    "print(120*'-')\n",
    "print_eq(x,sp.re(expr))\n",
    "print_eq(px,-sp.im(expr))\n",
    "\n",
    "\n"
   ]
  },
  {
   "cell_type": "markdown",
   "metadata": {},
   "source": [
    "---\n",
    "# opposite\n",
    "---"
   ]
  },
  {
   "cell_type": "code",
   "execution_count": 101,
   "metadata": {},
   "outputs": [],
   "source": [
    "z,x, px, phi, Jx, alpha ,beta ,gamma, Ap,Am = sp.symbols(' z x p_x phi J_x alpha beta gamma A_+ A_-',real=True,positive=True)"
   ]
  },
  {
   "cell_type": "code",
   "execution_count": 106,
   "metadata": {},
   "outputs": [
    {
     "data": {
      "text/latex": [
       "$$x = \\sqrt{2} \\sqrt{J_{x}} \\sqrt{\\beta} \\cos{\\left(\\phi \\right)}$$"
      ],
      "text/plain": [
       "<IPython.core.display.Latex object>"
      ]
     },
     "metadata": {},
     "output_type": "display_data"
    },
    {
     "data": {
      "text/latex": [
       "$$p_{x} = - \\frac{\\sqrt{2} \\sqrt{J_{x}} \\left(\\alpha \\cos{\\left(\\phi \\right)} + \\sin{\\left(\\phi \\right)}\\right)}{\\sqrt{\\beta}}$$"
      ],
      "text/plain": [
       "<IPython.core.display.Latex object>"
      ]
     },
     "metadata": {},
     "output_type": "display_data"
    },
    {
     "name": "stdout",
     "output_type": "stream",
     "text": [
      "----------------------------------------------------------------------------------------------------\n"
     ]
    },
    {
     "data": {
      "text/latex": [
       "$$z = - i p_{x} + x$$"
      ],
      "text/plain": [
       "<IPython.core.display.Latex object>"
      ]
     },
     "metadata": {},
     "output_type": "display_data"
    },
    {
     "data": {
      "text/latex": [
       "$$z = \\sqrt{2} \\sqrt{J_{x}} \\sqrt{\\beta} \\left(\\frac{e^{i \\phi}}{2} + \\frac{e^{- i \\phi}}{2}\\right) + \\frac{\\sqrt{2} i \\sqrt{J_{x}} \\left(\\alpha \\left(\\frac{e^{i \\phi}}{2} + \\frac{e^{- i \\phi}}{2}\\right) - \\frac{i \\left(e^{i \\phi} - e^{- i \\phi}\\right)}{2}\\right)}{\\sqrt{\\beta}}$$"
      ],
      "text/plain": [
       "<IPython.core.display.Latex object>"
      ]
     },
     "metadata": {},
     "output_type": "display_data"
    },
    {
     "data": {
      "text/latex": [
       "$$z = \\left(\\frac{\\sqrt{2} i \\sqrt{J_{x}} \\alpha}{2 \\sqrt{\\beta}} + \\frac{\\sqrt{2} \\sqrt{J_{x}} \\sqrt{\\beta}}{2} - \\frac{\\sqrt{2} \\sqrt{J_{x}}}{2 \\sqrt{\\beta}}\\right) e^{- i \\phi} + \\left(\\frac{\\sqrt{2} i \\sqrt{J_{x}} \\alpha}{2 \\sqrt{\\beta}} + \\frac{\\sqrt{2} \\sqrt{J_{x}} \\sqrt{\\beta}}{2} + \\frac{\\sqrt{2} \\sqrt{J_{x}}}{2 \\sqrt{\\beta}}\\right) e^{i \\phi}$$"
      ],
      "text/plain": [
       "<IPython.core.display.Latex object>"
      ]
     },
     "metadata": {},
     "output_type": "display_data"
    },
    {
     "data": {
      "text/latex": [
       "$$A_{+} = \\frac{\\sqrt{2} \\sqrt{J_{x}} \\left(i \\alpha + \\beta + 1\\right)}{2 \\sqrt{\\beta}}$$"
      ],
      "text/plain": [
       "<IPython.core.display.Latex object>"
      ]
     },
     "metadata": {},
     "output_type": "display_data"
    },
    {
     "data": {
      "text/latex": [
       "$$A_{-} = \\frac{\\sqrt{2} \\sqrt{J_{x}} \\left(i \\alpha + \\beta - 1\\right)}{2 \\sqrt{\\beta}}$$"
      ],
      "text/plain": [
       "<IPython.core.display.Latex object>"
      ]
     },
     "metadata": {},
     "output_type": "display_data"
    }
   ],
   "source": [
    "_x = sp.sqrt(2*beta*Jx)*sp.cos(phi)\n",
    "_px = -sp.sqrt(2*Jx/beta)*(sp.sin(phi) + alpha*sp.cos(phi))\n",
    "print_eq(x,_x)\n",
    "print_eq(px,_px)\n",
    "\n",
    "\n",
    "_z = _x - sp.I*_px\n",
    "_z = _z.rewrite((sp.sin, sp.cos), sp.exp)\n",
    "\n",
    "print(100*'-')\n",
    "print_eq(z,x - sp.I*px)\n",
    "print_eq(z,_z)\n",
    "\n",
    "\n",
    "_z = _z.expand().collect([sp.exp(sp.I*phi),sp.exp(-sp.I*phi)])\n",
    "print_eq(z,_z)\n",
    "_Ap = _z.coeff(sp.exp(sp.I*phi)).simplify()\n",
    "_Am = _z.coeff(sp.exp(-sp.I*phi)).simplify()\n",
    "print_eq(Ap,_Ap)\n",
    "print_eq(Am,_Am)"
   ]
  },
  {
   "cell_type": "code",
   "execution_count": 105,
   "metadata": {},
   "outputs": [
    {
     "data": {
      "image/png": "[encoded data removed]",
      "text/latex": [
       "$\\displaystyle \\frac{\\sqrt{2} \\sqrt{J_{x}} \\left(i \\alpha + \\beta - 1\\right)}{2 \\sqrt{\\beta}}$"
      ],
      "text/plain": [
       "     ____              \n",
       "√2⋅╲╱ Jₓ ⋅(ⅈ⋅α + β - 1)\n",
       "───────────────────────\n",
       "          2⋅√β         "
      ]
     },
     "execution_count": 105,
     "metadata": {},
     "output_type": "execute_result"
    }
   ],
   "source": [
    "_Am.simplify()"
   ]
  },
  {
   "cell_type": "code",
   "execution_count": 104,
   "metadata": {},
   "outputs": [
    {
     "data": {
      "image/png": "[encoded data removed]",
      "text/latex": [
       "$\\displaystyle \\frac{\\sqrt{2} \\sqrt{J_{x}} \\left(i \\alpha + \\beta + 1\\right)}{2 \\sqrt{\\beta}}$"
      ],
      "text/plain": [
       "     ____              \n",
       "√2⋅╲╱ Jₓ ⋅(ⅈ⋅α + β + 1)\n",
       "───────────────────────\n",
       "          2⋅√β         "
      ]
     },
     "execution_count": 104,
     "metadata": {},
     "output_type": "execute_result"
    }
   ],
   "source": [
    "_Ap.simplify()"
   ]
  },
  {
   "cell_type": "code",
   "execution_count": 85,
   "metadata": {},
   "outputs": [
    {
     "data": {
      "image/png": "[encoded data removed]",
      "text/latex": [
       "$\\displaystyle - \\frac{i \\left(e^{i \\phi} - e^{- i \\phi}\\right)}{2}$"
      ],
      "text/plain": [
       "   ⎛ ⅈ⋅φ    -ⅈ⋅φ⎞ \n",
       "-ⅈ⋅⎝ℯ    - ℯ    ⎠ \n",
       "──────────────────\n",
       "        2         "
      ]
     },
     "execution_count": 85,
     "metadata": {},
     "output_type": "execute_result"
    }
   ],
   "source": [
    "_z = _z.collect\n",
    "\n",
    "print_eq(x,_x)\n",
    "print_eq(px,_px)\n",
    "print(100*'-')\n",
    "print_eq(z,x - sp.I*px)\n",
    "print_eq(z,_z)"
   ]
  },
  {
   "cell_type": "code",
   "execution_count": 31,
   "metadata": {},
   "outputs": [
    {
     "data": {
      "image/png": "[encoded data removed]",
      "text/latex": [
       "$\\displaystyle \\cos{\\left(2 \\pi N Qx \\right)}$"
      ],
      "text/plain": [
       "cos(2⋅π⋅N⋅Qx)"
      ]
     },
     "execution_count": 31,
     "metadata": {},
     "output_type": "execute_result"
    }
   ],
   "source": [
    "sp.cos(2*sp.pi*(Qx)*N)"
   ]
  }
 ],
 "metadata": {
  "kernelspec": {
   "display_name": "py-sussix",
   "language": "python",
   "name": "py-sussix"
  },
  "language_info": {
   "codemirror_mode": {
    "name": "ipython",
    "version": 3
   },
   "file_extension": ".py",
   "mimetype": "text/x-python",
   "name": "python",
   "nbconvert_exporter": "python",
   "pygments_lexer": "ipython3",
   "version": "3.10.13"
  }
 },
 "nbformat": 4,
 "nbformat_minor": 2
}
