{
 "cells": [
  {
   "cell_type": "code",
   "execution_count": 1,
   "metadata": {},
   "outputs": [
    {
     "data": {
      "text/html": [
       "<div>\n",
       "<style scoped>\n",
       "    .dataframe tbody tr th:only-of-type {\n",
       "        vertical-align: middle;\n",
       "    }\n",
       "\n",
       "    .dataframe tbody tr th {\n",
       "        vertical-align: top;\n",
       "    }\n",
       "\n",
       "    .dataframe thead th {\n",
       "        text-align: right;\n",
       "    }\n",
       "</style>\n",
       "<table border=\"1\" class=\"dataframe\">\n",
       "  <thead>\n",
       "    <tr style=\"text-align: right;\">\n",
       "      <th></th>\n",
       "      <th>amplitude</th>\n",
       "      <th>frequency</th>\n",
       "    </tr>\n",
       "  </thead>\n",
       "  <tbody>\n",
       "    <tr>\n",
       "      <th>0</th>\n",
       "      <td>10.000000</td>\n",
       "      <td>0.310258</td>\n",
       "    </tr>\n",
       "    <tr>\n",
       "      <th>1</th>\n",
       "      <td>0.588235</td>\n",
       "      <td>0.310058</td>\n",
       "    </tr>\n",
       "    <tr>\n",
       "      <th>2</th>\n",
       "      <td>0.588235</td>\n",
       "      <td>0.310458</td>\n",
       "    </tr>\n",
       "    <tr>\n",
       "      <th>3</th>\n",
       "      <td>0.153846</td>\n",
       "      <td>0.310658</td>\n",
       "    </tr>\n",
       "    <tr>\n",
       "      <th>4</th>\n",
       "      <td>0.153846</td>\n",
       "      <td>0.309858</td>\n",
       "    </tr>\n",
       "    <tr>\n",
       "      <th>5</th>\n",
       "      <td>0.068966</td>\n",
       "      <td>0.309658</td>\n",
       "    </tr>\n",
       "    <tr>\n",
       "      <th>6</th>\n",
       "      <td>0.068966</td>\n",
       "      <td>0.310858</td>\n",
       "    </tr>\n",
       "    <tr>\n",
       "      <th>7</th>\n",
       "      <td>0.038911</td>\n",
       "      <td>0.311058</td>\n",
       "    </tr>\n",
       "    <tr>\n",
       "      <th>8</th>\n",
       "      <td>0.038911</td>\n",
       "      <td>0.309458</td>\n",
       "    </tr>\n",
       "    <tr>\n",
       "      <th>9</th>\n",
       "      <td>0.024938</td>\n",
       "      <td>0.308258</td>\n",
       "    </tr>\n",
       "    <tr>\n",
       "      <th>10</th>\n",
       "      <td>0.024938</td>\n",
       "      <td>0.312258</td>\n",
       "    </tr>\n",
       "    <tr>\n",
       "      <th>11</th>\n",
       "      <td>0.024938</td>\n",
       "      <td>0.311258</td>\n",
       "    </tr>\n",
       "    <tr>\n",
       "      <th>12</th>\n",
       "      <td>0.024938</td>\n",
       "      <td>0.309258</td>\n",
       "    </tr>\n",
       "    <tr>\n",
       "      <th>13</th>\n",
       "      <td>0.001467</td>\n",
       "      <td>0.308458</td>\n",
       "    </tr>\n",
       "    <tr>\n",
       "      <th>14</th>\n",
       "      <td>0.001467</td>\n",
       "      <td>0.312058</td>\n",
       "    </tr>\n",
       "    <tr>\n",
       "      <th>15</th>\n",
       "      <td>0.001467</td>\n",
       "      <td>0.312458</td>\n",
       "    </tr>\n",
       "    <tr>\n",
       "      <th>16</th>\n",
       "      <td>0.001467</td>\n",
       "      <td>0.308058</td>\n",
       "    </tr>\n",
       "    <tr>\n",
       "      <th>17</th>\n",
       "      <td>0.000384</td>\n",
       "      <td>0.312658</td>\n",
       "    </tr>\n",
       "    <tr>\n",
       "      <th>18</th>\n",
       "      <td>0.000384</td>\n",
       "      <td>0.311858</td>\n",
       "    </tr>\n",
       "    <tr>\n",
       "      <th>19</th>\n",
       "      <td>0.000384</td>\n",
       "      <td>0.308658</td>\n",
       "    </tr>\n",
       "    <tr>\n",
       "      <th>20</th>\n",
       "      <td>0.000384</td>\n",
       "      <td>0.307858</td>\n",
       "    </tr>\n",
       "    <tr>\n",
       "      <th>21</th>\n",
       "      <td>0.000172</td>\n",
       "      <td>0.307658</td>\n",
       "    </tr>\n",
       "    <tr>\n",
       "      <th>22</th>\n",
       "      <td>0.000172</td>\n",
       "      <td>0.312858</td>\n",
       "    </tr>\n",
       "    <tr>\n",
       "      <th>23</th>\n",
       "      <td>0.000172</td>\n",
       "      <td>0.311658</td>\n",
       "    </tr>\n",
       "    <tr>\n",
       "      <th>24</th>\n",
       "      <td>0.000172</td>\n",
       "      <td>0.308858</td>\n",
       "    </tr>\n",
       "    <tr>\n",
       "      <th>25</th>\n",
       "      <td>0.000097</td>\n",
       "      <td>0.307458</td>\n",
       "    </tr>\n",
       "    <tr>\n",
       "      <th>26</th>\n",
       "      <td>0.000097</td>\n",
       "      <td>0.313058</td>\n",
       "    </tr>\n",
       "    <tr>\n",
       "      <th>27</th>\n",
       "      <td>0.000097</td>\n",
       "      <td>0.309058</td>\n",
       "    </tr>\n",
       "    <tr>\n",
       "      <th>28</th>\n",
       "      <td>0.000097</td>\n",
       "      <td>0.311458</td>\n",
       "    </tr>\n",
       "    <tr>\n",
       "      <th>29</th>\n",
       "      <td>0.000062</td>\n",
       "      <td>0.307258</td>\n",
       "    </tr>\n",
       "    <tr>\n",
       "      <th>30</th>\n",
       "      <td>0.000062</td>\n",
       "      <td>0.311258</td>\n",
       "    </tr>\n",
       "    <tr>\n",
       "      <th>31</th>\n",
       "      <td>0.000062</td>\n",
       "      <td>0.309258</td>\n",
       "    </tr>\n",
       "    <tr>\n",
       "      <th>32</th>\n",
       "      <td>0.000062</td>\n",
       "      <td>0.313258</td>\n",
       "    </tr>\n",
       "  </tbody>\n",
       "</table>\n",
       "</div>"
      ],
      "text/plain": [
       "    amplitude  frequency\n",
       "0   10.000000   0.310258\n",
       "1    0.588235   0.310058\n",
       "2    0.588235   0.310458\n",
       "3    0.153846   0.310658\n",
       "4    0.153846   0.309858\n",
       "5    0.068966   0.309658\n",
       "6    0.068966   0.310858\n",
       "7    0.038911   0.311058\n",
       "8    0.038911   0.309458\n",
       "9    0.024938   0.308258\n",
       "10   0.024938   0.312258\n",
       "11   0.024938   0.311258\n",
       "12   0.024938   0.309258\n",
       "13   0.001467   0.308458\n",
       "14   0.001467   0.312058\n",
       "15   0.001467   0.312458\n",
       "16   0.001467   0.308058\n",
       "17   0.000384   0.312658\n",
       "18   0.000384   0.311858\n",
       "19   0.000384   0.308658\n",
       "20   0.000384   0.307858\n",
       "21   0.000172   0.307658\n",
       "22   0.000172   0.312858\n",
       "23   0.000172   0.311658\n",
       "24   0.000172   0.308858\n",
       "25   0.000097   0.307458\n",
       "26   0.000097   0.313058\n",
       "27   0.000097   0.309058\n",
       "28   0.000097   0.311458\n",
       "29   0.000062   0.307258\n",
       "30   0.000062   0.311258\n",
       "31   0.000062   0.309258\n",
       "32   0.000062   0.313258"
      ]
     },
     "metadata": {},
     "output_type": "display_data"
    },
    {
     "data": {
      "image/png": "[encoded data removed]",
      "text/plain": [
       "<Figure size 640x480 with 1 Axes>"
      ]
     },
     "metadata": {},
     "output_type": "display_data"
    },
    {
     "data": {
      "image/png": "[encoded data removed]",
      "text/plain": [
       "<Figure size 1500x400 with 1 Axes>"
      ]
     },
     "metadata": {},
     "output_type": "display_data"
    },
    {
     "data": {
      "image/png": "[encoded data removed]",
      "text/plain": [
       "<Figure size 1500x400 with 1 Axes>"
      ]
     },
     "metadata": {},
     "output_type": "display_data"
    }
   ],
   "source": [
    "import numpy as np\n",
    "import matplotlib.pyplot as plt\n",
    "import pandas as pd\n",
    "import sys\n",
    "import scipy.stats as sciStat\n",
    "\n",
    "\n",
    "import PySUSSIX.f90sussix.f90sussix as f90sussix\n",
    "from PySUSSIX.f90sussix.sussix import  F90Sussix\n",
    "\n",
    "import PySUSSIX.crosssussix.crossroutines as crossroutines\n",
    "import PySUSSIX.crosssussix.crosssussix as crosssussix\n",
    "import PySUSSIX.crosssussix.crossref as crossref\n",
    "\n",
    "import PySUSSIX.ducksussix.ducksussix as ducksussix\n",
    "\n",
    "\n",
    "# Creating dummy x,px\n",
    "def get_FFT(x):\n",
    "    x     = np.array(x)\n",
    "    turns = np.arange(1,len(x)+1)\n",
    "\n",
    "    freq  = np.fft.fftfreq(turns.shape[-1])\n",
    "    spectrum = np.fft.fft(x-np.mean(x))\n",
    "\n",
    "    idx      = np.argmax(np.abs(spectrum))\n",
    "    Qx       = freq[idx]\n",
    "    return freq[freq>0],np.abs(spectrum)[freq>0]\n",
    "\n",
    "\n",
    "\n",
    "Q0 = 0.31025793875089835\n",
    "Qs = 0.002\n",
    "dQ = Qs/10\n",
    "Jx = (0.5*(10**2))\n",
    "\n",
    "n_bands_Qs = 1\n",
    "n_bands_dQ = 5\n",
    "N   = np.arange(int(1e5))\n",
    "j   = np.arange(-n_bands_Qs,n_bands_Qs+1)\n",
    "i   = np.arange(-n_bands_dQ,n_bands_dQ+1)\n",
    "\n",
    "\n",
    "\n",
    "Ai  = sciStat.cauchy.pdf(i/np.max(i),0,0.05)\n",
    "Aj  = sciStat.cauchy.pdf(j/np.max(j),0,0.05)\n",
    "Ai  = Ai/np.max(Ai)\n",
    "Aj  = Aj/np.max(Aj)\n",
    "np.random.seed(0)\n",
    "phii = np.zeros(len(i))#np.random.uniform(-np.pi/2,np.pi/2,len(i))\n",
    "phij = np.zeros(len(j))#np.random.uniform(-np.pi/2,np.pi/2,len(j)) \n",
    "# x = sum([sum([ _Ai*_Aj * np.sin(2*np.pi*(Q0+ _j*Qs + _i*dQ)*N) for _i,_Ai in zip(i,Ai) ]) for _j,_Aj in zip(j,Aj) ])\n",
    "hx_full = sum([sum([ np.sqrt(2*Jx)*_Ai*_Aj * np.exp(1j*2*np.pi*(Q0+ _j*Qs + _i*dQ)*N + _phii + _phij) for _i,_Ai,_phii in zip(i,Ai,phii) ]) for _j,_Aj,_phij in zip(j,Aj,phij) ])\n",
    "x  = hx_full.real\n",
    "px = hx_full.imag\n",
    "\n",
    "expected = pd.DataFrame({'amplitude':np.array([[ (np.sqrt(2*Jx)*_Ai*_Aj) for _i,_Ai,_phii in zip(i,Ai,phii) ] for _j,_Aj,_phij in zip(j,Aj,phij) ]).flatten(),\n",
    "                         'frequency':np.array([[Q0+ _j*Qs + _i*dQ for _i,_Ai,_phii in zip(i,Ai,phii) ] for _j,_Aj,_phij in zip(j,Aj,phij) ]).flatten()})\n",
    "expected.sort_values(by='amplitude',ascending=False,inplace=True)\n",
    "expected.reset_index(drop=True,inplace=True)\n",
    "plt.figure()\n",
    "plt.plot(x,px,'o',alpha=0.002)\n",
    "plt.axis('square')\n",
    "plt.xlabel('x')\n",
    "plt.ylabel('px')\n",
    "\n",
    "\n",
    "plt.figure(figsize=(15,4))\n",
    "freq,spectrum = get_FFT(x)\n",
    "plt.plot(freq,spectrum/np.max(spectrum),'-')\n",
    "plt.yscale('log')\n",
    "plt.xlim(Q0-10*Qs,Q0+10*Qs)\n",
    "plt.xlabel('Frequency')\n",
    "plt.ylabel('|amplitude|')\n",
    "\n",
    "plt.figure(figsize=(15,4))\n",
    "freq,spectrum = get_FFT(x)\n",
    "plt.plot(freq,spectrum/np.max(spectrum),'-')\n",
    "plt.yscale('log')\n",
    "# plt.xlim(Q0-10*dQ,Q0+10*dQ)\n",
    "plt.xlim(Q0-1*Qs,Q0+1*Qs)\n",
    "plt.xlabel('Frequency')\n",
    "plt.ylabel('|amplitude|')\n",
    "\n",
    "display(expected)\n"
   ]
  },
  {
   "cell_type": "markdown",
   "metadata": {},
   "source": [
    "---\n",
    "# Sussix\n",
    "---"
   ]
  },
  {
   "cell_type": "code",
   "execution_count": 3,
   "metadata": {},
   "outputs": [
    {
     "data": {
      "text/plain": [
       "'cross DATSPE X'"
      ]
     },
     "metadata": {},
     "output_type": "display_data"
    },
    {
     "data": {
      "text/html": [
       "<div>\n",
       "<style scoped>\n",
       "    .dataframe tbody tr th:only-of-type {\n",
       "        vertical-align: middle;\n",
       "    }\n",
       "\n",
       "    .dataframe tbody tr th {\n",
       "        vertical-align: top;\n",
       "    }\n",
       "\n",
       "    .dataframe thead th {\n",
       "        text-align: right;\n",
       "    }\n",
       "</style>\n",
       "<table border=\"1\" class=\"dataframe\">\n",
       "  <thead>\n",
       "    <tr style=\"text-align: right;\">\n",
       "      <th></th>\n",
       "      <th>zxpes</th>\n",
       "      <th>txa</th>\n",
       "    </tr>\n",
       "  </thead>\n",
       "  <tbody>\n",
       "    <tr>\n",
       "      <th>0</th>\n",
       "      <td>10.000000+ 0.000000j</td>\n",
       "      <td>0.310258</td>\n",
       "    </tr>\n",
       "    <tr>\n",
       "      <th>1</th>\n",
       "      <td>0.586582+ 0.046736j</td>\n",
       "      <td>0.310055</td>\n",
       "    </tr>\n",
       "    <tr>\n",
       "      <th>2</th>\n",
       "      <td>0.584590- 0.071759j</td>\n",
       "      <td>0.310462</td>\n",
       "    </tr>\n",
       "    <tr>\n",
       "      <th>3</th>\n",
       "      <td>0.133997- 0.071429j</td>\n",
       "      <td>0.310674</td>\n",
       "    </tr>\n",
       "    <tr>\n",
       "      <th>4</th>\n",
       "      <td>0.140243+ 0.060569j</td>\n",
       "      <td>0.309845</td>\n",
       "    </tr>\n",
       "    <tr>\n",
       "      <th>5</th>\n",
       "      <td>0.038346- 0.054825j</td>\n",
       "      <td>0.310889</td>\n",
       "    </tr>\n",
       "    <tr>\n",
       "      <th>6</th>\n",
       "      <td>0.044168+ 0.050824j</td>\n",
       "      <td>0.309631</td>\n",
       "    </tr>\n",
       "    <tr>\n",
       "      <th>7</th>\n",
       "      <td>0.004749- 0.036770j</td>\n",
       "      <td>0.311104</td>\n",
       "    </tr>\n",
       "    <tr>\n",
       "      <th>8</th>\n",
       "      <td>0.009161+ 0.036156j</td>\n",
       "      <td>0.309416</td>\n",
       "    </tr>\n",
       "    <tr>\n",
       "      <th>9</th>\n",
       "      <td>0.024917+ 0.000155j</td>\n",
       "      <td>0.312258</td>\n",
       "    </tr>\n",
       "    <tr>\n",
       "      <th>10</th>\n",
       "      <td>0.024921- 0.000143j</td>\n",
       "      <td>0.308258</td>\n",
       "    </tr>\n",
       "    <tr>\n",
       "      <th>11</th>\n",
       "      <td>0.010638- 0.018084j</td>\n",
       "      <td>0.311291</td>\n",
       "    </tr>\n",
       "    <tr>\n",
       "      <th>12</th>\n",
       "      <td>0.012426+ 0.017403j</td>\n",
       "      <td>0.309228</td>\n",
       "    </tr>\n",
       "    <tr>\n",
       "      <th>13</th>\n",
       "      <td>-0.014860+ 0.002104j</td>\n",
       "      <td>0.310362</td>\n",
       "    </tr>\n",
       "    <tr>\n",
       "      <th>14</th>\n",
       "      <td>-0.008368- 0.004418j</td>\n",
       "      <td>0.310142</td>\n",
       "    </tr>\n",
       "    <tr>\n",
       "      <th>15</th>\n",
       "      <td>-0.000646- 0.004499j</td>\n",
       "      <td>0.309913</td>\n",
       "    </tr>\n",
       "    <tr>\n",
       "      <th>16</th>\n",
       "      <td>-0.003855+ 0.003614j</td>\n",
       "      <td>0.310482</td>\n",
       "    </tr>\n",
       "    <tr>\n",
       "      <th>17</th>\n",
       "      <td>-0.000842+ 0.004994j</td>\n",
       "      <td>0.310603</td>\n",
       "    </tr>\n",
       "    <tr>\n",
       "      <th>18</th>\n",
       "      <td>-0.002474- 0.003124j</td>\n",
       "      <td>0.310029</td>\n",
       "    </tr>\n",
       "    <tr>\n",
       "      <th>19</th>\n",
       "      <td>-0.000424- 0.003229j</td>\n",
       "      <td>0.311412</td>\n",
       "    </tr>\n",
       "    <tr>\n",
       "      <th>20</th>\n",
       "      <td>0.002771- 0.001698j</td>\n",
       "      <td>0.311175</td>\n",
       "    </tr>\n",
       "    <tr>\n",
       "      <th>21</th>\n",
       "      <td>-0.000134+ 0.003042j</td>\n",
       "      <td>0.309107</td>\n",
       "    </tr>\n",
       "    <tr>\n",
       "      <th>22</th>\n",
       "      <td>0.002861+ 0.001330j</td>\n",
       "      <td>0.309344</td>\n",
       "    </tr>\n",
       "    <tr>\n",
       "      <th>23</th>\n",
       "      <td>0.000215+ 0.002933j</td>\n",
       "      <td>0.310710</td>\n",
       "    </tr>\n",
       "    <tr>\n",
       "      <th>24</th>\n",
       "      <td>0.001412+ 0.002553j</td>\n",
       "      <td>0.310824</td>\n",
       "    </tr>\n",
       "    <tr>\n",
       "      <th>25</th>\n",
       "      <td>-0.000119- 0.002762j</td>\n",
       "      <td>0.309809</td>\n",
       "    </tr>\n",
       "    <tr>\n",
       "      <th>26</th>\n",
       "      <td>0.000997- 0.002883j</td>\n",
       "      <td>0.309697</td>\n",
       "    </tr>\n",
       "    <tr>\n",
       "      <th>27</th>\n",
       "      <td>-0.001137- 0.002701j</td>\n",
       "      <td>0.309921</td>\n",
       "    </tr>\n",
       "    <tr>\n",
       "      <th>28</th>\n",
       "      <td>-0.004285- 0.000336j</td>\n",
       "      <td>0.310255</td>\n",
       "    </tr>\n",
       "    <tr>\n",
       "      <th>29</th>\n",
       "      <td>-0.003382- 0.001337j</td>\n",
       "      <td>0.310146</td>\n",
       "    </tr>\n",
       "    <tr>\n",
       "      <th>30</th>\n",
       "      <td>-0.002049- 0.001988j</td>\n",
       "      <td>0.310033</td>\n",
       "    </tr>\n",
       "    <tr>\n",
       "      <th>31</th>\n",
       "      <td>0.000042- 0.002594j</td>\n",
       "      <td>0.309807</td>\n",
       "    </tr>\n",
       "    <tr>\n",
       "      <th>32</th>\n",
       "      <td>-0.004097+ 0.001640j</td>\n",
       "      <td>0.310370</td>\n",
       "    </tr>\n",
       "  </tbody>\n",
       "</table>\n",
       "</div>"
      ],
      "text/plain": [
       "                   zxpes       txa\n",
       "0   10.000000+ 0.000000j  0.310258\n",
       "1    0.586582+ 0.046736j  0.310055\n",
       "2    0.584590- 0.071759j  0.310462\n",
       "3    0.133997- 0.071429j  0.310674\n",
       "4    0.140243+ 0.060569j  0.309845\n",
       "5    0.038346- 0.054825j  0.310889\n",
       "6    0.044168+ 0.050824j  0.309631\n",
       "7    0.004749- 0.036770j  0.311104\n",
       "8    0.009161+ 0.036156j  0.309416\n",
       "9    0.024917+ 0.000155j  0.312258\n",
       "10   0.024921- 0.000143j  0.308258\n",
       "11   0.010638- 0.018084j  0.311291\n",
       "12   0.012426+ 0.017403j  0.309228\n",
       "13  -0.014860+ 0.002104j  0.310362\n",
       "14  -0.008368- 0.004418j  0.310142\n",
       "15  -0.000646- 0.004499j  0.309913\n",
       "16  -0.003855+ 0.003614j  0.310482\n",
       "17  -0.000842+ 0.004994j  0.310603\n",
       "18  -0.002474- 0.003124j  0.310029\n",
       "19  -0.000424- 0.003229j  0.311412\n",
       "20   0.002771- 0.001698j  0.311175\n",
       "21  -0.000134+ 0.003042j  0.309107\n",
       "22   0.002861+ 0.001330j  0.309344\n",
       "23   0.000215+ 0.002933j  0.310710\n",
       "24   0.001412+ 0.002553j  0.310824\n",
       "25  -0.000119- 0.002762j  0.309809\n",
       "26   0.000997- 0.002883j  0.309697\n",
       "27  -0.001137- 0.002701j  0.309921\n",
       "28  -0.004285- 0.000336j  0.310255\n",
       "29  -0.003382- 0.001337j  0.310146\n",
       "30  -0.002049- 0.001988j  0.310033\n",
       "31   0.000042- 0.002594j  0.309807\n",
       "32  -0.004097+ 0.001640j  0.310370"
      ]
     },
     "metadata": {},
     "output_type": "display_data"
    },
    {
     "data": {
      "text/plain": [
       "'duck DATSPE X'"
      ]
     },
     "metadata": {},
     "output_type": "display_data"
    },
    {
     "data": {
      "text/html": [
       "<div>\n",
       "<style scoped>\n",
       "    .dataframe tbody tr th:only-of-type {\n",
       "        vertical-align: middle;\n",
       "    }\n",
       "\n",
       "    .dataframe tbody tr th {\n",
       "        vertical-align: top;\n",
       "    }\n",
       "\n",
       "    .dataframe thead th {\n",
       "        text-align: right;\n",
       "    }\n",
       "</style>\n",
       "<table border=\"1\" class=\"dataframe\">\n",
       "  <thead>\n",
       "    <tr style=\"text-align: right;\">\n",
       "      <th></th>\n",
       "      <th>amplitude</th>\n",
       "      <th>frequency</th>\n",
       "    </tr>\n",
       "  </thead>\n",
       "  <tbody>\n",
       "    <tr>\n",
       "      <th>0</th>\n",
       "      <td>10.000000- 0.000000j</td>\n",
       "      <td>0.310258</td>\n",
       "    </tr>\n",
       "    <tr>\n",
       "      <th>1</th>\n",
       "      <td>0.586582+ 0.046736j</td>\n",
       "      <td>0.310055</td>\n",
       "    </tr>\n",
       "    <tr>\n",
       "      <th>2</th>\n",
       "      <td>0.584590- 0.071759j</td>\n",
       "      <td>0.310462</td>\n",
       "    </tr>\n",
       "    <tr>\n",
       "      <th>3</th>\n",
       "      <td>0.133997- 0.071429j</td>\n",
       "      <td>0.310674</td>\n",
       "    </tr>\n",
       "    <tr>\n",
       "      <th>4</th>\n",
       "      <td>0.140243+ 0.060569j</td>\n",
       "      <td>0.309845</td>\n",
       "    </tr>\n",
       "    <tr>\n",
       "      <th>5</th>\n",
       "      <td>0.038346- 0.054825j</td>\n",
       "      <td>0.310889</td>\n",
       "    </tr>\n",
       "    <tr>\n",
       "      <th>6</th>\n",
       "      <td>0.044168+ 0.050824j</td>\n",
       "      <td>0.309631</td>\n",
       "    </tr>\n",
       "    <tr>\n",
       "      <th>7</th>\n",
       "      <td>0.004749- 0.036770j</td>\n",
       "      <td>0.311104</td>\n",
       "    </tr>\n",
       "    <tr>\n",
       "      <th>8</th>\n",
       "      <td>0.009161+ 0.036156j</td>\n",
       "      <td>0.309416</td>\n",
       "    </tr>\n",
       "    <tr>\n",
       "      <th>9</th>\n",
       "      <td>0.024917+ 0.000155j</td>\n",
       "      <td>0.312258</td>\n",
       "    </tr>\n",
       "    <tr>\n",
       "      <th>10</th>\n",
       "      <td>0.024921- 0.000143j</td>\n",
       "      <td>0.308258</td>\n",
       "    </tr>\n",
       "    <tr>\n",
       "      <th>11</th>\n",
       "      <td>0.010638- 0.018084j</td>\n",
       "      <td>0.311291</td>\n",
       "    </tr>\n",
       "    <tr>\n",
       "      <th>12</th>\n",
       "      <td>0.012426+ 0.017403j</td>\n",
       "      <td>0.309228</td>\n",
       "    </tr>\n",
       "    <tr>\n",
       "      <th>13</th>\n",
       "      <td>-0.014860+ 0.002104j</td>\n",
       "      <td>0.310362</td>\n",
       "    </tr>\n",
       "    <tr>\n",
       "      <th>14</th>\n",
       "      <td>-0.008368- 0.004418j</td>\n",
       "      <td>0.310142</td>\n",
       "    </tr>\n",
       "    <tr>\n",
       "      <th>15</th>\n",
       "      <td>-0.000646- 0.004499j</td>\n",
       "      <td>0.309913</td>\n",
       "    </tr>\n",
       "    <tr>\n",
       "      <th>16</th>\n",
       "      <td>-0.003855+ 0.003614j</td>\n",
       "      <td>0.310482</td>\n",
       "    </tr>\n",
       "    <tr>\n",
       "      <th>17</th>\n",
       "      <td>-0.000842+ 0.004994j</td>\n",
       "      <td>0.310603</td>\n",
       "    </tr>\n",
       "    <tr>\n",
       "      <th>18</th>\n",
       "      <td>-0.002474- 0.003124j</td>\n",
       "      <td>0.310029</td>\n",
       "    </tr>\n",
       "    <tr>\n",
       "      <th>19</th>\n",
       "      <td>-0.000424- 0.003229j</td>\n",
       "      <td>0.311412</td>\n",
       "    </tr>\n",
       "    <tr>\n",
       "      <th>20</th>\n",
       "      <td>0.002771- 0.001698j</td>\n",
       "      <td>0.311175</td>\n",
       "    </tr>\n",
       "    <tr>\n",
       "      <th>21</th>\n",
       "      <td>-0.000134+ 0.003042j</td>\n",
       "      <td>0.309107</td>\n",
       "    </tr>\n",
       "    <tr>\n",
       "      <th>22</th>\n",
       "      <td>0.002861+ 0.001330j</td>\n",
       "      <td>0.309344</td>\n",
       "    </tr>\n",
       "    <tr>\n",
       "      <th>23</th>\n",
       "      <td>0.000215+ 0.002933j</td>\n",
       "      <td>0.310710</td>\n",
       "    </tr>\n",
       "    <tr>\n",
       "      <th>24</th>\n",
       "      <td>0.001412+ 0.002553j</td>\n",
       "      <td>0.310824</td>\n",
       "    </tr>\n",
       "    <tr>\n",
       "      <th>25</th>\n",
       "      <td>-0.000119- 0.002762j</td>\n",
       "      <td>0.309809</td>\n",
       "    </tr>\n",
       "    <tr>\n",
       "      <th>26</th>\n",
       "      <td>0.000997- 0.002883j</td>\n",
       "      <td>0.309697</td>\n",
       "    </tr>\n",
       "    <tr>\n",
       "      <th>27</th>\n",
       "      <td>-0.001137- 0.002701j</td>\n",
       "      <td>0.309921</td>\n",
       "    </tr>\n",
       "    <tr>\n",
       "      <th>28</th>\n",
       "      <td>-0.004285- 0.000336j</td>\n",
       "      <td>0.310255</td>\n",
       "    </tr>\n",
       "    <tr>\n",
       "      <th>29</th>\n",
       "      <td>-0.003382- 0.001337j</td>\n",
       "      <td>0.310146</td>\n",
       "    </tr>\n",
       "    <tr>\n",
       "      <th>30</th>\n",
       "      <td>-0.002049- 0.001988j</td>\n",
       "      <td>0.310033</td>\n",
       "    </tr>\n",
       "    <tr>\n",
       "      <th>31</th>\n",
       "      <td>0.000042- 0.002594j</td>\n",
       "      <td>0.309807</td>\n",
       "    </tr>\n",
       "    <tr>\n",
       "      <th>32</th>\n",
       "      <td>-0.004097+ 0.001640j</td>\n",
       "      <td>0.310370</td>\n",
       "    </tr>\n",
       "  </tbody>\n",
       "</table>\n",
       "</div>"
      ],
      "text/plain": [
       "               amplitude  frequency\n",
       "0   10.000000- 0.000000j   0.310258\n",
       "1    0.586582+ 0.046736j   0.310055\n",
       "2    0.584590- 0.071759j   0.310462\n",
       "3    0.133997- 0.071429j   0.310674\n",
       "4    0.140243+ 0.060569j   0.309845\n",
       "5    0.038346- 0.054825j   0.310889\n",
       "6    0.044168+ 0.050824j   0.309631\n",
       "7    0.004749- 0.036770j   0.311104\n",
       "8    0.009161+ 0.036156j   0.309416\n",
       "9    0.024917+ 0.000155j   0.312258\n",
       "10   0.024921- 0.000143j   0.308258\n",
       "11   0.010638- 0.018084j   0.311291\n",
       "12   0.012426+ 0.017403j   0.309228\n",
       "13  -0.014860+ 0.002104j   0.310362\n",
       "14  -0.008368- 0.004418j   0.310142\n",
       "15  -0.000646- 0.004499j   0.309913\n",
       "16  -0.003855+ 0.003614j   0.310482\n",
       "17  -0.000842+ 0.004994j   0.310603\n",
       "18  -0.002474- 0.003124j   0.310029\n",
       "19  -0.000424- 0.003229j   0.311412\n",
       "20   0.002771- 0.001698j   0.311175\n",
       "21  -0.000134+ 0.003042j   0.309107\n",
       "22   0.002861+ 0.001330j   0.309344\n",
       "23   0.000215+ 0.002933j   0.310710\n",
       "24   0.001412+ 0.002553j   0.310824\n",
       "25  -0.000119- 0.002762j   0.309809\n",
       "26   0.000997- 0.002883j   0.309697\n",
       "27  -0.001137- 0.002701j   0.309921\n",
       "28  -0.004285- 0.000336j   0.310255\n",
       "29  -0.003382- 0.001337j   0.310146\n",
       "30  -0.002049- 0.001988j   0.310033\n",
       "31   0.000042- 0.002594j   0.309807\n",
       "32  -0.004097+ 0.001640j   0.310370"
      ]
     },
     "metadata": {},
     "output_type": "display_data"
    }
   ],
   "source": [
    "\n",
    "x,px = hx_full.real,hx_full.imag\n",
    "datspe_x,datspe_y,datspe_s = crosssussix.datspe(x,px,\n",
    "                                                0*x,0*px,\n",
    "                                                0*x,0*px,\n",
    "                                                number_of_harmonics = len(expected),method = 'hanning',return_values = True)\n",
    "# ordres_x,ordres_y,ordres_s  = crosssussix.ordres(len(part.x_sig),tune_estimate = [0.31,0.32,0.0018],number_of_harmonics = 5,return_values = True)\n",
    "\n",
    "results = ducksussix.datspe(x       = x, \n",
    "                            px      = px,\n",
    "                            y       = 0*x,\n",
    "                            py      = 0*x,\n",
    "                            zeta    = 0*x,\n",
    "                            pzeta   = 0*x,\n",
    "                            number_of_harmonics = len(expected),method = 'hanning')\n",
    "\n",
    "\n",
    "# results['x']\n",
    "display('cross DATSPE X',datspe_x)\n",
    "display('duck DATSPE X',results['x'])\n",
    "# display('DATSPE S',datspe_s)\n",
    "# display('ORDRES X',ordres_x)\n",
    "# display('ORDRES Y',ordres_y)\n",
    "# display('ORDRES S',ordres_s)"
   ]
  },
  {
   "cell_type": "code",
   "execution_count": 2,
   "metadata": {},
   "outputs": [
    {
     "data": {
      "text/plain": [
       "33"
      ]
     },
     "execution_count": 2,
     "metadata": {},
     "output_type": "execute_result"
    }
   ],
   "source": []
  },
  {
   "cell_type": "code",
   "execution_count": null,
   "metadata": {},
   "outputs": [],
   "source": [
    "import NAFFlib\n",
    "def NAFFlib_tune(x,nfreqs = 1,Hann_order=1):\n",
    "        x        = np.array(x)\n",
    "        Q,A,An  = NAFFlib.get_tunes(x, nfreqs, Hann_order)\n",
    "\n",
    "        if nfreqs ==1:\n",
    "            return Q[0]\n",
    "        else:\n",
    "            \n",
    "            return Q,np.abs(A)\n",
    "naff_Q,naff_A = NAFFlib_tune(hx_full,nfreqs=len(expected),Hann_order=1)\n",
    "naff_results = pd.DataFrame({'amplitude':naff_A,'frequency':naff_Q})\n"
   ]
  },
  {
   "cell_type": "code",
   "execution_count": 4,
   "metadata": {},
   "outputs": [
    {
     "data": {
      "text/plain": [
       "(0.30825793875089835, 0.31225793875089836)"
      ]
     },
     "execution_count": 4,
     "metadata": {},
     "output_type": "execute_result"
    },
    {
     "data": {
      "image/png": "[encoded data removed]",
      "text/plain": [
       "<Figure size 1500x400 with 1 Axes>"
      ]
     },
     "metadata": {},
     "output_type": "display_data"
    },
    {
     "data": {
      "image/png": "[encoded data removed]",
      "text/plain": [
       "<Figure size 1500x400 with 1 Axes>"
      ]
     },
     "metadata": {},
     "output_type": "display_data"
    }
   ],
   "source": [
    "plt.figure(figsize=(15,4))\n",
    "plt.plot()\n",
    "plt.plot(expected['frequency'],expected['amplitude'],'o',label='expected')\n",
    "plt.plot(results['x']['frequency'],np.abs(results['x']['amplitude']),'.',label='ducksussix')\n",
    "plt.plot(datspe_x['txa'],np.abs(datspe_x['zxpes']),'x',label='crosssussix')\n",
    "# plt.plot(naff_results['frequency'],np.abs(naff_results['amplitude']),'+',label='NAFF')\n",
    "plt.yscale('log')\n",
    "plt.legend(title=f'N points: {len(hx_full):.0e}')\n",
    "plt.xlabel('frequency')\n",
    "plt.ylabel('|amplitude|')\n",
    "plt.xlim(Q0-6*Qs,Q0+6*Qs)\n",
    "\n",
    "plt.figure(figsize=(15,4))\n",
    "plt.plot()\n",
    "plt.plot(expected['frequency'],expected['amplitude'],'o',label='expected')\n",
    "plt.plot(results['x']['frequency'],np.abs(results['x']['amplitude']),'.',label='ducksussix')\n",
    "plt.plot(datspe_x['txa'],np.abs(datspe_x['zxpes']),'x',label='crosssussix')\n",
    "# plt.plot(naff_results['frequency'],np.abs(naff_results['amplitude']),'+',label='NAFF')\n",
    "plt.yscale('log')\n",
    "plt.legend(title=f'N points: {len(hx_full):.0e}')\n",
    "plt.xlabel('frequency')\n",
    "plt.ylabel('|amplitude|')\n",
    "plt.xlim(Q0-10*dQ,Q0+10*dQ)"
   ]
  },
  {
   "cell_type": "markdown",
   "metadata": {},
   "source": [
    "---\n",
    "# Root finding\n",
    "---"
   ]
  },
  {
   "cell_type": "code",
   "execution_count": 18,
   "metadata": {},
   "outputs": [
    {
     "data": {
      "text/plain": [
       "0"
      ]
     },
     "execution_count": 18,
     "metadata": {},
     "output_type": "execute_result"
    }
   ],
   "source": [
    "test = 0\n",
    "test.real"
   ]
  },
  {
   "cell_type": "code",
   "execution_count": 3,
   "metadata": {},
   "outputs": [
    {
     "name": "stdout",
     "output_type": "stream",
     "text": [
      "**\n",
      "0\n",
      "0.3102579387508983 (10.000000000000044+1.1102289811276505e-10j)\n",
      "0.31025793875089835 (1000000.0000007827+2.154541739526195e-07j)\n",
      "----------------------------------------\n",
      " test:  0.31025793875089835        0.0000000000000000        0.0000000000000000        0.0000000000000000        0.0000000000000000        0.0000000000000000        0.0000000000000000        0.0000000000000000        0.0000000000000000        0.0000000000000000     \n",
      "**\n",
      "1\n",
      "0.3100579386126268 (0.5882352936352018+2.5552010583290143e-05j)\n",
      "0.3100579386126268 (58823.529363531634+2.555201022141953j)\n",
      "----------------------------------------\n",
      " test:  0.31005793861262682        0.0000000000000000        0.0000000000000000        0.0000000000000000        0.0000000000000000        0.0000000000000000        0.0000000000000000        0.0000000000000000        0.0000000000000000        0.0000000000000000     \n",
      "**\n",
      "2\n",
      "0.31045793901038155 (0.5882352925458295-4.795142206273571e-05j)\n",
      "0.3104579390103815 (58823.529254711524-4.795141543136833j)\n",
      "----------------------------------------\n",
      " test:  0.31045793901038149        0.0000000000000000        0.0000000000000000        0.0000000000000000        0.0000000000000000        0.0000000000000000        0.0000000000000000        0.0000000000000000        0.0000000000000000        0.0000000000000000     \n",
      "**\n",
      "3\n",
      "0.30985793829882036 (0.15384615154881037+2.1849486384463017e-05j)\n",
      "0.30985793829882036 (15384.615154892694+2.184948627418734j)\n",
      "----------------------------------------\n",
      " test:  0.30985793829882036        0.0000000000000000        0.0000000000000000        0.0000000000000000        0.0000000000000000        0.0000000000000000        0.0000000000000000        0.0000000000000000        0.0000000000000000        0.0000000000000000     \n",
      "**\n",
      "4\n",
      "0.3106579392181344 (0.1538461505439213-2.2582093536063116e-05j)\n",
      "0.31065793921813434 (15384.615054384773-2.2582091928086157j)\n",
      "----------------------------------------\n",
      " test:  0.31065793921813434        0.0000000000000000        0.0000000000000000        0.0000000000000000        0.0000000000000000        0.0000000000000000        0.0000000000000000        0.0000000000000000        0.0000000000000000        0.0000000000000000     \n",
      "**\n",
      "5\n",
      "0.3096579381644412 (0.06896551526216509+1.2706019377713884e-05j)\n",
      "0.3096579381644412 (6896.551526206791+1.2706019425481674j)\n",
      "----------------------------------------\n",
      " test:  0.30965793816444120        0.0000000000000000        0.0000000000000000        0.0000000000000000        0.0000000000000000        0.0000000000000000        0.0000000000000000        0.0000000000000000        0.0000000000000000        0.0000000000000000     \n",
      "**\n",
      "6\n",
      "0.3108579393418452 (0.06896551509399992-1.2803292436735674e-05j)\n",
      "0.3108579393418452 (6896.55150940319-1.2803292386329914j)\n",
      "----------------------------------------\n",
      " test:  0.31085793934184519        0.0000000000000000        0.0000000000000000        0.0000000000000000        0.0000000000000000        0.0000000000000000        0.0000000000000000        0.0000000000000000        0.0000000000000000        0.0000000000000000     \n",
      "**\n",
      "7\n",
      "0.30945793812575795 (0.038910504551937924+7.641624289842923e-06j)\n",
      "0.309457938125758 (3891.0504551848207+0.7641623823177267j)\n",
      "----------------------------------------\n",
      " test:  0.30945793812575800        0.0000000000000000        0.0000000000000000        0.0000000000000000        0.0000000000000000        0.0000000000000000        0.0000000000000000        0.0000000000000000        0.0000000000000000        0.0000000000000000     \n",
      "**\n",
      "8\n",
      "0.3110579393779326 (0.03891050450076088-7.664774081315589e-06j)\n",
      "0.3110579393779325 (3891.050450069812-0.7664773702711142j)\n",
      "----------------------------------------\n",
      " test:  0.31105793937793252        0.0000000000000000        0.0000000000000000        0.0000000000000000        0.0000000000000000        0.0000000000000000        0.0000000000000000        0.0000000000000000        0.0000000000000000        0.0000000000000000     \n",
      "**\n",
      "9\n",
      "0.30825793875908225 (0.024937655856580088-6.411448538000059e-08j)\n",
      "0.30825793875908225 (2493.7655856545907-0.00641144981464125j)\n",
      "----------------------------------------\n",
      " test:  0.30825793875908225        0.0000000000000000        0.0000000000000000        0.0000000000000000        0.0000000000000000        0.0000000000000000        0.0000000000000000        0.0000000000000000        0.0000000000000000        0.0000000000000000     \n"
     ]
    }
   ],
   "source": [
    "\n",
    "\n",
    "\n",
    "\n",
    "def tunenewt(x,px,hanning_order = 1):\n",
    "    \"\"\"COMPUTES THE TUNE USING A DISCRETE VERSION OF LASKAR METHOD.\n",
    "        IT INCLUDES A NEWTON METHOD FOR THE SEARCH OF THE FREQUENCY.\"\"\"\n",
    "\n",
    "    # Estimation of Tune with FFT\n",
    "    maxn = len(x)\n",
    "    mft = int(np.log2(maxn))\n",
    "    npoint = 2**mft\n",
    "    maxn2 = maxn // 2\n",
    "    step = 2 * np.pi / maxn\n",
    "\n",
    "    mf_values = np.arange(1, maxn +1)\n",
    "\n",
    "\n",
    "    z = (np.array(x) + 1j *np.array(px)) * (1.0 + np.cos(step * (mf_values - maxn2)))\n",
    "\n",
    "    # N    = np.arange(len(x))\n",
    "    # z2   = np.array(x) + 1j*np.array(px)\n",
    "    # z2_w = z# * ducksussix.Hann(N, Nt=len(z),p=1)\n",
    "    # print(z)\n",
    "    # print(z2_w)\n",
    "\n",
    "    # Search for maximum in Fourier spectrum\n",
    "    # zsing = crossroutines.cfft(z)\n",
    "    zsing = np.fft.fft(z[:npoint])\n",
    "    ftmax = np.max(np.abs(zsing[:npoint]))\n",
    "    nftmax = np.argmax(np.abs(zsing[:npoint]))\n",
    "    \n",
    "    tunefou = float(nftmax ) / float(npoint)\n",
    "    \n",
    "    if tunefou >= 0.5:\n",
    "        tunefou = -(1.0 - tunefou)\n",
    "    deltat = 1.0 / float(npoint)\n",
    "\n",
    "    \n",
    "    tune1 = tunefou - deltat\n",
    "    \n",
    "    \n",
    "    # Call zfun\n",
    "    # print('est:',tune1)\n",
    "    tune,zw = crossroutines.zfunr(z,tune1)\n",
    "    # print(tune,zw)\n",
    "\n",
    "    # def zfun(tune, z, maxn):\n",
    "    #     # Implementation of the function z(tune)\n",
    "    #     # Modify this based on your actual function\n",
    "    #     ztune = np.exp(-1j * 2 * np.pi * tune.real)\n",
    "    #     return np.polyval(z[::-1], ztune)\n",
    "\n",
    "    # def zfund(tune, z, maxn):\n",
    "    #     # Implementation of the function z(tune)\n",
    "    #     # Modify this based on your actual function\n",
    "\n",
    "    #     zd = 1j * np.arange(1, maxn + 1) * z\n",
    "    #     ztune = np.exp(-1j * 2 * np.pi * tune.real)\n",
    "    #     return np.polyval(zd[::-1], ztune)\n",
    "\n",
    "\n",
    "\n",
    "    # # Additional arguments to pass to the function and its derivative\n",
    "    # args = (z, len(z))\n",
    "\n",
    "    # # Tolerance for convergence\n",
    "    # tolerance = 1e-10\n",
    "\n",
    "    # # Use Newton's method with specified tolerance\n",
    "    # # from scipy.optimize import newton\n",
    "    # # result_tune = newton(zfun, tune1,fprime=zfund, args=args)\n",
    "    # # print(tune1)\n",
    "\n",
    "    # # print(result_tune)\n",
    "\n",
    "    return tune,zw\n",
    "\n",
    "\n",
    "number_of_harmonics = 10\n",
    "# initialisation\n",
    "x,px = hx_full.real,hx_full.imag\n",
    "z  = x + 1j*px\n",
    "N  = np.arange(len(x))\n",
    "\n",
    "\n",
    "frequencies = []\n",
    "amplitudes  = [] \n",
    "for _ in range(number_of_harmonics):\n",
    "\n",
    "    # Computing frequency and amplitude\n",
    "    print('**')\n",
    "    print(_)\n",
    "    # freq,zw = tunenewt(x,px)\n",
    "    # print(freq,zw)\n",
    "    freq,zw  = ducksussix.fundamental_frequency(x,px,Hann_order=1)\n",
    "    print(freq,zw)\n",
    "    freq2,zw2 = crossroutines.tunenewt(x,px)\n",
    "    print(freq2,zw2)\n",
    "    print(40*'-')\n",
    "    # freq,zw = crossroutines.tunenewt(x,px)\n",
    "    zpesi   = zw #/ max(N+1)\n",
    "\n",
    "    # Saving results\n",
    "    frequencies.append(freq)\n",
    "    amplitudes.append(zpesi)\n",
    "\n",
    "    # Substraction procedure\n",
    "    zgs  = zpesi * np.exp(2 * np.pi * 1j * freq * N)\n",
    "    z   -= zgs\n",
    "    x,px = np.real(z), np.imag(z)"
   ]
  },
  {
   "cell_type": "code",
   "execution_count": 18,
   "metadata": {},
   "outputs": [
    {
     "data": {
      "text/plain": [
       "0.30825793875089835"
      ]
     },
     "execution_count": 18,
     "metadata": {},
     "output_type": "execute_result"
    }
   ],
   "source": [
    "expected.loc[9].frequency"
   ]
  },
  {
   "cell_type": "code",
   "execution_count": 6,
   "metadata": {},
   "outputs": [
    {
     "data": {
      "text/plain": [
       "array([0, 1, 2, 3, 4, 5, 6, 7, 8, 9])"
      ]
     },
     "execution_count": 6,
     "metadata": {},
     "output_type": "execute_result"
    }
   ],
   "source": [
    "np.arange(10)"
   ]
  },
  {
   "cell_type": "code",
   "execution_count": 16,
   "metadata": {},
   "outputs": [
    {
     "data": {
      "text/plain": [
       "<matplotlib.legend.Legend at 0x2854cc550>"
      ]
     },
     "execution_count": 16,
     "metadata": {},
     "output_type": "execute_result"
    },
    {
     "data": {
      "image/png": "[encoded data removed]",
      "text/plain": [
       "<Figure size 640x480 with 1 Axes>"
      ]
     },
     "metadata": {},
     "output_type": "display_data"
    }
   ],
   "source": [
    "x,px = hx_full.real,hx_full.imag\n",
    "z  = x + 1j*px\n",
    "\n",
    "# Estimation of Tune with FFT\n",
    "maxn = len(x)\n",
    "mft = int(np.log2(maxn))\n",
    "npoint = 2**mft\n",
    "maxn2 = maxn // 2\n",
    "step = 2 * np.pi / maxn\n",
    "\n",
    "mf_values = np.arange(1, maxn +1)\n",
    "N   = np.arange(len(x))\n",
    "\n",
    "window_schmidt = (1.0 + np.cos(step * (mf_values - maxn2)))\n",
    "window_hann    = ducksussix.Hann(N, Nt=len(z),p=1)\n",
    "\n",
    "plt.figure()\n",
    "plt.plot(window_schmidt,'-',label='schmidt')\n",
    "plt.plot(window_hann,'-',label='hann')\n",
    "plt.legend()\n",
    "# # z = (np.array(x) + 1j *np.array(px)) * (1.0 + np.cos(step * (mf_values - maxn2)))\n",
    "\n",
    "# N    = np.arange(len(x))\n",
    "# z2   = np.array(x) + 1j*np.array(px)\n",
    "# z2_w = z# * ducksussix.Hann(N, Nt=len(z),p=1)"
   ]
  },
  {
   "cell_type": "code",
   "execution_count": 17,
   "metadata": {},
   "outputs": [
    {
     "data": {
      "text/plain": [
       "array([     1,      2,      3, ...,  99998,  99999, 100000])"
      ]
     },
     "execution_count": 17,
     "metadata": {},
     "output_type": "execute_result"
    }
   ],
   "source": [
    "mf_values"
   ]
  },
  {
   "cell_type": "code",
   "execution_count": 18,
   "metadata": {},
   "outputs": [
    {
     "data": {
      "text/plain": [
       "array([    0,     1,     2, ..., 99997, 99998, 99999])"
      ]
     },
     "execution_count": 18,
     "metadata": {},
     "output_type": "execute_result"
    }
   ],
   "source": [
    "N"
   ]
  },
  {
   "cell_type": "code",
   "execution_count": 14,
   "metadata": {},
   "outputs": [
    {
     "data": {
      "text/plain": [
       "array([1.97392092e-09, 7.89568355e-09, 1.77652879e-08, ...,\n",
       "       7.89568355e-09, 1.97392092e-09, 0.00000000e+00])"
      ]
     },
     "execution_count": 14,
     "metadata": {},
     "output_type": "execute_result"
    }
   ],
   "source": [
    "window_hann"
   ]
  },
  {
   "cell_type": "code",
   "execution_count": 15,
   "metadata": {},
   "outputs": [
    {
     "data": {
      "text/plain": [
       "array([1.97392092e-09, 7.89568355e-09, 1.77652879e-08, ...,\n",
       "       7.89568355e-09, 1.97392092e-09, 0.00000000e+00])"
      ]
     },
     "execution_count": 15,
     "metadata": {},
     "output_type": "execute_result"
    }
   ],
   "source": [
    "window_schmidt"
   ]
  },
  {
   "cell_type": "code",
   "execution_count": 144,
   "metadata": {},
   "outputs": [
    {
     "name": "stdout",
     "output_type": "stream",
     "text": [
      "0.31025793875089835 (1000000.0000007827+2.154541739526195e-07j)\n"
     ]
    },
    {
     "data": {
      "text/plain": [
       "<matplotlib.lines.Line2D at 0x178ea70a0>"
      ]
     },
     "execution_count": 144,
     "metadata": {},
     "output_type": "execute_result"
    },
    {
     "data": {
      "image/png": "[encoded data removed]",
      "text/plain": [
       "<Figure size 640x480 with 1 Axes>"
      ]
     },
     "metadata": {},
     "output_type": "display_data"
    }
   ],
   "source": [
    "def zfun(tune, z, maxn):\n",
    "    # Implementation of the function z(tune)\n",
    "    # Modify this based on your actual function\n",
    "    ztune = np.exp(-1j * 2 * np.pi * tune)\n",
    "    return np.abs(np.polyval(z[::-1], ztune))\n",
    "\n",
    "x,px = hx_full.real,hx_full.imag\n",
    "z  = x + 1j*px\n",
    "# Estimation of Tune with FFT\n",
    "maxn = len(x)\n",
    "mft = int(np.log2(maxn))\n",
    "npoint = 2**mft\n",
    "maxn2 = maxn // 2\n",
    "step = 2 * np.pi / maxn\n",
    "\n",
    "mf_values = np.arange(1, maxn +1)\n",
    "\n",
    "freq,zw = tunenewt(x,px)\n",
    "\n",
    "\n",
    "# Search for maximum in Fourier spectrum\n",
    "# zsing = crossroutines.cfft(z)\n",
    "zsing = np.fft.fft(z[:npoint])\n",
    "ftmax = np.max(np.abs(zsing[:npoint]))\n",
    "nftmax = np.argmax(np.abs(zsing[:npoint]))\n",
    "\n",
    "tunefou = float(nftmax ) / float(npoint)\n",
    "\n",
    "if tunefou >= 0.5:\n",
    "    tunefou = -(1.0 - tunefou)\n",
    "deltat = 1.0 / float(npoint)\n",
    "\n",
    "\n",
    "tune1 = tunefou - deltat\n",
    "\n",
    "z = (np.array(x) + 1j *np.array(px)) * (1.0 + np.cos(step * (mf_values - maxn2)))\n",
    "\n",
    "\n",
    "f_test = np.linspace(freq-0.5e-4,freq+0.5e-4,1000)\n",
    "\n",
    "value = [zfun(_f,z,len(z)) for _f in f_test]\n",
    "\n",
    "plt.figure()\n",
    "plt.plot(f_test,value)\n",
    "plt.axvline(freq)\n",
    "plt.axvline(tune1)"
   ]
  },
  {
   "cell_type": "code",
   "execution_count": 140,
   "metadata": {},
   "outputs": [
    {
     "data": {
      "text/plain": [
       "0.31024169921875"
      ]
     },
     "execution_count": 140,
     "metadata": {},
     "output_type": "execute_result"
    }
   ],
   "source": [
    "tune1"
   ]
  },
  {
   "cell_type": "code",
   "execution_count": 102,
   "metadata": {},
   "outputs": [
    {
     "data": {
      "text/plain": [
       "(0.31020793875089836, 0.31030793875089835)"
      ]
     },
     "execution_count": 102,
     "metadata": {},
     "output_type": "execute_result"
    },
    {
     "data": {
      "image/png": "[encoded data removed]",
      "text/plain": [
       "<Figure size 640x480 with 1 Axes>"
      ]
     },
     "metadata": {},
     "output_type": "display_data"
    }
   ],
   "source": [
    "plt.figure()\n",
    "plt.plot(f_test,value)\n",
    "plt.axvline(freq)\n",
    "plt.axvline(tune1)\n",
    "plt.xlim(freq-0.5e-4,freq+0.5e-4)"
   ]
  },
  {
   "cell_type": "code",
   "execution_count": 82,
   "metadata": {},
   "outputs": [
    {
     "data": {
      "text/plain": [
       "0.31024169921875"
      ]
     },
     "execution_count": 82,
     "metadata": {},
     "output_type": "execute_result"
    }
   ],
   "source": [
    "tune1"
   ]
  },
  {
   "cell_type": "code",
   "execution_count": 138,
   "metadata": {},
   "outputs": [],
   "source": [
    "\n",
    "scaling = 1e6\n",
    "from scipy.optimize import minimize\n",
    "def zfun(tune, z, maxn):\n",
    "    # Implementation of the function z(tune)\n",
    "    # Modify this based on your actual function\n",
    "    ztune = np.exp(-1j * 2 * np.pi * tune/scaling)\n",
    "    return np.log(np.abs(np.polyval(z[::-1], ztune)))\n",
    "\n",
    "def zfund(tune, z, maxn):\n",
    "    # Implementation of the function z(tune)\n",
    "    # Modify this based on your actual function\n",
    "\n",
    "    zd = 1j * np.arange(1, maxn + 1) * z\n",
    "    ztune = np.exp(-1j * 2 * np.pi * tune/scaling)\n",
    "    return np.log(np.abs(np.polyval(zd[::-1], ztune)))\n",
    "\n",
    "\n",
    "args = (z, len(z))\n",
    "results = minimize(zfun, x0=[tune1*scaling],jac=zfund, args=args)#,  bounds=[((tune1-1e-4)*scaling,(tune1+1e-4)*scaling)]))"
   ]
  },
  {
   "cell_type": "code",
   "execution_count": 139,
   "metadata": {},
   "outputs": [
    {
     "name": "stdout",
     "output_type": "stream",
     "text": [
      "0.31022048921875\n",
      "0.31025793875089835\n"
     ]
    }
   ],
   "source": [
    "print(results.x[0]/scaling)\n",
    "print(freq)"
   ]
  },
  {
   "cell_type": "code",
   "execution_count": 3,
   "metadata": {},
   "outputs": [
    {
     "ename": "AttributeError",
     "evalue": "'numpy.ndarray' object has no attribute 'values'",
     "output_type": "error",
     "traceback": [
      "\u001b[0;31m---------------------------------------------------------------------------\u001b[0m",
      "\u001b[0;31mAttributeError\u001b[0m                            Traceback (most recent call last)",
      "\u001b[1;32m/Users/pbelanger/ABPLocal/PySUSSIX/build_sussix.ipynb Cell 7\u001b[0m line \u001b[0;36m4\n\u001b[1;32m     <a href='vscode-notebook-cell:/Users/pbelanger/ABPLocal/PySUSSIX/build_sussix.ipynb#Y203sZmlsZQ%3D%3D?line=35'>36</a>\u001b[0m     \u001b[39mreturn\u001b[39;00m tune,zw\n\u001b[1;32m     <a href='vscode-notebook-cell:/Users/pbelanger/ABPLocal/PySUSSIX/build_sussix.ipynb#Y203sZmlsZQ%3D%3D?line=38'>39</a>\u001b[0m x,px \u001b[39m=\u001b[39m hx_full\u001b[39m.\u001b[39mreal,hx_full\u001b[39m.\u001b[39mimag\n\u001b[0;32m---> <a href='vscode-notebook-cell:/Users/pbelanger/ABPLocal/PySUSSIX/build_sussix.ipynb#Y203sZmlsZQ%3D%3D?line=39'>40</a>\u001b[0m \u001b[39mprint\u001b[39m(ducksussix\u001b[39m.\u001b[39;49mtunenewt(x,px,hanning_order \u001b[39m=\u001b[39;49m \u001b[39m1\u001b[39;49m))\n\u001b[1;32m     <a href='vscode-notebook-cell:/Users/pbelanger/ABPLocal/PySUSSIX/build_sussix.ipynb#Y203sZmlsZQ%3D%3D?line=40'>41</a>\u001b[0m \u001b[39mprint\u001b[39m(crosssussix\u001b[39m.\u001b[39mtunenewt(x,px,hanning_order \u001b[39m=\u001b[39m \u001b[39m1\u001b[39m))\n",
      "File \u001b[0;32m~/ABPLocal/PySUSSIX/PySUSSIX/ducksussix/ducksussix.py:31\u001b[0m, in \u001b[0;36mtunenewt\u001b[0;34m(x, px, hanning_order)\u001b[0m\n\u001b[1;32m     26\u001b[0m step \u001b[39m=\u001b[39m \u001b[39m2\u001b[39m \u001b[39m*\u001b[39m np\u001b[39m.\u001b[39mpi \u001b[39m/\u001b[39m maxn\n\u001b[1;32m     28\u001b[0m mf_values \u001b[39m=\u001b[39m np\u001b[39m.\u001b[39marange(\u001b[39m1\u001b[39m, maxn \u001b[39m+\u001b[39m \u001b[39m1\u001b[39m)\n\u001b[0;32m---> 31\u001b[0m z \u001b[39m=\u001b[39m (x \u001b[39m+\u001b[39;49m \u001b[39m1\u001b[39;49mj \u001b[39m*\u001b[39;49mpx)\u001b[39m.\u001b[39;49mvalues \u001b[39m*\u001b[39m (\u001b[39m1.0\u001b[39m \u001b[39m+\u001b[39m np\u001b[39m.\u001b[39mcos(step \u001b[39m*\u001b[39m (mf_values \u001b[39m-\u001b[39m maxn2)))\n\u001b[1;32m     34\u001b[0m \u001b[39m# Search for maximum in Fourier spectrum\u001b[39;00m\n\u001b[1;32m     35\u001b[0m zsing \u001b[39m=\u001b[39m crossroutines\u001b[39m.\u001b[39mcfft(z)\n",
      "\u001b[0;31mAttributeError\u001b[0m: 'numpy.ndarray' object has no attribute 'values'"
     ]
    }
   ],
   "source": [
    "\n",
    "\n",
    "\n",
    "x,px = hx_full.real,hx_full.imag\n",
    "print(ducksussix.tunenewt(x,px,hanning_order = 1))\n",
    "print(crosssussix.tunenewt(x,px,hanning_order = 1))"
   ]
  },
  {
   "cell_type": "code",
   "execution_count": null,
   "metadata": {},
   "outputs": [],
   "source": []
  },
  {
   "cell_type": "code",
   "execution_count": null,
   "metadata": {},
   "outputs": [],
   "source": []
  },
  {
   "cell_type": "code",
   "execution_count": null,
   "metadata": {},
   "outputs": [],
   "source": []
  },
  {
   "cell_type": "code",
   "execution_count": null,
   "metadata": {},
   "outputs": [],
   "source": []
  },
  {
   "cell_type": "code",
   "execution_count": null,
   "metadata": {},
   "outputs": [],
   "source": []
  },
  {
   "cell_type": "code",
   "execution_count": null,
   "metadata": {},
   "outputs": [
    {
     "name": "stdout",
     "output_type": "stream",
     "text": [
      "----------------------------------------\n",
      "(0.3102579387508983, (49999.99999998262+6.978776798095439e-08j))\n",
      "(0.3102579387508983, (49999.99999998262+6.978776798095439e-08j))\n",
      "----------------------------------------\n",
      "(-0.31481146763892404, (-23401.79975299315+99460.63001598419j))\n",
      "(-0.3148114676389241, (-23401.7997531048+99460.63001600423j))\n",
      "----------------------------------------\n",
      "(-0.31489727277909013, (52060.822822896924+62772.4182559299j))\n",
      "(-0.31489727277909013, (52060.822822896924+62772.4182559299j))\n"
     ]
    }
   ],
   "source": [
    "\n",
    "\n",
    "for part in [dummy,particle0,particle1]:\n",
    "    x,px = part.x_sig,part.px_sig\n",
    "    print(40*'-')\n",
    "    print(ducksussix.tunenewt(x,px))\n",
    "    print(crossroutines.tunenewt(x,px))"
   ]
  },
  {
   "cell_type": "code",
   "execution_count": null,
   "metadata": {},
   "outputs": [
    {
     "name": "stdout",
     "output_type": "stream",
     "text": [
      " Y TUNE DIFFERENT FROM EXPECTED\n",
      "  0.32026399999999999      -0.32000000000000001     \n",
      " EXPECTED TUNE Y NOT FOUND\n",
      " LINE 1 ASSUMED AS TUNE!!!\n"
     ]
    },
    {
     "data": {
      "text/plain": [
       "'cross DATSPE X'"
      ]
     },
     "metadata": {},
     "output_type": "display_data"
    },
    {
     "data": {
      "text/html": [
       "<div>\n",
       "<style scoped>\n",
       "    .dataframe tbody tr th:only-of-type {\n",
       "        vertical-align: middle;\n",
       "    }\n",
       "\n",
       "    .dataframe tbody tr th {\n",
       "        vertical-align: top;\n",
       "    }\n",
       "\n",
       "    .dataframe thead th {\n",
       "        text-align: right;\n",
       "    }\n",
       "</style>\n",
       "<table border=\"1\" class=\"dataframe\">\n",
       "  <thead>\n",
       "    <tr style=\"text-align: right;\">\n",
       "      <th></th>\n",
       "      <th>zxpes</th>\n",
       "      <th>txa</th>\n",
       "    </tr>\n",
       "  </thead>\n",
       "  <tbody>\n",
       "    <tr>\n",
       "      <th>0</th>\n",
       "      <td>5.000000e+00+6.978777e-                    12j</td>\n",
       "      <td>0.310258</td>\n",
       "    </tr>\n",
       "    <tr>\n",
       "      <th>1</th>\n",
       "      <td>2.500000e-01+1.869515e-                    13j</td>\n",
       "      <td>-0.389490</td>\n",
       "    </tr>\n",
       "    <tr>\n",
       "      <th>2</th>\n",
       "      <td>-1.660121e-12-1.153461e-                    12j</td>\n",
       "      <td>0.310334</td>\n",
       "    </tr>\n",
       "    <tr>\n",
       "      <th>3</th>\n",
       "      <td>1.353238e-12-1.346130e-                    13j</td>\n",
       "      <td>0.310176</td>\n",
       "    </tr>\n",
       "    <tr>\n",
       "      <th>4</th>\n",
       "      <td>-8.767324e-13-4.034402e-                    15j</td>\n",
       "      <td>-0.242232</td>\n",
       "    </tr>\n",
       "  </tbody>\n",
       "</table>\n",
       "</div>"
      ],
      "text/plain": [
       "                                            zxpes       txa\n",
       "0  5.000000e+00+6.978777e-                    12j  0.310258\n",
       "1  2.500000e-01+1.869515e-                    13j -0.389490\n",
       "2 -1.660121e-12-1.153461e-                    12j  0.310334\n",
       "3  1.353238e-12-1.346130e-                    13j  0.310176\n",
       "4 -8.767324e-13-4.034402e-                    15j -0.242232"
      ]
     },
     "metadata": {},
     "output_type": "display_data"
    },
    {
     "data": {
      "text/plain": [
       "'duck DATSPE X'"
      ]
     },
     "metadata": {},
     "output_type": "display_data"
    },
    {
     "data": {
      "text/html": [
       "<div>\n",
       "<style scoped>\n",
       "    .dataframe tbody tr th:only-of-type {\n",
       "        vertical-align: middle;\n",
       "    }\n",
       "\n",
       "    .dataframe tbody tr th {\n",
       "        vertical-align: top;\n",
       "    }\n",
       "\n",
       "    .dataframe thead th {\n",
       "        text-align: right;\n",
       "    }\n",
       "</style>\n",
       "<table border=\"1\" class=\"dataframe\">\n",
       "  <thead>\n",
       "    <tr style=\"text-align: right;\">\n",
       "      <th></th>\n",
       "      <th>amplitude</th>\n",
       "      <th>frequency</th>\n",
       "    </tr>\n",
       "  </thead>\n",
       "  <tbody>\n",
       "    <tr>\n",
       "      <th>0</th>\n",
       "      <td>5.000000e+00+6.978777e-                    12j</td>\n",
       "      <td>0.310258</td>\n",
       "    </tr>\n",
       "    <tr>\n",
       "      <th>1</th>\n",
       "      <td>2.500000e-01-3.975696e-                    13j</td>\n",
       "      <td>-0.389490</td>\n",
       "    </tr>\n",
       "    <tr>\n",
       "      <th>2</th>\n",
       "      <td>-1.358933e-12-2.405760e-                    12j</td>\n",
       "      <td>0.310310</td>\n",
       "    </tr>\n",
       "    <tr>\n",
       "      <th>3</th>\n",
       "      <td>1.164419e-14-1.297436e-                    12j</td>\n",
       "      <td>-0.242294</td>\n",
       "    </tr>\n",
       "    <tr>\n",
       "      <th>4</th>\n",
       "      <td>-1.822203e-14-1.297595e-                    12j</td>\n",
       "      <td>-0.137190</td>\n",
       "    </tr>\n",
       "  </tbody>\n",
       "</table>\n",
       "</div>"
      ],
      "text/plain": [
       "                                        amplitude  frequency\n",
       "0  5.000000e+00+6.978777e-                    12j   0.310258\n",
       "1  2.500000e-01-3.975696e-                    13j  -0.389490\n",
       "2 -1.358933e-12-2.405760e-                    12j   0.310310\n",
       "3  1.164419e-14-1.297436e-                    12j  -0.242294\n",
       "4 -1.822203e-14-1.297595e-                    12j  -0.137190"
      ]
     },
     "metadata": {},
     "output_type": "display_data"
    },
    {
     "data": {
      "text/plain": [
       "'ORDRES X'"
      ]
     },
     "metadata": {},
     "output_type": "display_data"
    },
    {
     "data": {
      "text/html": [
       "<div>\n",
       "<style scoped>\n",
       "    .dataframe tbody tr th:only-of-type {\n",
       "        vertical-align: middle;\n",
       "    }\n",
       "\n",
       "    .dataframe tbody tr th {\n",
       "        vertical-align: top;\n",
       "    }\n",
       "\n",
       "    .dataframe thead th {\n",
       "        text-align: right;\n",
       "    }\n",
       "</style>\n",
       "<table border=\"1\" class=\"dataframe\">\n",
       "  <thead>\n",
       "    <tr style=\"text-align: right;\">\n",
       "      <th></th>\n",
       "      <th>j</th>\n",
       "      <th>k</th>\n",
       "      <th>l</th>\n",
       "      <th>m</th>\n",
       "      <th>ax</th>\n",
       "      <th>fx</th>\n",
       "      <th>ox</th>\n",
       "    </tr>\n",
       "  </thead>\n",
       "  <tbody>\n",
       "    <tr>\n",
       "      <th>0</th>\n",
       "      <td>1</td>\n",
       "      <td>0</td>\n",
       "      <td>0</td>\n",
       "      <td>0</td>\n",
       "      <td>5.000000e+00</td>\n",
       "      <td>1.395755e-12</td>\n",
       "      <td>-0.310258</td>\n",
       "    </tr>\n",
       "    <tr>\n",
       "      <th>1</th>\n",
       "      <td>3</td>\n",
       "      <td>1</td>\n",
       "      <td>0</td>\n",
       "      <td>-1</td>\n",
       "      <td>2.500000e-01</td>\n",
       "      <td>7.478059e-13</td>\n",
       "      <td>0.389490</td>\n",
       "    </tr>\n",
       "    <tr>\n",
       "      <th>2</th>\n",
       "      <td>0</td>\n",
       "      <td>0</td>\n",
       "      <td>0</td>\n",
       "      <td>0</td>\n",
       "      <td>2.021503e-12</td>\n",
       "      <td>-2.534362e+00</td>\n",
       "      <td>-0.310334</td>\n",
       "    </tr>\n",
       "    <tr>\n",
       "      <th>3</th>\n",
       "      <td>0</td>\n",
       "      <td>0</td>\n",
       "      <td>0</td>\n",
       "      <td>0</td>\n",
       "      <td>1.359917e-12</td>\n",
       "      <td>-9.914859e-02</td>\n",
       "      <td>-0.310176</td>\n",
       "    </tr>\n",
       "    <tr>\n",
       "      <th>4</th>\n",
       "      <td>0</td>\n",
       "      <td>0</td>\n",
       "      <td>0</td>\n",
       "      <td>0</td>\n",
       "      <td>8.767417e-13</td>\n",
       "      <td>-3.136991e+00</td>\n",
       "      <td>0.242232</td>\n",
       "    </tr>\n",
       "  </tbody>\n",
       "</table>\n",
       "</div>"
      ],
      "text/plain": [
       "   j  k  l  m            ax            fx        ox\n",
       "0  1  0  0  0  5.000000e+00  1.395755e-12 -0.310258\n",
       "1  3  1  0 -1  2.500000e-01  7.478059e-13  0.389490\n",
       "2  0  0  0  0  2.021503e-12 -2.534362e+00 -0.310334\n",
       "3  0  0  0  0  1.359917e-12 -9.914859e-02 -0.310176\n",
       "4  0  0  0  0  8.767417e-13 -3.136991e+00  0.242232"
      ]
     },
     "metadata": {},
     "output_type": "display_data"
    }
   ],
   "source": [
    "part  = dummy\n",
    "datspe_x,datspe_y,datspe_s = crosssussix.datspe(part.x_sig,part.px_sig,\n",
    "                            part.y_sig,part.py_sig,\n",
    "                            part.zeta_sig,part.pzeta_sig,\n",
    "                            number_of_harmonics = 5,method = 'hanning',return_values = True)\n",
    "ordres_x,ordres_y,ordres_s  = crosssussix.ordres(len(part.x_sig),tune_estimate = [0.31,0.32,0.0018],number_of_harmonics = 5,return_values = True)\n",
    "part  = dummy\n",
    "results = ducksussix.datspe(x       = part.x_sig, \n",
    "                            px      = part.px_sig,\n",
    "                            y       = part.y_sig, \n",
    "                            py      = part.py_sig,\n",
    "                            zeta    = part.zeta_sig, \n",
    "                            pzeta   = part.pzeta_sig,\n",
    "                            number_of_harmonics = 5,method = 'hanning')\n",
    "# results['x']\n",
    "display('cross DATSPE X',datspe_x)\n",
    "display('duck DATSPE X',results['x'])\n",
    "# display('DATSPE S',datspe_s)\n",
    "display('ORDRES X',ordres_x)\n",
    "# display('ORDRES Y',ordres_y)\n",
    "# display('ORDRES S',ordres_s)"
   ]
  },
  {
   "cell_type": "code",
   "execution_count": null,
   "metadata": {},
   "outputs": [],
   "source": []
  },
  {
   "cell_type": "code",
   "execution_count": null,
   "metadata": {},
   "outputs": [
    {
     "data": {
      "text/plain": [
       "(-15.0, 15.0)"
      ]
     },
     "execution_count": 2,
     "metadata": {},
     "output_type": "execute_result"
    },
    {
     "data": {
      "image/png": "[encoded data removed]",
      "text/plain": [
       "<Figure size 600x600 with 1 Axes>"
      ]
     },
     "metadata": {},
     "output_type": "display_data"
    },
    {
     "data": {
      "image/png": "[encoded data removed]",
      "text/plain": [
       "<Figure size 600x600 with 1 Axes>"
      ]
     },
     "metadata": {},
     "output_type": "display_data"
    }
   ],
   "source": [
    "particle0 = pd.read_parquet('data/TEST_BUNCH_0000_XPLANE_ZETA_0.parquet')\n",
    "particle1 = pd.read_parquet('data/TEST_BUNCH_0000_XPLANE_ZETA_1.parquet')\n",
    "\n",
    "dummy = particle0.copy()\n",
    "\n",
    "\n",
    "turns = int(10000)\n",
    "N     = np.arange(0,turns)\n",
    "\n",
    "Qx    = 0.31025793875089835\n",
    "Qy    = 0.320264\n",
    "Jx    = 0.5**2*(0.5*(10**2))\n",
    "Jy    = (0.5*(10**2))\n",
    "psi0  = 0#0.25\n",
    "\n",
    "# mn = [(1,0),(-2,0)]\n",
    "\n",
    "#  jQ_x + kQ_y + l*Q_z + m\n",
    "jklm = [(0,0,0,0),(0,2,1,0)] \n",
    "aj = [np.sqrt(2*Jx),0.02*Jx,0.02*Jx,0.02*Jx]\n",
    "phasors = sum([a*np.exp(2*np.pi*1j*((1-j+k)*Qx + (m-l)*Qy)*N) for (j,k,l,m),a in zip(jklm,aj)])\n",
    "\n",
    "hx = phasors\n",
    "x  = hx.real\n",
    "px = hx.imag\n",
    "\n",
    "hy = np.sqrt(2*Jy)*np.exp(-1j*(2*np.pi*Qy*N - psi0))\n",
    "y  = hy.real\n",
    "py = hy.imag\n",
    "\n",
    "\n",
    "dummy.particle = 0\n",
    "dummy.x_sig = x\n",
    "dummy.px_sig = px\n",
    "dummy.y_sig = y\n",
    "dummy.py_sig = py\n",
    "\n",
    "\n",
    "plt.figure(figsize=(6,6))\n",
    "plt.plot(x,px,'.')\n",
    "# plt.plot(hx.real,hx.imag,'.',ms=2)\n",
    "plt.axhline(0,color='k',alpha=0.4)\n",
    "plt.axvline(0,color='k',alpha=0.4)\n",
    "plt.axis('square');\n",
    "plt.xlim([-15,15])\n",
    "plt.ylim([-15,15])\n",
    "\n",
    "plt.figure(figsize=(6,6))\n",
    "plt.plot(y,py,'.')\n",
    "# plt.plot(hx.real,hx.imag,'.',ms=2)\n",
    "plt.axhline(0,color='k',alpha=0.4)\n",
    "plt.axvline(0,color='k',alpha=0.4)\n",
    "plt.axis('square');\n",
    "plt.xlim([-15,15])\n",
    "plt.ylim([-15,15])\n"
   ]
  },
  {
   "cell_type": "code",
   "execution_count": null,
   "metadata": {},
   "outputs": [
    {
     "data": {
      "text/html": [
       "<div>\n",
       "<style scoped>\n",
       "    .dataframe tbody tr th:only-of-type {\n",
       "        vertical-align: middle;\n",
       "    }\n",
       "\n",
       "    .dataframe tbody tr th {\n",
       "        vertical-align: top;\n",
       "    }\n",
       "\n",
       "    .dataframe thead th {\n",
       "        text-align: right;\n",
       "    }\n",
       "</style>\n",
       "<table border=\"1\" class=\"dataframe\">\n",
       "  <thead>\n",
       "    <tr style=\"text-align: right;\">\n",
       "      <th></th>\n",
       "      <th>Q</th>\n",
       "      <th>A</th>\n",
       "    </tr>\n",
       "  </thead>\n",
       "  <tbody>\n",
       "    <tr>\n",
       "      <th>0</th>\n",
       "      <td>0.314811</td>\n",
       "      <td>5.117629</td>\n",
       "    </tr>\n",
       "    <tr>\n",
       "      <th>1</th>\n",
       "      <td>0.370377</td>\n",
       "      <td>0.186963</td>\n",
       "    </tr>\n",
       "    <tr>\n",
       "      <th>2</th>\n",
       "      <td>0.312945</td>\n",
       "      <td>0.041125</td>\n",
       "    </tr>\n",
       "    <tr>\n",
       "      <th>3</th>\n",
       "      <td>0.316678</td>\n",
       "      <td>0.041329</td>\n",
       "    </tr>\n",
       "    <tr>\n",
       "      <th>4</th>\n",
       "      <td>0.055566</td>\n",
       "      <td>0.026459</td>\n",
       "    </tr>\n",
       "  </tbody>\n",
       "</table>\n",
       "</div>"
      ],
      "text/plain": [
       "          Q         A\n",
       "0  0.314811  5.117629\n",
       "1  0.370377  0.186963\n",
       "2  0.312945  0.041125\n",
       "3  0.316678  0.041329\n",
       "4  0.055566  0.026459"
      ]
     },
     "execution_count": 41,
     "metadata": {},
     "output_type": "execute_result"
    },
    {
     "data": {
      "image/png": "[encoded data removed]",
      "text/plain": [
       "<Figure size 1500x400 with 1 Axes>"
      ]
     },
     "metadata": {},
     "output_type": "display_data"
    }
   ],
   "source": [
    "def get_FFT(x):\n",
    "    x     = np.array(x)\n",
    "    turns = np.arange(1,len(x)+1)\n",
    "\n",
    "    freq  = np.fft.fftfreq(turns.shape[-1])\n",
    "    spectrum = np.fft.fft(x-np.mean(x))\n",
    "\n",
    "    idx      = np.argmax(np.abs(spectrum))\n",
    "    Qx       = freq[idx]\n",
    "    return freq[freq>0],np.abs(spectrum)[freq>0]\n",
    "\n",
    "\n",
    "\n",
    "\n",
    "plt.figure(figsize=(15,4))\n",
    "freq,spectrum = get_FFT(particle1.x_sig)\n",
    "plt.plot(freq,spectrum/np.max(spectrum),'-')\n",
    "\n",
    "freq,spectrum = get_FFT(particle0.x_sig)\n",
    "plt.plot(freq,spectrum/np.max(spectrum),'-')\n",
    "# plt.plot(Q,A/np.max(A),'o')\n",
    "plt.yscale('log')\n",
    "plt.axvline(Qx+0.001)\n",
    "plt.axvline(Qx+0.001+0.002)\n",
    "plt.xlim(0.25,0.35)\n",
    "\n"
   ]
  },
  {
   "cell_type": "markdown",
   "metadata": {},
   "source": [
    "---\n",
    "# sidebands\n",
    "---"
   ]
  },
  {
   "cell_type": "code",
   "execution_count": null,
   "metadata": {},
   "outputs": [
    {
     "data": {
      "text/plain": [
       "0.31025793875089835"
      ]
     },
     "execution_count": 7,
     "metadata": {},
     "output_type": "execute_result"
    }
   ],
   "source": [
    "Qx"
   ]
  },
  {
   "cell_type": "code",
   "execution_count": null,
   "metadata": {},
   "outputs": [
    {
     "data": {
      "text/plain": [
       "(0.30825793875089835, 0.31225793875089836)"
      ]
     },
     "execution_count": 96,
     "metadata": {},
     "output_type": "execute_result"
    },
    {
     "data": {
      "image/png": "[encoded data removed]",
      "text/plain": [
       "<Figure size 640x480 with 1 Axes>"
      ]
     },
     "metadata": {},
     "output_type": "display_data"
    },
    {
     "data": {
      "image/png": "[encoded data removed]",
      "text/plain": [
       "<Figure size 1500x400 with 1 Axes>"
      ]
     },
     "metadata": {},
     "output_type": "display_data"
    },
    {
     "data": {
      "image/png": "[encoded data removed]",
      "text/plain": [
       "<Figure size 1500x400 with 1 Axes>"
      ]
     },
     "metadata": {},
     "output_type": "display_data"
    }
   ],
   "source": []
  },
  {
   "cell_type": "code",
   "execution_count": null,
   "metadata": {},
   "outputs": [
    {
     "data": {
      "text/plain": [
       "0.3102779387508984"
      ]
     },
     "execution_count": 91,
     "metadata": {},
     "output_type": "execute_result"
    }
   ],
   "source": [
    "Q0+dQ"
   ]
  },
  {
   "cell_type": "code",
   "execution_count": 3,
   "metadata": {},
   "outputs": [
    {
     "data": {
      "text/plain": [
       "[<matplotlib.lines.Line2D at 0x2a0c70490>]"
      ]
     },
     "execution_count": 3,
     "metadata": {},
     "output_type": "execute_result"
    },
    {
     "data": {
      "image/png": "[encoded data removed]",
      "text/plain": [
       "<Figure size 640x480 with 1 Axes>"
      ]
     },
     "metadata": {},
     "output_type": "display_data"
    }
   ],
   "source": [
    "plt.figure()\n",
    "_x = np.linspace(-1,1,1000)\n",
    "_x_bands = i/np.max(i)\n",
    "_y = sciStat.cauchy.pdf(_x,0,0.05)\n",
    "_y_bands = sciStat.cauchy.pdf(_x_bands,0,0.05)\n",
    "\n",
    "plt.plot(_x,_y/np.max(_y))\n",
    "plt.plot(_x_bands,_y_bands/np.max(_y_bands),'o')"
   ]
  },
  {
   "cell_type": "code",
   "execution_count": null,
   "metadata": {},
   "outputs": [
    {
     "data": {
      "text/plain": [
       "array([0.90909091, 1.        , 0.90909091])"
      ]
     },
     "execution_count": 57,
     "metadata": {},
     "output_type": "execute_result"
    }
   ],
   "source": [
    "10/(10+i**2) "
   ]
  },
  {
   "cell_type": "code",
   "execution_count": null,
   "metadata": {},
   "outputs": [
    {
     "data": {
      "text/plain": [
       "array([0.25, 1.  , 0.25])"
      ]
     },
     "execution_count": 51,
     "metadata": {},
     "output_type": "execute_result"
    }
   ],
   "source": [
    "Ai*Aj"
   ]
  },
  {
   "cell_type": "code",
   "execution_count": null,
   "metadata": {},
   "outputs": [],
   "source": []
  },
  {
   "cell_type": "code",
   "execution_count": null,
   "metadata": {},
   "outputs": [
    {
     "data": {
      "text/plain": [
       "(0.31, 0.311)"
      ]
     },
     "execution_count": 19,
     "metadata": {},
     "output_type": "execute_result"
    },
    {
     "data": {
      "image/png": "[encoded data removed]",
      "text/plain": [
       "<Figure size 1500x400 with 1 Axes>"
      ]
     },
     "metadata": {},
     "output_type": "display_data"
    }
   ],
   "source": [
    "plt.figure(figsize=(15,4))\n",
    "freq,spectrum = get_FFT(x)\n",
    "plt.plot(freq,spectrum/np.max(spectrum),'-')\n",
    "plt.yscale('log')\n",
    "plt.xlim(0.31,0.311)"
   ]
  },
  {
   "cell_type": "code",
   "execution_count": null,
   "metadata": {},
   "outputs": [
    {
     "data": {
      "text/plain": [
       "array([1.0000e-05, 2.0000e-05, 3.0000e-05, ..., 4.9997e-01, 4.9998e-01,\n",
       "       4.9999e-01])"
      ]
     },
     "execution_count": 15,
     "metadata": {},
     "output_type": "execute_result"
    }
   ],
   "source": [
    "freq"
   ]
  },
  {
   "cell_type": "code",
   "execution_count": null,
   "metadata": {},
   "outputs": [],
   "source": []
  },
  {
   "cell_type": "markdown",
   "metadata": {},
   "source": [
    "---\n",
    "# Testing main program\n",
    "---"
   ]
  },
  {
   "cell_type": "code",
   "execution_count": null,
   "metadata": {},
   "outputs": [
    {
     "name": "stdout",
     "output_type": "stream",
     "text": [
      " X TUNE DIFFERENT FROM EXPECTED\n",
      " -0.31481147556828426       0.31000000000000000     \n",
      " EXPECTED TUNE X FOUND AT LINE           2\n",
      " Y TUNE DIFFERENT FROM EXPECTED\n",
      " -0.31735353877468614       0.32000000000000001     \n",
      " EXPECTED TUNE Y FOUND AT LINE           2\n",
      " Y TUNE DIFFERENT FROM EXPECTED\n",
      "  -1.8660974207716056E-003   1.0000000000000000E-003\n",
      " EXPECTED TUNE S FOUND AT LINE           2\n"
     ]
    },
    {
     "data": {
      "text/html": [
       "<div>\n",
       "<style scoped>\n",
       "    .dataframe tbody tr th:only-of-type {\n",
       "        vertical-align: middle;\n",
       "    }\n",
       "\n",
       "    .dataframe tbody tr th {\n",
       "        vertical-align: top;\n",
       "    }\n",
       "\n",
       "    .dataframe thead th {\n",
       "        text-align: right;\n",
       "    }\n",
       "</style>\n",
       "<table border=\"1\" class=\"dataframe\">\n",
       "  <thead>\n",
       "    <tr style=\"text-align: right;\">\n",
       "      <th></th>\n",
       "      <th>ax</th>\n",
       "      <th>ox</th>\n",
       "      <th>ay</th>\n",
       "      <th>oy</th>\n",
       "    </tr>\n",
       "  </thead>\n",
       "  <tbody>\n",
       "    <tr>\n",
       "      <th>0</th>\n",
       "      <td>5.117726</td>\n",
       "      <td>3.148115e-01</td>\n",
       "      <td>0.130927</td>\n",
       "      <td>3.173535e-01</td>\n",
       "    </tr>\n",
       "    <tr>\n",
       "      <th>1</th>\n",
       "      <td>5.117774</td>\n",
       "      <td>-3.148115e-01</td>\n",
       "      <td>0.130927</td>\n",
       "      <td>-3.173535e-01</td>\n",
       "    </tr>\n",
       "    <tr>\n",
       "      <th>2</th>\n",
       "      <td>0.186964</td>\n",
       "      <td>3.703771e-01</td>\n",
       "      <td>0.097028</td>\n",
       "      <td>-3.148114e-01</td>\n",
       "    </tr>\n",
       "    <tr>\n",
       "      <th>3</th>\n",
       "      <td>0.186975</td>\n",
       "      <td>-3.703771e-01</td>\n",
       "      <td>0.097024</td>\n",
       "      <td>3.148114e-01</td>\n",
       "    </tr>\n",
       "    <tr>\n",
       "      <th>4</th>\n",
       "      <td>0.114162</td>\n",
       "      <td>-2.385124e-11</td>\n",
       "      <td>0.027624</td>\n",
       "      <td>3.703770e-01</td>\n",
       "    </tr>\n",
       "    <tr>\n",
       "      <th>5</th>\n",
       "      <td>0.041474</td>\n",
       "      <td>3.166784e-01</td>\n",
       "      <td>0.027621</td>\n",
       "      <td>-3.703770e-01</td>\n",
       "    </tr>\n",
       "    <tr>\n",
       "      <th>6</th>\n",
       "      <td>0.041472</td>\n",
       "      <td>-3.166784e-01</td>\n",
       "      <td>0.015792</td>\n",
       "      <td>-3.122693e-01</td>\n",
       "    </tr>\n",
       "    <tr>\n",
       "      <th>7</th>\n",
       "      <td>0.041379</td>\n",
       "      <td>3.129444e-01</td>\n",
       "      <td>0.015792</td>\n",
       "      <td>3.122693e-01</td>\n",
       "    </tr>\n",
       "    <tr>\n",
       "      <th>8</th>\n",
       "      <td>0.041375</td>\n",
       "      <td>-3.129444e-01</td>\n",
       "      <td>0.010707</td>\n",
       "      <td>-5.225744e-12</td>\n",
       "    </tr>\n",
       "    <tr>\n",
       "      <th>9</th>\n",
       "      <td>0.026451</td>\n",
       "      <td>-5.556555e-02</td>\n",
       "      <td>0.011567</td>\n",
       "      <td>3.678351e-01</td>\n",
       "    </tr>\n",
       "  </tbody>\n",
       "</table>\n",
       "</div>"
      ],
      "text/plain": [
       "         ax            ox        ay            oy\n",
       "0  5.117726  3.148115e-01  0.130927  3.173535e-01\n",
       "1  5.117774 -3.148115e-01  0.130927 -3.173535e-01\n",
       "2  0.186964  3.703771e-01  0.097028 -3.148114e-01\n",
       "3  0.186975 -3.703771e-01  0.097024  3.148114e-01\n",
       "4  0.114162 -2.385124e-11  0.027624  3.703770e-01\n",
       "5  0.041474  3.166784e-01  0.027621 -3.703770e-01\n",
       "6  0.041472 -3.166784e-01  0.015792 -3.122693e-01\n",
       "7  0.041379  3.129444e-01  0.015792  3.122693e-01\n",
       "8  0.041375 -3.129444e-01  0.010707 -5.225744e-12\n",
       "9  0.026451 -5.556555e-02  0.011567  3.678351e-01"
      ]
     },
     "execution_count": 4,
     "metadata": {},
     "output_type": "execute_result"
    }
   ],
   "source": [
    "SS = F90Sussix()\n",
    "SS.sussix_inp(nt1   = 1, \n",
    "              nt2   = len(particle0.x_sig),\n",
    "              idam  = 3,\n",
    "              ir    = 1,\n",
    "              tunex = 0.31,\n",
    "              tuney = 0.32,\n",
    "              istun = None,\n",
    "              nline = 0)\n",
    "\n",
    "\n",
    "SS.sussix(  particle0.x_sig,particle0.px_sig,\n",
    "            particle0.y_sig,particle0.py_sig,\n",
    "            particle0.zeta_sig,particle0.pzeta_sig,)\n",
    "df = pd.DataFrame({'ax':SS.ax,'ox':SS.ox,'ay':SS.ay,'oy':SS.oy})#,'y':y,'py':py})\n",
    "# df = df[df.ox>0]\n",
    "# df.sort_values('ox',inplace=True)\n",
    "# df = df.reset_index(drop=True)\n",
    "df.head(10)"
   ]
  },
  {
   "cell_type": "markdown",
   "metadata": {},
   "source": [
    "---\n",
    "# Testing subroutines\n",
    "---"
   ]
  },
  {
   "cell_type": "markdown",
   "metadata": {},
   "source": [
    "## spectrum"
   ]
  },
  {
   "cell_type": "code",
   "execution_count": null,
   "metadata": {},
   "outputs": [
    {
     "data": {
      "text/plain": [
       "'CROSS'"
      ]
     },
     "metadata": {},
     "output_type": "display_data"
    },
    {
     "data": {
      "text/html": [
       "<div>\n",
       "<style scoped>\n",
       "    .dataframe tbody tr th:only-of-type {\n",
       "        vertical-align: middle;\n",
       "    }\n",
       "\n",
       "    .dataframe tbody tr th {\n",
       "        vertical-align: top;\n",
       "    }\n",
       "\n",
       "    .dataframe thead th {\n",
       "        text-align: right;\n",
       "    }\n",
       "</style>\n",
       "<table border=\"1\" class=\"dataframe\">\n",
       "  <thead>\n",
       "    <tr style=\"text-align: right;\">\n",
       "      <th></th>\n",
       "      <th>tune</th>\n",
       "      <th>zpesi</th>\n",
       "    </tr>\n",
       "  </thead>\n",
       "  <tbody>\n",
       "    <tr>\n",
       "      <th>0</th>\n",
       "      <td>0.310258</td>\n",
       "      <td>5.000000e+00+6.978777e-                    12j</td>\n",
       "    </tr>\n",
       "    <tr>\n",
       "      <th>1</th>\n",
       "      <td>-0.389490</td>\n",
       "      <td>2.500000e-01+1.869515e-                    13j</td>\n",
       "    </tr>\n",
       "    <tr>\n",
       "      <th>2</th>\n",
       "      <td>0.310334</td>\n",
       "      <td>-1.660121e-12-1.153461e-                    12j</td>\n",
       "    </tr>\n",
       "    <tr>\n",
       "      <th>3</th>\n",
       "      <td>0.310176</td>\n",
       "      <td>1.353238e-12-1.346130e-                    13j</td>\n",
       "    </tr>\n",
       "    <tr>\n",
       "      <th>4</th>\n",
       "      <td>-0.242232</td>\n",
       "      <td>-8.767324e-13-4.034402e-                    15j</td>\n",
       "    </tr>\n",
       "  </tbody>\n",
       "</table>\n",
       "</div>"
      ],
      "text/plain": [
       "       tune                                           zpesi\n",
       "0  0.310258  5.000000e+00+6.978777e-                    12j\n",
       "1 -0.389490  2.500000e-01+1.869515e-                    13j\n",
       "2  0.310334 -1.660121e-12-1.153461e-                    12j\n",
       "3  0.310176  1.353238e-12-1.346130e-                    13j\n",
       "4 -0.242232 -8.767324e-13-4.034402e-                    15j"
      ]
     },
     "metadata": {},
     "output_type": "display_data"
    },
    {
     "data": {
      "text/plain": [
       "'DUCK'"
      ]
     },
     "metadata": {},
     "output_type": "display_data"
    },
    {
     "data": {
      "text/html": [
       "<div>\n",
       "<style scoped>\n",
       "    .dataframe tbody tr th:only-of-type {\n",
       "        vertical-align: middle;\n",
       "    }\n",
       "\n",
       "    .dataframe tbody tr th {\n",
       "        vertical-align: top;\n",
       "    }\n",
       "\n",
       "    .dataframe thead th {\n",
       "        text-align: right;\n",
       "    }\n",
       "</style>\n",
       "<table border=\"1\" class=\"dataframe\">\n",
       "  <thead>\n",
       "    <tr style=\"text-align: right;\">\n",
       "      <th></th>\n",
       "      <th>amplitude</th>\n",
       "      <th>frequency</th>\n",
       "    </tr>\n",
       "  </thead>\n",
       "  <tbody>\n",
       "    <tr>\n",
       "      <th>0</th>\n",
       "      <td>5.000000e+00+6.978777e-                    12j</td>\n",
       "      <td>0.310258</td>\n",
       "    </tr>\n",
       "    <tr>\n",
       "      <th>1</th>\n",
       "      <td>2.500000e-01-3.975696e-                    13j</td>\n",
       "      <td>-0.389490</td>\n",
       "    </tr>\n",
       "    <tr>\n",
       "      <th>2</th>\n",
       "      <td>-1.358933e-12-2.405760e-                    12j</td>\n",
       "      <td>0.310310</td>\n",
       "    </tr>\n",
       "    <tr>\n",
       "      <th>3</th>\n",
       "      <td>1.164419e-14-1.297436e-                    12j</td>\n",
       "      <td>-0.242294</td>\n",
       "    </tr>\n",
       "    <tr>\n",
       "      <th>4</th>\n",
       "      <td>-1.822203e-14-1.297595e-                    12j</td>\n",
       "      <td>-0.137190</td>\n",
       "    </tr>\n",
       "  </tbody>\n",
       "</table>\n",
       "</div>"
      ],
      "text/plain": [
       "                                        amplitude  frequency\n",
       "0  5.000000e+00+6.978777e-                    12j   0.310258\n",
       "1  2.500000e-01-3.975696e-                    13j  -0.389490\n",
       "2 -1.358933e-12-2.405760e-                    12j   0.310310\n",
       "3  1.164419e-14-1.297436e-                    12j  -0.242294\n",
       "4 -1.822203e-14-1.297595e-                    12j  -0.137190"
      ]
     },
     "metadata": {},
     "output_type": "display_data"
    }
   ],
   "source": [
    "\n",
    "\n",
    "\n",
    "cross = crossroutines.spectrum(dummy.x_sig,dummy.px_sig,number_of_harmonics = 5,method = 'hanning',return_values = True)\n",
    "duck = ducksussix.spectrum(dummy.x_sig,dummy.px_sig,number_of_harmonics = 5,method = 'hanning')\n",
    "display('CROSS',cross)\n",
    "display('DUCK',duck)"
   ]
  },
  {
   "cell_type": "code",
   "execution_count": null,
   "metadata": {},
   "outputs": [
    {
     "data": {
      "text/plain": [
       "(0.31025793875090096, (24999.999999341908-2.3989512664483018e-06j))"
      ]
     },
     "execution_count": 10,
     "metadata": {},
     "output_type": "execute_result"
    }
   ],
   "source": [
    "crossroutines.tunenewt(dummy.x_sig,0*dummy.px_sig)"
   ]
  },
  {
   "cell_type": "code",
   "execution_count": null,
   "metadata": {},
   "outputs": [],
   "source": []
  },
  {
   "cell_type": "code",
   "execution_count": null,
   "metadata": {},
   "outputs": [
    {
     "data": {
      "text/plain": [
       "complex"
      ]
     },
     "execution_count": 11,
     "metadata": {},
     "output_type": "execute_result"
    }
   ],
   "source": [
    "type(0*1J)"
   ]
  },
  {
   "cell_type": "code",
   "execution_count": null,
   "metadata": {},
   "outputs": [
    {
     "data": {
      "text/plain": [
       "complex"
      ]
     },
     "execution_count": 13,
     "metadata": {},
     "output_type": "execute_result"
    }
   ],
   "source": [
    "type(complex(f90sussix.data.zw_out[0].real/len(x)))"
   ]
  },
  {
   "cell_type": "code",
   "execution_count": null,
   "metadata": {},
   "outputs": [
    {
     "data": {
      "text/plain": [
       "(0.3102579387778248, (0.0005001000094395693+1.4397897569530925e-11j))"
      ]
     },
     "execution_count": 6,
     "metadata": {},
     "output_type": "execute_result"
    }
   ],
   "source": [
    "crossroutines.tunelasr(dummy.x_sig,dummy.px_sig)"
   ]
  },
  {
   "cell_type": "markdown",
   "metadata": {},
   "source": [
    "\n",
    "## tunenewt and tunelasr"
   ]
  },
  {
   "cell_type": "code",
   "execution_count": null,
   "metadata": {},
   "outputs": [
    {
     "data": {
      "text/html": [
       "<div>\n",
       "<style scoped>\n",
       "    .dataframe tbody tr th:only-of-type {\n",
       "        vertical-align: middle;\n",
       "    }\n",
       "\n",
       "    .dataframe tbody tr th {\n",
       "        vertical-align: top;\n",
       "    }\n",
       "\n",
       "    .dataframe thead th {\n",
       "        text-align: right;\n",
       "    }\n",
       "</style>\n",
       "<table border=\"1\" class=\"dataframe\">\n",
       "  <thead>\n",
       "    <tr style=\"text-align: right;\">\n",
       "      <th></th>\n",
       "      <th>CHUNK</th>\n",
       "      <th>turn</th>\n",
       "      <th>particle</th>\n",
       "      <th>state</th>\n",
       "      <th>at_element</th>\n",
       "      <th>x_sig</th>\n",
       "      <th>px_sig</th>\n",
       "      <th>y_sig</th>\n",
       "      <th>py_sig</th>\n",
       "      <th>zeta_sig</th>\n",
       "      <th>pzeta_sig</th>\n",
       "    </tr>\n",
       "  </thead>\n",
       "  <tbody>\n",
       "    <tr>\n",
       "      <th>174000</th>\n",
       "      <td>0</td>\n",
       "      <td>0</td>\n",
       "      <td>0</td>\n",
       "      <td>1</td>\n",
       "      <td>0</td>\n",
       "      <td>5.250000</td>\n",
       "      <td>0.000000</td>\n",
       "      <td>10.000000</td>\n",
       "      <td>0.000000</td>\n",
       "      <td>-0.000016</td>\n",
       "      <td>-0.002811</td>\n",
       "    </tr>\n",
       "    <tr>\n",
       "      <th>174001</th>\n",
       "      <td>0</td>\n",
       "      <td>1</td>\n",
       "      <td>0</td>\n",
       "      <td>1</td>\n",
       "      <td>0</td>\n",
       "      <td>-2.040272</td>\n",
       "      <td>4.485921</td>\n",
       "      <td>-4.272796</td>\n",
       "      <td>-9.041195</td>\n",
       "      <td>0.000019</td>\n",
       "      <td>-0.002811</td>\n",
       "    </tr>\n",
       "    <tr>\n",
       "      <th>174002</th>\n",
       "      <td>0</td>\n",
       "      <td>2</td>\n",
       "      <td>0</td>\n",
       "      <td>1</td>\n",
       "      <td>0</td>\n",
       "      <td>-3.588459</td>\n",
       "      <td>-3.188665</td>\n",
       "      <td>-6.348643</td>\n",
       "      <td>7.726237</td>\n",
       "      <td>0.000055</td>\n",
       "      <td>-0.002811</td>\n",
       "    </tr>\n",
       "    <tr>\n",
       "      <th>174003</th>\n",
       "      <td>0</td>\n",
       "      <td>3</td>\n",
       "      <td>0</td>\n",
       "      <td>1</td>\n",
       "      <td>0</td>\n",
       "      <td>4.656971</td>\n",
       "      <td>-2.324784</td>\n",
       "      <td>9.698087</td>\n",
       "      <td>2.438669</td>\n",
       "      <td>0.000090</td>\n",
       "      <td>-0.002810</td>\n",
       "    </tr>\n",
       "    <tr>\n",
       "      <th>174004</th>\n",
       "      <td>0</td>\n",
       "      <td>4</td>\n",
       "      <td>0</td>\n",
       "      <td>1</td>\n",
       "      <td>0</td>\n",
       "      <td>0.047992</td>\n",
       "      <td>5.081109</td>\n",
       "      <td>-1.938947</td>\n",
       "      <td>-9.810224</td>\n",
       "      <td>0.000126</td>\n",
       "      <td>-0.002809</td>\n",
       "    </tr>\n",
       "    <tr>\n",
       "      <th>...</th>\n",
       "      <td>...</td>\n",
       "      <td>...</td>\n",
       "      <td>...</td>\n",
       "      <td>...</td>\n",
       "      <td>...</td>\n",
       "      <td>...</td>\n",
       "      <td>...</td>\n",
       "      <td>...</td>\n",
       "      <td>...</td>\n",
       "      <td>...</td>\n",
       "      <td>...</td>\n",
       "    </tr>\n",
       "    <tr>\n",
       "      <th>1974995</th>\n",
       "      <td>9</td>\n",
       "      <td>9995</td>\n",
       "      <td>0</td>\n",
       "      <td>1</td>\n",
       "      <td>0</td>\n",
       "      <td>5.162086</td>\n",
       "      <td>0.948813</td>\n",
       "      <td>9.706124</td>\n",
       "      <td>-2.406482</td>\n",
       "      <td>-0.002469</td>\n",
       "      <td>0.001920</td>\n",
       "    </tr>\n",
       "    <tr>\n",
       "      <th>1974996</th>\n",
       "      <td>9</td>\n",
       "      <td>9996</td>\n",
       "      <td>0</td>\n",
       "      <td>1</td>\n",
       "      <td>0</td>\n",
       "      <td>-2.774436</td>\n",
       "      <td>4.041336</td>\n",
       "      <td>-6.322976</td>\n",
       "      <td>-7.747256</td>\n",
       "      <td>-0.002489</td>\n",
       "      <td>0.001891</td>\n",
       "    </tr>\n",
       "    <tr>\n",
       "      <th>1974997</th>\n",
       "      <td>9</td>\n",
       "      <td>9997</td>\n",
       "      <td>0</td>\n",
       "      <td>1</td>\n",
       "      <td>0</td>\n",
       "      <td>-3.000128</td>\n",
       "      <td>-3.770697</td>\n",
       "      <td>-4.302767</td>\n",
       "      <td>9.026971</td>\n",
       "      <td>-0.002508</td>\n",
       "      <td>0.001861</td>\n",
       "    </tr>\n",
       "    <tr>\n",
       "      <th>1974998</th>\n",
       "      <td>9</td>\n",
       "      <td>9998</td>\n",
       "      <td>0</td>\n",
       "      <td>1</td>\n",
       "      <td>0</td>\n",
       "      <td>5.013119</td>\n",
       "      <td>-1.452134</td>\n",
       "      <td>9.999945</td>\n",
       "      <td>0.033175</td>\n",
       "      <td>-0.002527</td>\n",
       "      <td>0.001832</td>\n",
       "    </tr>\n",
       "    <tr>\n",
       "      <th>1974999</th>\n",
       "      <td>9</td>\n",
       "      <td>9999</td>\n",
       "      <td>0</td>\n",
       "      <td>1</td>\n",
       "      <td>0</td>\n",
       "      <td>-0.848775</td>\n",
       "      <td>4.983302</td>\n",
       "      <td>-4.242778</td>\n",
       "      <td>-9.055321</td>\n",
       "      <td>-0.002547</td>\n",
       "      <td>0.001802</td>\n",
       "    </tr>\n",
       "  </tbody>\n",
       "</table>\n",
       "<p>10000 rows × 11 columns</p>\n",
       "</div>"
      ],
      "text/plain": [
       "         CHUNK  turn  particle  state  at_element     x_sig    px_sig  \\\n",
       "174000       0     0         0      1           0  5.250000  0.000000   \n",
       "174001       0     1         0      1           0 -2.040272  4.485921   \n",
       "174002       0     2         0      1           0 -3.588459 -3.188665   \n",
       "174003       0     3         0      1           0  4.656971 -2.324784   \n",
       "174004       0     4         0      1           0  0.047992  5.081109   \n",
       "...        ...   ...       ...    ...         ...       ...       ...   \n",
       "1974995      9  9995         0      1           0  5.162086  0.948813   \n",
       "1974996      9  9996         0      1           0 -2.774436  4.041336   \n",
       "1974997      9  9997         0      1           0 -3.000128 -3.770697   \n",
       "1974998      9  9998         0      1           0  5.013119 -1.452134   \n",
       "1974999      9  9999         0      1           0 -0.848775  4.983302   \n",
       "\n",
       "             y_sig    py_sig  zeta_sig  pzeta_sig  \n",
       "174000   10.000000  0.000000 -0.000016  -0.002811  \n",
       "174001   -4.272796 -9.041195  0.000019  -0.002811  \n",
       "174002   -6.348643  7.726237  0.000055  -0.002811  \n",
       "174003    9.698087  2.438669  0.000090  -0.002810  \n",
       "174004   -1.938947 -9.810224  0.000126  -0.002809  \n",
       "...            ...       ...       ...        ...  \n",
       "1974995   9.706124 -2.406482 -0.002469   0.001920  \n",
       "1974996  -6.322976 -7.747256 -0.002489   0.001891  \n",
       "1974997  -4.302767  9.026971 -0.002508   0.001861  \n",
       "1974998   9.999945  0.033175 -0.002527   0.001832  \n",
       "1974999  -4.242778 -9.055321 -0.002547   0.001802  \n",
       "\n",
       "[10000 rows x 11 columns]"
      ]
     },
     "execution_count": 17,
     "metadata": {},
     "output_type": "execute_result"
    }
   ],
   "source": [
    "dummy"
   ]
  },
  {
   "cell_type": "code",
   "execution_count": null,
   "metadata": {},
   "outputs": [
    {
     "name": "stdout",
     "output_type": "stream",
     "text": [
      "(0.3102579387508983, (49999.99999998262+6.978776798095439e-08j)) zf before         (2.51951707684659839E-314,0.0000000000000000)\n",
      " zfd before                        (2.50527091874863490E-314,NaN)\n",
      " zf after              (-25290.806259478279,21933.386442385527)\n",
      " zfd after             (-66040511.753324687,-164288931.82204562)\n",
      "\n",
      "(0.31025793875090096, (24999.999999341908-2.3989512664483018e-06j))\n",
      "0.31025793875089835\n",
      " zf before         (2.51951407292747167E-314,0.0000000000000000)\n",
      " zfd before                        (2.50527091874863490E-314,NaN)\n",
      " zf after              (-12645.403130064791,10966.693221286067)\n",
      " zfd after             (-33020255.880684275,-82144465.911985204)\n"
     ]
    }
   ],
   "source": [
    "print(crossroutines.tunenewt(dummy.x_sig,dummy.px_sig))\n",
    "print(crossroutines.tunenewt(dummy.x_sig,0*dummy.px_sig))\n",
    "print(Qx)"
   ]
  },
  {
   "cell_type": "code",
   "execution_count": null,
   "metadata": {},
   "outputs": [
    {
     "name": "stdout",
     "output_type": "stream",
     "text": [
      " zf before               (0.0000000000000000,0.0000000000000000)\n",
      " zfd before               (0.0000000000000000,0.0000000000000000)\n",
      " zf within               (0.0000000000000000,0.0000000000000000)\n",
      " zf exit              (-25290.806259478275,21933.386442385476)\n",
      " zf within               (0.0000000000000000,0.0000000000000000)\n",
      " zf exit             (-66040511.753325947,-164288931.82204485)\n",
      " zf after              (-25290.806259478275,21933.386442385476)\n",
      " zfd after             (-66040511.753325947,-164288931.82204485)\n",
      " zf within              (-25290.806259478275,21933.386442385476)\n",
      " zf exit              (-3721.1289912780148,41448.522949355342)\n",
      " zf within             (-66040511.753325947,-164288931.82204485)\n",
      " zf exit             (-203051454.29990640,-65289705.189784102)\n",
      " zf within              (-3721.1289912780148,41448.522949355342)\n",
      " zf exit               (29733.088703506834,36972.011259224419)\n",
      " zf within             (-203051454.29990640,-65289705.189784102)\n",
      " zf exit              (-202405943.71942610,126847772.51007119)\n",
      " zf within               (29733.088703506834,36972.011259224419)\n",
      " zf exit               (49547.476056288047,6309.4303786449464)\n",
      " zf within              (-202405943.71942610,126847772.51007119)\n",
      " zf exit              (-35649680.525871456,247214959.74977434)\n",
      " zf within               (49547.476056288047,6309.4303786449464)\n",
      " zf exit              (39036.650324807539,-29075.273237547804)\n",
      " zf within              (-35649680.525871456,247214959.74977434)\n",
      " zf exit               (161797096.15838498,182952765.48644388)\n",
      " zf within              (39036.650324807539,-29075.273237547804)\n",
      " zf exit              (49999.295068818428,-249.68333851460400)\n",
      " zf within               (161797096.15838498,182952765.48644388)\n",
      " zf exit               (1411604.8102187847,249995660.42551783)\n",
      " zf within              (49999.295068818428,-249.68333851460400)\n",
      " zf exit              (49999.999997639730,0.45371002267689486)\n",
      " zf within               (1411604.8102187847,249995660.42551783)\n",
      " zf exit              (-2565.0884125477137,249999999.98550084)\n",
      " zf within              (49999.999997639730,0.45371002267689486)\n",
      " zf exit        (49999.999999969958,-1.32394524693546208E-006)\n",
      " zf within              (-2565.0884125477137,249999999.98550084)\n",
      " zf exit         (7.49866048294359211E-003,249999999.99984685)\n",
      " zf within        (49999.999999969958,-1.32394524693546208E-006)\n",
      " zf exit         (49999.999999982763,6.99809196958680002E-008)\n",
      " zf within         (7.49866048294359211E-003,249999999.99984685)\n",
      " zf exit        (-3.81920134174213843E-004,249999999.99991843)\n",
      " zf within         (49999.999999982763,6.99809196958680002E-008)\n",
      " zf exit              (7150.6717745801689,-43268.676135224494)\n",
      " zf within        (-3.81920134174213843E-004,249999999.99991843)\n",
      " zf exit              (223095076.00554883,-5101112.9558772957)\n",
      " zf within              (7150.6717745801689,-43268.676135224494)\n",
      " zf exit             (-20611.535255297204,-29931.155864429693)\n",
      " zf within              (223095076.00554883,-5101112.9558772957)\n",
      " zf exit              (118376684.86528924,-148479787.72483984)\n",
      " zf within             (-20611.535255297204,-29931.155864429693)\n",
      " zf exit             (-26846.817517889060,-5467.3931421997286)\n",
      " zf within              (118376684.86528924,-148479787.72483984)\n",
      " zf exit             (-31381487.015299264,-146192185.25010294)\n",
      " zf within             (-26846.817517889060,-5467.3931421997286)\n",
      " zf exit              (-15534.872936533055,9868.4569544436708)\n",
      " zf within             (-31381487.015299264,-146192185.25010294)\n",
      " zf exit             (-96624162.223529667,-47638768.365930527)\n",
      " zf within              (-15534.872936533055,9868.4569544436708)\n",
      " zf exit              (-2487.8222891361411,10253.735822133571)\n",
      " zf within             (-96624162.223529667,-47638768.365930527)\n",
      " zf exit              (-62002062.356158428,31799288.040409204)\n",
      " zf within              (-2487.8222891361411,10253.735822133571)\n",
      " zf exit               (2326.8634660091384,3982.1707001528230)\n",
      " zf within              (-62002062.356158428,31799288.040409204)\n",
      " zf exit              (-3950844.5444815387,38948115.912572451)\n",
      " zf within               (0.0000000000000000,0.0000000000000000)\n",
      " zf exit         (49999.999999982763,6.99809196958680002E-008)\n"
     ]
    },
    {
     "data": {
      "text/plain": [
       "(0.3102579387508983, (49999.99999998276+6.9980919695868e-08j))"
      ]
     },
     "execution_count": 3,
     "metadata": {},
     "output_type": "execute_result"
    }
   ],
   "source": [
    "crossroutines.tunenewt(dummy.x_sig,dummy.px_sig)"
   ]
  },
  {
   "cell_type": "code",
   "execution_count": null,
   "metadata": {},
   "outputs": [
    {
     "name": "stdout",
     "output_type": "stream",
     "text": [
      " zf before         (2.89747739868080633E-314,0.0000000000000000)\n",
      " zfd before                        (2.88015597837686859E-314,NaN)\n",
      " zf after              (-25290.806259478279,21933.386442385527)\n",
      " zfd after             (-66040511.753324687,-164288931.82204562)\n"
     ]
    },
    {
     "data": {
      "text/plain": [
       "(0.3102579387508983, (49999.99999998262+6.978776798095439e-08j))"
      ]
     },
     "execution_count": 22,
     "metadata": {},
     "output_type": "execute_result"
    }
   ],
   "source": [
    "crossroutines.tunenewt(dummy.x_sig,dummy.px_sig)"
   ]
  },
  {
   "cell_type": "code",
   "execution_count": null,
   "metadata": {},
   "outputs": [
    {
     "name": "stdout",
     "output_type": "stream",
     "text": [
      "(-0.3148114676389241, 0j) test zw              (-23401.799753104799,99460.630016004230)\n",
      "\n",
      "(-0.31481147458177544, 0j)\n"
     ]
    }
   ],
   "source": [
    "print(crossroutines.tunenewt(particle0.x_sig,particle0.px_sig))\n",
    "print(crossroutines.tunelasr(particle0.x_sig,particle0.px_sig))"
   ]
  },
  {
   "cell_type": "code",
   "execution_count": null,
   "metadata": {},
   "outputs": [
    {
     "data": {
      "text/plain": [
       "0.31025793875089835"
      ]
     },
     "execution_count": 7,
     "metadata": {},
     "output_type": "execute_result"
    }
   ],
   "source": [
    "Qx"
   ]
  },
  {
   "cell_type": "markdown",
   "metadata": {},
   "source": [
    "---\n",
    "# Testing main sections of the code\n",
    "---"
   ]
  },
  {
   "cell_type": "code",
   "execution_count": null,
   "metadata": {},
   "outputs": [
    {
     "data": {
      "text/html": [
       "<div>\n",
       "<style scoped>\n",
       "    .dataframe tbody tr th:only-of-type {\n",
       "        vertical-align: middle;\n",
       "    }\n",
       "\n",
       "    .dataframe tbody tr th {\n",
       "        vertical-align: top;\n",
       "    }\n",
       "\n",
       "    .dataframe thead th {\n",
       "        text-align: right;\n",
       "    }\n",
       "</style>\n",
       "<table border=\"1\" class=\"dataframe\">\n",
       "  <thead>\n",
       "    <tr style=\"text-align: right;\">\n",
       "      <th></th>\n",
       "      <th>amplitude</th>\n",
       "      <th>frequency</th>\n",
       "    </tr>\n",
       "  </thead>\n",
       "  <tbody>\n",
       "    <tr>\n",
       "      <th>0</th>\n",
       "      <td>5.000000e+00+6.978777e-                    12j</td>\n",
       "      <td>0.310258</td>\n",
       "    </tr>\n",
       "    <tr>\n",
       "      <th>1</th>\n",
       "      <td>2.500000e-01-3.975696e-                    13j</td>\n",
       "      <td>-0.389490</td>\n",
       "    </tr>\n",
       "    <tr>\n",
       "      <th>2</th>\n",
       "      <td>-1.358933e-12-2.405760e-                    12j</td>\n",
       "      <td>0.310310</td>\n",
       "    </tr>\n",
       "    <tr>\n",
       "      <th>3</th>\n",
       "      <td>1.164419e-14-1.297436e-                    12j</td>\n",
       "      <td>-0.242294</td>\n",
       "    </tr>\n",
       "    <tr>\n",
       "      <th>4</th>\n",
       "      <td>-1.822203e-14-1.297595e-                    12j</td>\n",
       "      <td>-0.137190</td>\n",
       "    </tr>\n",
       "  </tbody>\n",
       "</table>\n",
       "</div>"
      ],
      "text/plain": [
       "                                        amplitude  frequency\n",
       "0  5.000000e+00+6.978777e-                    12j   0.310258\n",
       "1  2.500000e-01-3.975696e-                    13j  -0.389490\n",
       "2 -1.358933e-12-2.405760e-                    12j   0.310310\n",
       "3  1.164419e-14-1.297436e-                    12j  -0.242294\n",
       "4 -1.822203e-14-1.297595e-                    12j  -0.137190"
      ]
     },
     "execution_count": 3,
     "metadata": {},
     "output_type": "execute_result"
    }
   ],
   "source": [
    "\n",
    "part  = dummy\n",
    "results = ducksussix.datspe(x       = part.x_sig, \n",
    "                            px      = part.px_sig,\n",
    "                            y       = part.y_sig, \n",
    "                            py      = part.py_sig,\n",
    "                            zeta    = part.zeta_sig, \n",
    "                            pzeta   = part.pzeta_sig,\n",
    "                            number_of_harmonics = 5,method = 'hanning')\n",
    "results['x']"
   ]
  },
  {
   "cell_type": "code",
   "execution_count": null,
   "metadata": {},
   "outputs": [
    {
     "name": "stdout",
     "output_type": "stream",
     "text": [
      "0\n",
      "1\n",
      "2\n",
      "3\n",
      "4\n"
     ]
    }
   ],
   "source": [
    "number_of_harmonics = 5\n",
    "for n in range(number_of_harmonics):\n",
    "    print(n)"
   ]
  },
  {
   "cell_type": "code",
   "execution_count": null,
   "metadata": {},
   "outputs": [
    {
     "data": {
      "text/plain": [
       "174000     0.000000\n",
       "174001     4.485921\n",
       "174002    -3.188665\n",
       "174003    -2.324784\n",
       "174004     5.081109\n",
       "             ...   \n",
       "1974995    0.948813\n",
       "1974996    4.041336\n",
       "1974997   -3.770697\n",
       "1974998   -1.452134\n",
       "1974999    4.983302\n",
       "Name: px_sig, Length: 10000, dtype: float64"
      ]
     },
     "execution_count": 11,
     "metadata": {},
     "output_type": "execute_result"
    }
   ],
   "source": [
    "part.px_sig"
   ]
  },
  {
   "cell_type": "code",
   "execution_count": null,
   "metadata": {},
   "outputs": [
    {
     "data": {
      "text/plain": [
       "'cross DATSPE X'"
      ]
     },
     "metadata": {},
     "output_type": "display_data"
    },
    {
     "data": {
      "text/html": [
       "<div>\n",
       "<style scoped>\n",
       "    .dataframe tbody tr th:only-of-type {\n",
       "        vertical-align: middle;\n",
       "    }\n",
       "\n",
       "    .dataframe tbody tr th {\n",
       "        vertical-align: top;\n",
       "    }\n",
       "\n",
       "    .dataframe thead th {\n",
       "        text-align: right;\n",
       "    }\n",
       "</style>\n",
       "<table border=\"1\" class=\"dataframe\">\n",
       "  <thead>\n",
       "    <tr style=\"text-align: right;\">\n",
       "      <th></th>\n",
       "      <th>zxpes</th>\n",
       "      <th>txa</th>\n",
       "    </tr>\n",
       "  </thead>\n",
       "  <tbody>\n",
       "    <tr>\n",
       "      <th>0</th>\n",
       "      <td>5.000000e+00+6.978777e-                    12j</td>\n",
       "      <td>0.310258</td>\n",
       "    </tr>\n",
       "    <tr>\n",
       "      <th>1</th>\n",
       "      <td>2.500000e-01+1.869515e-                    13j</td>\n",
       "      <td>-0.389490</td>\n",
       "    </tr>\n",
       "    <tr>\n",
       "      <th>2</th>\n",
       "      <td>-1.660121e-12-1.153461e-                    12j</td>\n",
       "      <td>0.310334</td>\n",
       "    </tr>\n",
       "    <tr>\n",
       "      <th>3</th>\n",
       "      <td>1.353238e-12-1.346130e-                    13j</td>\n",
       "      <td>0.310176</td>\n",
       "    </tr>\n",
       "    <tr>\n",
       "      <th>4</th>\n",
       "      <td>-8.767324e-13-4.034402e-                    15j</td>\n",
       "      <td>-0.242232</td>\n",
       "    </tr>\n",
       "  </tbody>\n",
       "</table>\n",
       "</div>"
      ],
      "text/plain": [
       "                                            zxpes       txa\n",
       "0  5.000000e+00+6.978777e-                    12j  0.310258\n",
       "1  2.500000e-01+1.869515e-                    13j -0.389490\n",
       "2 -1.660121e-12-1.153461e-                    12j  0.310334\n",
       "3  1.353238e-12-1.346130e-                    13j  0.310176\n",
       "4 -8.767324e-13-4.034402e-                    15j -0.242232"
      ]
     },
     "metadata": {},
     "output_type": "display_data"
    },
    {
     "data": {
      "text/plain": [
       "'duck DATSPE X'"
      ]
     },
     "metadata": {},
     "output_type": "display_data"
    },
    {
     "data": {
      "text/html": [
       "<div>\n",
       "<style scoped>\n",
       "    .dataframe tbody tr th:only-of-type {\n",
       "        vertical-align: middle;\n",
       "    }\n",
       "\n",
       "    .dataframe tbody tr th {\n",
       "        vertical-align: top;\n",
       "    }\n",
       "\n",
       "    .dataframe thead th {\n",
       "        text-align: right;\n",
       "    }\n",
       "</style>\n",
       "<table border=\"1\" class=\"dataframe\">\n",
       "  <thead>\n",
       "    <tr style=\"text-align: right;\">\n",
       "      <th></th>\n",
       "      <th>amplitude</th>\n",
       "      <th>frequency</th>\n",
       "    </tr>\n",
       "  </thead>\n",
       "  <tbody>\n",
       "    <tr>\n",
       "      <th>0</th>\n",
       "      <td>5.000000e+00+6.978777e-                    12j</td>\n",
       "      <td>0.310258</td>\n",
       "    </tr>\n",
       "    <tr>\n",
       "      <th>1</th>\n",
       "      <td>2.500000e-01-3.975696e-                    13j</td>\n",
       "      <td>-0.389490</td>\n",
       "    </tr>\n",
       "    <tr>\n",
       "      <th>2</th>\n",
       "      <td>-1.358933e-12-2.405760e-                    12j</td>\n",
       "      <td>0.310310</td>\n",
       "    </tr>\n",
       "    <tr>\n",
       "      <th>3</th>\n",
       "      <td>1.164419e-14-1.297436e-                    12j</td>\n",
       "      <td>-0.242294</td>\n",
       "    </tr>\n",
       "    <tr>\n",
       "      <th>4</th>\n",
       "      <td>-1.822203e-14-1.297595e-                    12j</td>\n",
       "      <td>-0.137190</td>\n",
       "    </tr>\n",
       "  </tbody>\n",
       "</table>\n",
       "</div>"
      ],
      "text/plain": [
       "                                        amplitude  frequency\n",
       "0  5.000000e+00+6.978777e-                    12j   0.310258\n",
       "1  2.500000e-01-3.975696e-                    13j  -0.389490\n",
       "2 -1.358933e-12-2.405760e-                    12j   0.310310\n",
       "3  1.164419e-14-1.297436e-                    12j  -0.242294\n",
       "4 -1.822203e-14-1.297595e-                    12j  -0.137190"
      ]
     },
     "metadata": {},
     "output_type": "display_data"
    }
   ],
   "source": [
    "part  = dummy\n",
    "datspe_x,datspe_y,datspe_s = crosssussix.datspe(part.x_sig,part.px_sig,\n",
    "                            part.y_sig,part.py_sig,\n",
    "                            part.zeta_sig,part.pzeta_sig,\n",
    "                            number_of_harmonics = 5,method = 'hanning',return_values = True)\n",
    "# ordres_x,ordres_y,ordres_s  = crosssussix.ordres(len(part.x_sig),tune_estimate = [0.31,0.32,0.0018],number_of_harmonics = 5,return_values = True)\n",
    "part  = dummy\n",
    "results = ducksussix.datspe(x       = part.x_sig, \n",
    "                            px      = part.px_sig,\n",
    "                            y       = part.y_sig, \n",
    "                            py      = part.py_sig,\n",
    "                            zeta    = part.zeta_sig, \n",
    "                            pzeta   = part.pzeta_sig,\n",
    "                            number_of_harmonics = 5,method = 'hanning')\n",
    "# results['x']\n",
    "display('cross DATSPE X',datspe_x)\n",
    "display('duck DATSPE X',results['x'])\n",
    "# display('DATSPE S',datspe_s)\n",
    "# display('ORDRES X',ordres_x)\n",
    "# display('ORDRES Y',ordres_y)\n",
    "# display('ORDRES S',ordres_s)"
   ]
  },
  {
   "cell_type": "code",
   "execution_count": null,
   "metadata": {},
   "outputs": [
    {
     "name": "stdout",
     "output_type": "stream",
     "text": [
      "0.3102579387508983\n",
      "0.3102579387508983\n",
      "0.31025793875089835\n",
      "----------------------------------------\n",
      "0.610509816252695\n",
      "0.6105098162526951\n",
      "0.6105098162526951\n"
     ]
    }
   ],
   "source": [
    "print(datspe_x.txa[0])\n",
    "print(results['x'].frequency[0])\n",
    "print([((1-j+k)*Qx + (m-l)*Qy) for (j,k,l,m),a in zip(jklm,aj)][0])\n",
    "print(40*'-')\n",
    "print(datspe_x.txa[1] +1)  \n",
    "print(results['x'].frequency[1] + 1)\n",
    "print([((1-j+k)*Qx + (m-l)*Qy) for (j,k,l,m),a in zip(jklm,aj)][1])"
   ]
  },
  {
   "cell_type": "code",
   "execution_count": null,
   "metadata": {},
   "outputs": [
    {
     "data": {
      "text/plain": [
       "(0.3104941320915292, (-563.0248944065856+1210.8842292755517j))"
      ]
     },
     "execution_count": 3,
     "metadata": {},
     "output_type": "execute_result"
    }
   ],
   "source": [
    "\n",
    "def hanning_window(n, order=1):\n",
    "    window = 0.5 - 0.5 * np.cos(2 * np.pi * np.arange(n) / (n - 1))\n",
    "    for _ in range(order - 1):\n",
    "        window = 0.5 - 0.5 * np.cos(2 * np.pi * window / (n - 1))\n",
    "    return window\n",
    "\n",
    "def tunenewt(x,px,hanning_order = 1):\n",
    "    \"\"\"COMPUTES THE TUNE USING A DISCRETE VERSION OF LASKAR METHOD.\n",
    "        IT INCLUDES A NEWTON METHOD FOR THE SEARCH OF THE FREQUENCY.\"\"\"\n",
    "\n",
    "    # Estimation of Tune with FFT\n",
    "    maxn = len(x)\n",
    "    mft = int(np.log2(maxn))\n",
    "    npoint = 2**mft\n",
    "    maxn2 = maxn // 2\n",
    "    step = 2 * np.pi / maxn\n",
    "\n",
    "    mf_values = np.arange(1, maxn + 1)\n",
    "    window = hanning_window(maxn, order=hanning_order)\n",
    "    # z = (x + 1j * px) * window\n",
    "    z = (x + 1j * px) * (1.0 + np.cos(step * (mf_values - maxn2)))\n",
    "    zsing = np.fft(z, n=-mft)\n",
    "\n",
    "\n",
    "    # Search for maximum in Fourier spectrum\n",
    "    ftmax = np.max(np.abs(zsing))\n",
    "    nftmax = np.argmax(np.abs(zsing))\n",
    "    \n",
    "    tunefou = float(nftmax - 1) / float(npoint)\n",
    "    if tunefou >= 0.5:\n",
    "        tunefou = -(1.0 - tunefou)\n",
    "\n",
    "    deltat = 1.0 / float(npoint)\n",
    "    tune1 = tunefou - deltat\n",
    "\n",
    "    # Call zfun\n",
    "    tune = zfunr(tune, zw, zsing, maxn, tune1, deltat)\n",
    "\n",
    "    # Call zfunr function\n",
    "    tune, zw = zfunr(0.0, 1.0 / maxn, x, px, maxn)\n",
    "\n",
    "    # Return tune\n",
    "    return tune\n",
    "    \n",
    "\n",
    "def zfunr(tunea1, deltat, z, maxn):\n",
    "    # Initialization\n",
    "    err = 1e-10\n",
    "    zu = 1j\n",
    "\n",
    "    # Divide deltat in 5 parts\n",
    "    deltat /= 5.0\n",
    "\n",
    "    # Create complex arrays\n",
    "    zd = zu * np.arange(1, maxn + 1) * z\n",
    "    tunetest = np.zeros(10)\n",
    "    tuneval = np.zeros(10)\n",
    "\n",
    "    # Calculate ztune1\n",
    "    ztune1 = np.exp(-zu * 2 * np.pi * tunea1)\n",
    "    zf = calcr(ztune1, z)\n",
    "    zfd = calcr(ztune1, zd)\n",
    "    dtunea1 = np.real(zf) * np.real(zfd) + np.imag(zf) * np.imag(zfd)\n",
    "\n",
    "    num = 1\n",
    "    for ntest in range(10):\n",
    "        tunea2 = tunea1 + deltat\n",
    "        ztune2 = np.exp(-zu * 2 * np.pi * tunea2)\n",
    "        zf = calcr(ztune2, z)\n",
    "        zfd = calcr(ztune2, zd)\n",
    "        dtunea2 = np.real(zf) * np.real(zfd) + np.imag(zf) * np.imag(zfd)\n",
    "\n",
    "        if dtunea1 <= 0.0 and dtunea2 >= 0.0:\n",
    "            tune1, tune2, dtune1, dtune2 = tunea1, tunea2, dtunea1, dtunea2\n",
    "\n",
    "            for ncont in range(100):\n",
    "                ratio = -dtune1 / dtune2 if np.abs(dtune2) > 0 else 0.0\n",
    "                tune3 = (tune1 + ratio * tune2) / (1.0 + ratio)\n",
    "                ztune3 = np.exp(-zu * 2 * np.pi * tune3)\n",
    "                zf = calcr(ztune3, z)\n",
    "                zfd = calcr(ztune3, zd)\n",
    "                dtune3 = np.real(zf) * np.real(zfd) + np.imag(zf) * np.imag(zfd)\n",
    "\n",
    "                if dtune3 <= 0.0:\n",
    "                    if tune1 == tune3:\n",
    "                        break\n",
    "                    tune1, dtune1 = tune3, dtune3\n",
    "                else:\n",
    "                    if tune2 == tune3:\n",
    "                        break\n",
    "                    tune2, dtune2 = tune3, dtune3\n",
    "\n",
    "                if np.abs(tune2 - tune1) <= err:\n",
    "                    break\n",
    "\n",
    "            tunetest[num - 1] = tune3\n",
    "            tuneval[num - 1] = np.abs(zf)\n",
    "            num += 1\n",
    "\n",
    "        tunea1, dtunea1 = tunea2, dtunea2\n",
    "\n",
    "    tune = tunetest[0]\n",
    "    tunevmax = tuneval[0]\n",
    "\n",
    "    for nc in range(1, num - 1):\n",
    "        if tunevmax <= tuneval[nc]:\n",
    "            tunevmax = tuneval[nc]\n",
    "            tune = tunetest[nc]\n",
    "\n",
    "    ztune = np.exp(-zu * 2 * np.pi * tune)\n",
    "    zw = calcr(ztune, z)\n",
    "\n",
    "    return tune, zw\n",
    "\n",
    "def calcr(zv, zp):\n",
    "    return np.polyval(zp[::-1], zv)\n",
    "\n",
    "\n",
    "\n",
    "x = dummy.x_sig\n",
    "px = dummy.px_sig\n",
    "# Estimation of Tune with FFT\n",
    "maxn = len(x)\n",
    "mft = int(np.log2(maxn))\n",
    "npoint = 2**mft\n",
    "maxn2 = maxn // 2\n",
    "step = 2 * np.pi / maxn\n",
    "\n",
    "mf_values = np.arange(1, maxn + 1)\n",
    "z = (x + 1j * px).values * (1.0 + np.cos(step * (mf_values - maxn2)))\n",
    "zfunr(0.3103, 1.0 / len(x), z, len(x))\n",
    "\n",
    "\n"
   ]
  },
  {
   "cell_type": "code",
   "execution_count": null,
   "metadata": {},
   "outputs": [
    {
     "data": {
      "text/plain": [
       "(0.3102579387508983, (49999.99999998262+6.978776798095439e-08j))"
      ]
     },
     "execution_count": 58,
     "metadata": {},
     "output_type": "execute_result"
    }
   ],
   "source": [
    "crossroutines.tunenewt(dummy.x_sig,dummy.px_sig)"
   ]
  },
  {
   "cell_type": "code",
   "execution_count": null,
   "metadata": {},
   "outputs": [
    {
     "data": {
      "text/plain": [
       "0.31025793875089835"
      ]
     },
     "execution_count": 59,
     "metadata": {},
     "output_type": "execute_result"
    }
   ],
   "source": [
    "Qx"
   ]
  },
  {
   "cell_type": "code",
   "execution_count": null,
   "metadata": {},
   "outputs": [
    {
     "name": "stdout",
     "output_type": "stream",
     "text": [
      "0 0.3104009651891076 (1185.1469489622502-5300.175993804718j)\n"
     ]
    },
    {
     "name": "stderr",
     "output_type": "stream",
     "text": [
      "/var/folders/yf/hpn77ycx7h50r6rt81q7lghr0000gn/T/ipykernel_15405/1550561742.py:9: ComplexWarning: Casting complex values to real discards the imaginary part\n",
      "  _z[:maxn] = z\n"
     ]
    }
   ],
   "source": [
    "def zfunr(z,tune0):\n",
    "    size_tbt    = 100000\n",
    "\n",
    "    _z   = np.zeros(size_tbt)\n",
    "    tune = 0\n",
    "    zw   = complex(0,0)\n",
    "\n",
    "    maxn = len(z)\n",
    "    _z[:maxn] = z\n",
    "\n",
    "    tunea1 = tune0\n",
    "    deltat = 1.0 / maxn\n",
    "    f90sussix.zfunr(tune,zw,_z,maxn,tunea1,deltat)\n",
    "    print(tune,f90sussix.zfunr_out.tune_out[0],f90sussix.zfunr_out.zw_out[0])\n",
    "\n",
    "\n",
    "x = dummy.x_sig\n",
    "px = dummy.px_sig\n",
    "# Estimation of Tune with FFT\n",
    "maxn = len(x)\n",
    "mft = int(np.log2(maxn))\n",
    "npoint = 2**mft\n",
    "maxn2 = maxn // 2\n",
    "step = 2 * np.pi / maxn\n",
    "\n",
    "mf_values = np.arange(1, maxn + 1)\n",
    "z = (x + 1j * px).values #* (1.0 + np.cos(step * (mf_values - maxn2)))\n",
    "zfunr(z,0.3103)"
   ]
  },
  {
   "cell_type": "code",
   "execution_count": null,
   "metadata": {},
   "outputs": [
    {
     "data": {
      "text/plain": [
       "0.31025793875089835"
      ]
     },
     "execution_count": 9,
     "metadata": {},
     "output_type": "execute_result"
    }
   ],
   "source": []
  },
  {
   "cell_type": "code",
   "execution_count": null,
   "metadata": {},
   "outputs": [
    {
     "data": {
      "text/plain": [
       "array([1, 4, 9])"
      ]
     },
     "execution_count": 18,
     "metadata": {},
     "output_type": "execute_result"
    }
   ],
   "source": [
    "calcr([1,2,3],[0,0,1])"
   ]
  },
  {
   "cell_type": "code",
   "execution_count": null,
   "metadata": {},
   "outputs": [
    {
     "data": {
      "text/plain": [
       "(-7.6073850024454694+18.49678112860685j)"
      ]
     },
     "execution_count": 7,
     "metadata": {},
     "output_type": "execute_result"
    }
   ],
   "source": [
    "\n",
    "\n",
    "def calcr(zv, zp):\n",
    "    \"\"\"\n",
    "    Auxiliary routine used by TUNENEWT.\n",
    "\n",
    "    Parameters:\n",
    "    - zv: complex value\n",
    "    - zp: array of complex coefficients\n",
    "\n",
    "    Returns:\n",
    "    - zpp: result of the polynomial evaluation\n",
    "    \"\"\"\n",
    "    zpp = zp[-1]\n",
    "\n",
    "    for np in range(len(zp) - 2, 0, -1):\n",
    "        zpp = zpp * zv + zp[np]\n",
    "\n",
    "    return zpp\n",
    "\n",
    "zv = np.exp(-1j * 2 * np.pi * 0.31)\n",
    "zp = (dummy.x_sig[:5] + 1j*dummy.px_sig[:5]).values\n",
    "calcr(zv,zp)"
   ]
  },
  {
   "cell_type": "code",
   "execution_count": null,
   "metadata": {},
   "outputs": [
    {
     "data": {
      "text/plain": [
       "(-0.368124552684678-0.9297764858882513j)"
      ]
     },
     "execution_count": 47,
     "metadata": {},
     "output_type": "execute_result"
    }
   ],
   "source": [
    "zv"
   ]
  },
  {
   "cell_type": "code",
   "execution_count": null,
   "metadata": {},
   "outputs": [
    {
     "name": "stdout",
     "output_type": "stream",
     "text": [
      "--\n",
      "--\n",
      "--\n",
      "python: (-1.5533207802412132-1.2876945908120199j)\n",
      "sussix: [-1.55332078-1.28769459j]\n"
     ]
    }
   ],
   "source": [
    "x,px = dummy.x_sig,dummy.px_sig\n",
    "x,px = particle0.x_sig,particle0.px_sig\n",
    "\n",
    "# def calcr(tune_phasor, z):\n",
    "#     return np.polyval(z[::-1], tune_phasor)\n",
    "\n",
    "\n",
    "def testcalcr(x,px):\n",
    "    \n",
    "    ztune1 = np.exp(-1j * 2 * np.pi * 0.31)\n",
    "    # zpp\n",
    "    #np.array([complex(0,0)], dtype='complex', order='F')\n",
    "    z      = (x + 1j * px).values\n",
    "    zf     = z[-1]*0 + 1\n",
    "    maxn   = len(z)\n",
    "\n",
    "\n",
    "    f90sussix.calcr(ztune1,zf,z,maxn)\n",
    "    print('--')\n",
    "    print('--')\n",
    "    print('--')\n",
    "\n",
    "    print('python:',ducksussix.calcr(ztune1,z))\n",
    "    print('sussix:',f90sussix.calcr_out.zpp_out)\n",
    "    return None\n",
    "\n",
    "testcalcr(x,px);"
   ]
  },
  {
   "cell_type": "code",
   "execution_count": null,
   "metadata": {},
   "outputs": [
    {
     "ename": "AttributeError",
     "evalue": "module 'PySUSSIX.f90sussix.f90sussix' has no attribute 'calcr_out'",
     "output_type": "error",
     "traceback": [
      "\u001b[0;31m---------------------------------------------------------------------------\u001b[0m",
      "\u001b[0;31mAttributeError\u001b[0m                            Traceback (most recent call last)",
      "\u001b[1;32m/Users/pbelanger/ABPLocal/PySUSSIX/build_sussix.ipynb Cell 36\u001b[0m line \u001b[0;36m1\n\u001b[0;32m----> <a href='vscode-notebook-cell:/Users/pbelanger/ABPLocal/PySUSSIX/build_sussix.ipynb#Y104sZmlsZQ%3D%3D?line=0'>1</a>\u001b[0m f90sussix\u001b[39m.\u001b[39;49mcalcr_out\u001b[39m.\u001b[39mzpp_out\n",
      "\u001b[0;31mAttributeError\u001b[0m: module 'PySUSSIX.f90sussix.f90sussix' has no attribute 'calcr_out'"
     ]
    }
   ],
   "source": [
    "f90sussix.calcr_out.zpp_out"
   ]
  },
  {
   "cell_type": "code",
   "execution_count": null,
   "metadata": {},
   "outputs": [
    {
     "name": "stdout",
     "output_type": "stream",
     "text": [
      "(-1.5533207802412132-1.2876945908120199j)\n",
      "(84560.4437900024+3476.213604524224j)\n"
     ]
    }
   ],
   "source": [
    "ztune1 = np.exp(-1j * 2 * np.pi * 0.31)\n",
    "z      = (x + 1j * px).values\n",
    "zd     = 1j * np.arange(1, len(x) + 1) * z\n",
    "def calcr(tune_phasor, z):\n",
    "    return np.polyval(z[::-1], tune_phasor)\n",
    "\n",
    "print(calcr(ztune1,z))\n",
    "print(calcr(ztune1,zd))"
   ]
  },
  {
   "cell_type": "code",
   "execution_count": null,
   "metadata": {},
   "outputs": [
    {
     "data": {
      "text/plain": [
       "array([-0.36812455-0.92977649j, -0.72896863+0.68454711j,\n",
       "        0.90482705+0.42577929j,  0.06279052-0.99802673j,\n",
       "       -0.95105652+0.30901699j])"
      ]
     },
     "execution_count": 8,
     "metadata": {},
     "output_type": "execute_result"
    }
   ],
   "source": [
    "ztune1**np.arange(1,6)\n",
    "# sum()"
   ]
  },
  {
   "cell_type": "code",
   "execution_count": null,
   "metadata": {},
   "outputs": [],
   "source": [
    "x,px = dummy.x_sig,dummy.px_sig\n",
    "z    = (x + 1j * px).values\n",
    "zu = 1j\n",
    "zd = zu * np.arange(1, len(x) + 1) * z\n"
   ]
  },
  {
   "cell_type": "code",
   "execution_count": null,
   "metadata": {},
   "outputs": [
    {
     "data": {
      "text/plain": [
       "array([ 0.        +5.25j      , -8.9718421 -4.08054309j,\n",
       "        9.5659946-10.7653758j ])"
      ]
     },
     "execution_count": 13,
     "metadata": {},
     "output_type": "execute_result"
    }
   ],
   "source": [
    "zd[:3]"
   ]
  },
  {
   "cell_type": "code",
   "execution_count": null,
   "metadata": {},
   "outputs": [
    {
     "data": {
      "text/plain": [
       "array([ 5.25      +0.j        , -2.04027154+4.48592105j,\n",
       "       -3.5884586 -3.18866487j])"
      ]
     },
     "execution_count": 12,
     "metadata": {},
     "output_type": "execute_result"
    }
   ],
   "source": [
    "\n",
    "z[:3]"
   ]
  },
  {
   "cell_type": "code",
   "execution_count": null,
   "metadata": {},
   "outputs": [
    {
     "data": {
      "text/plain": [
       "array([ 5.25      +0.j        , -2.04027154+4.48592105j,\n",
       "       -3.5884586 -3.18866487j, ..., -3.00012838-3.77069656j,\n",
       "        5.01311918-1.45213354j, -0.84877524+4.98330221j])"
      ]
     },
     "execution_count": 34,
     "metadata": {},
     "output_type": "execute_result"
    }
   ],
   "source": [
    "z"
   ]
  },
  {
   "cell_type": "code",
   "execution_count": null,
   "metadata": {},
   "outputs": [
    {
     "data": {
      "text/plain": [
       "(0.3101149097759907, (2364.494114040298+10601.232243917377j))"
      ]
     },
     "execution_count": 37,
     "metadata": {},
     "output_type": "execute_result"
    }
   ],
   "source": [
    "zfunr(0.31, 1/len(z), z, len(z))"
   ]
  },
  {
   "cell_type": "code",
   "execution_count": null,
   "metadata": {},
   "outputs": [
    {
     "data": {
      "text/plain": [
       "0.31025793875089835"
      ]
     },
     "execution_count": 38,
     "metadata": {},
     "output_type": "execute_result"
    }
   ],
   "source": [
    "Qx"
   ]
  },
  {
   "cell_type": "code",
   "execution_count": null,
   "metadata": {},
   "outputs": [
    {
     "ename": "RuntimeError",
     "evalue": "Failed to converge after 50 iterations, value is (0.31022499177146423+0.0051195234248250674j).",
     "output_type": "error",
     "traceback": [
      "\u001b[0;31m---------------------------------------------------------------------------\u001b[0m",
      "\u001b[0;31mRuntimeError\u001b[0m                              Traceback (most recent call last)",
      "\u001b[1;32m/Users/pbelanger/ABPLocal/PySUSSIX/build_sussix.ipynb Cell 41\u001b[0m line \u001b[0;36m3\n\u001b[1;32m     <a href='vscode-notebook-cell:/Users/pbelanger/ABPLocal/PySUSSIX/build_sussix.ipynb#X52sZmlsZQ%3D%3D?line=30'>31</a>\u001b[0m tolerance \u001b[39m=\u001b[39m \u001b[39m1e-10\u001b[39m\n\u001b[1;32m     <a href='vscode-notebook-cell:/Users/pbelanger/ABPLocal/PySUSSIX/build_sussix.ipynb#X52sZmlsZQ%3D%3D?line=32'>33</a>\u001b[0m \u001b[39m# Use Newton's method with specified tolerance\u001b[39;00m\n\u001b[0;32m---> <a href='vscode-notebook-cell:/Users/pbelanger/ABPLocal/PySUSSIX/build_sussix.ipynb#X52sZmlsZQ%3D%3D?line=33'>34</a>\u001b[0m result_tune \u001b[39m=\u001b[39m newton(zfun, initial_guess,fprime\u001b[39m=\u001b[39;49mzfund, args\u001b[39m=\u001b[39;49margs)\n\u001b[1;32m     <a href='vscode-notebook-cell:/Users/pbelanger/ABPLocal/PySUSSIX/build_sussix.ipynb#X52sZmlsZQ%3D%3D?line=35'>36</a>\u001b[0m \u001b[39m# Now result_tune contains the tuned value of the tune\u001b[39;00m\n\u001b[1;32m     <a href='vscode-notebook-cell:/Users/pbelanger/ABPLocal/PySUSSIX/build_sussix.ipynb#X52sZmlsZQ%3D%3D?line=36'>37</a>\u001b[0m \u001b[39mprint\u001b[39m(\u001b[39m\"\u001b[39m\u001b[39mTuned Tune:\u001b[39m\u001b[39m\"\u001b[39m, result_tune)\n",
      "File \u001b[0;32m~/ABPLocal/PySUSSIX/Executables/miniforge3/envs/py-sussix/lib/python3.10/site-packages/scipy/optimize/_zeros_py.py:384\u001b[0m, in \u001b[0;36mnewton\u001b[0;34m(func, x0, fprime, args, tol, maxiter, fprime2, x1, rtol, full_output, disp)\u001b[0m\n\u001b[1;32m    381\u001b[0m \u001b[39mif\u001b[39;00m disp:\n\u001b[1;32m    382\u001b[0m     msg \u001b[39m=\u001b[39m (\u001b[39m\"\u001b[39m\u001b[39mFailed to converge after \u001b[39m\u001b[39m%d\u001b[39;00m\u001b[39m iterations, value is \u001b[39m\u001b[39m%s\u001b[39;00m\u001b[39m.\u001b[39m\u001b[39m\"\u001b[39m\n\u001b[1;32m    383\u001b[0m            \u001b[39m%\u001b[39m (itr \u001b[39m+\u001b[39m \u001b[39m1\u001b[39m, p))\n\u001b[0;32m--> 384\u001b[0m     \u001b[39mraise\u001b[39;00m \u001b[39mRuntimeError\u001b[39;00m(msg)\n\u001b[1;32m    386\u001b[0m \u001b[39mreturn\u001b[39;00m _results_select(full_output, (p, funcalls, itr \u001b[39m+\u001b[39m \u001b[39m1\u001b[39m, _ECONVERR))\n",
      "\u001b[0;31mRuntimeError\u001b[0m: Failed to converge after 50 iterations, value is (0.31022499177146423+0.0051195234248250674j)."
     ]
    }
   ],
   "source": [
    "import numpy as np\n",
    "from scipy.optimize import newton\n",
    "\n",
    "def zfun(tune, z, maxn):\n",
    "    # Implementation of the function z(tune)\n",
    "    # Modify this based on your actual function\n",
    "    ztune = np.exp(-1j * 2 * np.pi * tune)\n",
    "    return np.polyval(z[::-1], ztune)\n",
    "\n",
    "def zfund(tune, z, maxn):\n",
    "    # Implementation of the function z(tune)\n",
    "    # Modify this based on your actual function\n",
    "\n",
    "    zd = 1j * np.arange(1, maxn + 1) * z\n",
    "    ztune = np.exp(-1j * 2 * np.pi * tune)\n",
    "    return np.polyval(zd[::-1], ztune)\n",
    "\n",
    "def equation_to_solve(tune, z, maxn):\n",
    "    # The equation to solve using Newton's method\n",
    "    return zfun(tune, z, maxn)\n",
    "\n",
    "# Initial guess for the tune\n",
    "initial_guess = 0.3103\n",
    "\n",
    "# Additional arguments to pass to the function and its derivative\n",
    "x,px = dummy.x_sig,dummy.px_sig\n",
    "z    = (x + 1j * px).values\n",
    "args = (z, len(z))\n",
    "\n",
    "# Tolerance for convergence\n",
    "tolerance = 1e-10\n",
    "\n",
    "# Use Newton's method with specified tolerance\n",
    "result_tune = newton(zfun, initial_guess,fprime=zfund, args=args)\n",
    "\n",
    "# Now result_tune contains the tuned value of the tune\n",
    "print(\"Tuned Tune:\", result_tune)"
   ]
  },
  {
   "cell_type": "code",
   "execution_count": null,
   "metadata": {},
   "outputs": [],
   "source": [
    "def cfft(z):\n",
    "    size_tbt = 100000\n",
    "    maxn     = len(z)\n",
    "    mft      = int(np.log2(maxn))\n",
    "\n",
    "    _z       = np.zeros(size_tbt) + 1j*np.zeros(size_tbt)\n",
    "    _z[:maxn]= z\n",
    "    \n",
    "    f90sussix.cfft(_z,-mft)\n",
    "    return _z\n",
    "\n",
    "_z = cfft(z)"
   ]
  },
  {
   "cell_type": "code",
   "execution_count": null,
   "metadata": {},
   "outputs": [
    {
     "data": {
      "text/plain": [
       "array([ 5.25      +0.j        , -2.04027154+4.48592105j,\n",
       "       -3.5884586 -3.18866487j, ..., -3.00012838-3.77069656j,\n",
       "        5.01311918-1.45213354j, -0.84877524+4.98330221j])"
      ]
     },
     "execution_count": 22,
     "metadata": {},
     "output_type": "execute_result"
    }
   ],
   "source": [
    "z"
   ]
  },
  {
   "cell_type": "code",
   "execution_count": null,
   "metadata": {},
   "outputs": [
    {
     "data": {
      "text/plain": [
       "array([ 5.25      +0.j        , -2.04027154+4.48592105j,\n",
       "       -3.5884586 -3.18866487j, ...,  0.        +0.j        ,\n",
       "        0.        +0.j        ,  0.        +0.j        ])"
      ]
     },
     "execution_count": 23,
     "metadata": {},
     "output_type": "execute_result"
    }
   ],
   "source": [
    "_z"
   ]
  },
  {
   "cell_type": "code",
   "execution_count": null,
   "metadata": {},
   "outputs": [
    {
     "data": {
      "text/plain": [
       "array([3.0356741 , 3.03461075, 3.03367257, ..., 0.        , 0.        ,\n",
       "       0.        ])"
      ]
     },
     "execution_count": 16,
     "metadata": {},
     "output_type": "execute_result"
    }
   ],
   "source": [
    "f90sussix.cfft_out.a_out"
   ]
  },
  {
   "cell_type": "code",
   "execution_count": null,
   "metadata": {},
   "outputs": [
    {
     "ename": "NameError",
     "evalue": "name 'z' is not defined",
     "output_type": "error",
     "traceback": [
      "\u001b[0;31m---------------------------------------------------------------------------\u001b[0m",
      "\u001b[0;31mNameError\u001b[0m                                 Traceback (most recent call last)",
      "\u001b[1;32m/Users/pbelanger/ABPLocal/PySUSSIX/build_sussix.ipynb Cell 52\u001b[0m line \u001b[0;36m1\n\u001b[0;32m----> <a href='vscode-notebook-cell:/Users/pbelanger/ABPLocal/PySUSSIX/build_sussix.ipynb#Y126sZmlsZQ%3D%3D?line=0'>1</a>\u001b[0m z\n",
      "\u001b[0;31mNameError\u001b[0m: name 'z' is not defined"
     ]
    }
   ],
   "source": [
    "z"
   ]
  },
  {
   "cell_type": "code",
   "execution_count": null,
   "metadata": {},
   "outputs": [
    {
     "name": "stdout",
     "output_type": "stream",
     "text": [
      " A1            (0.238162160,1.65394080)\n",
      " A2            (0.237567306,1.65453088)\n",
      "(0.3102579387508983, (49999.99999998262+6.978776798095439e-08j))\n",
      "(0.31025793875089835)\n"
     ]
    }
   ],
   "source": [
    "def cfft(z):\n",
    "    size_tbt = 100000\n",
    "    maxn     = len(z)\n",
    "    mft      = int(np.log2(maxn))\n",
    "\n",
    "    _z       = np.zeros(size_tbt) + 1j*np.zeros(size_tbt)\n",
    "    _z[:maxn]= z\n",
    "    \n",
    "    f90sussix.cfft(_z,-mft)\n",
    "    \n",
    "    return f90sussix.cfft_out.a_out\n",
    "\n",
    "\n",
    "\n",
    "def tunenewt(x,px,hanning_order = 1):\n",
    "    \"\"\"COMPUTES THE TUNE USING A DISCRETE VERSION OF LASKAR METHOD.\n",
    "        IT INCLUDES A NEWTON METHOD FOR THE SEARCH OF THE FREQUENCY.\"\"\"\n",
    "\n",
    "    # Estimation of Tune with FFT\n",
    "    maxn = len(x)\n",
    "    mft = int(np.log2(maxn))\n",
    "    npoint = 2**mft\n",
    "    maxn2 = maxn // 2\n",
    "    step = 2 * np.pi / maxn\n",
    "\n",
    "    mf_values = np.arange(1, maxn + 1)\n",
    "\n",
    "\n",
    "    z = (x + 1j *px).values * (1.0 + np.cos(step * (mf_values - maxn2)))\n",
    "\n",
    "\n",
    "    # Search for maximum in Fourier spectrum\n",
    "    zsing = crossroutines.cfft(z)\n",
    "    ftmax = np.max(np.abs(zsing[:npoint]))\n",
    "    nftmax = np.argmax(np.abs(zsing[:npoint]))\n",
    "    \n",
    "    tunefou = float(nftmax ) / float(npoint)\n",
    "    \n",
    "    if tunefou >= 0.5:\n",
    "        tunefou = -(1.0 - tunefou)\n",
    "    deltat = 1.0 / float(npoint)\n",
    "\n",
    "    \n",
    "    tune1 = tunefou - deltat\n",
    "    \n",
    "    \n",
    "    # Call zfun\n",
    "    tune,zw = crossroutines.zfunr(z,tune1)\n",
    "\n",
    "    return tune,zw\n",
    "\n",
    "x,px = dummy.x_sig,dummy.px_sig\n",
    "print(tunenewt(x,px))\n",
    "print(f'({Qx})')\n",
    "\n"
   ]
  }
 ],
 "metadata": {
  "kernelspec": {
   "display_name": "py-sussix",
   "language": "python",
   "name": "py-sussix"
  },
  "language_info": {
   "codemirror_mode": {
    "name": "ipython",
    "version": 3
   },
   "file_extension": ".py",
   "mimetype": "text/x-python",
   "name": "python",
   "nbconvert_exporter": "python",
   "pygments_lexer": "ipython3",
   "version": "3.10.13"
  }
 },
 "nbformat": 4,
 "nbformat_minor": 2
}
