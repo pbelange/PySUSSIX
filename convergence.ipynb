{
 "cells": [
  {
   "cell_type": "code",
   "execution_count": 1,
   "metadata": {},
   "outputs": [
    {
     "data": {
      "text/plain": [
       "Text(0, 0.5, '|amplitude|')"
      ]
     },
     "execution_count": 1,
     "metadata": {},
     "output_type": "execute_result"
    },
    {
     "data": {
      "image/png": "[encoded data removed]",
      "text/plain": [
       "<Figure size 1500x400 with 1 Axes>"
      ]
     },
     "metadata": {},
     "output_type": "display_data"
    }
   ],
   "source": [
    "import numpy as np\n",
    "import matplotlib.pyplot as plt\n",
    "import pandas as pd\n",
    "import sys\n",
    "import scipy.stats as sciStat\n",
    "\n",
    "\n",
    "import PySUSSIX.f90sussix.f90sussix as f90sussix\n",
    "from PySUSSIX.f90sussix.sussix import  F90Sussix\n",
    "\n",
    "import PySUSSIX.crosssussix.crossroutines as crossroutines\n",
    "import PySUSSIX.crosssussix.crosssussix as crosssussix\n",
    "import PySUSSIX.crosssussix.crossref as crossref\n",
    "\n",
    "import PySUSSIX.ducksussix.ducksussix as ducksussix\n",
    "\n",
    "\n",
    "# Creating dummy x,px\n",
    "def get_FFT(x):\n",
    "    x     = np.array(x)\n",
    "    turns = np.arange(len(x))\n",
    "\n",
    "    # Cropping signal to closest power of 2\n",
    "    Nt      = len(x)\n",
    "    crop_at = 2**int(np.log2(Nt))\n",
    "\n",
    "\n",
    "\n",
    "    \n",
    "    spectrum = np.fft.fft(x[:crop_at])\n",
    "    freq     = np.fft.fftfreq(turns[:crop_at].shape[-1])\n",
    "\n",
    "    idx      = np.argmax(np.abs(spectrum))\n",
    "    Qx       = freq[idx]\n",
    "    return freq[freq>0],np.abs(spectrum)[freq>0]\n",
    "\n",
    "\n",
    "\n",
    "Q0 = 0.31025793875089835\n",
    "Qs = 0.002\n",
    "dQ = Qs/12\n",
    "Jx = (0.5*(10**2))\n",
    "\n",
    "n_bands_Qs = 1\n",
    "n_bands_dQ = 5\n",
    "N   = np.arange(int(1e6))\n",
    "j   = np.arange(-n_bands_Qs,n_bands_Qs+1)\n",
    "i   = np.arange(-n_bands_dQ,n_bands_dQ+1)\n",
    "\n",
    "\n",
    "\n",
    "Ai  = sciStat.cauchy.pdf(i/np.max(i),0,0.05)\n",
    "Aj  = sciStat.cauchy.pdf(j/np.max(j),0,0.05)\n",
    "Ai  = Ai/np.max(Ai)\n",
    "Aj  = Aj/np.max(Aj)\n",
    "np.random.seed(0)\n",
    "phii = np.zeros(len(i))#np.random.uniform(-np.pi/2,np.pi/2,len(i))\n",
    "phij = np.zeros(len(j))#np.random.uniform(-np.pi/2,np.pi/2,len(j)) \n",
    "# x = sum([sum([ _Ai*_Aj * np.sin(2*np.pi*(Q0+ _j*Qs + _i*dQ)*N) for _i,_Ai in zip(i,Ai) ]) for _j,_Aj in zip(j,Aj) ])\n",
    "hx_full = sum([sum([ np.sqrt(2*Jx)*_Ai*_Aj * np.exp(1j*2*np.pi*(Q0+ _j*Qs + _i*dQ)*N + _phii + _phij) for _i,_Ai,_phii in zip(i,Ai,phii) ]) for _j,_Aj,_phij in zip(j,Aj,phij) ])\n",
    "x  = hx_full.real\n",
    "px = hx_full.imag\n",
    "\n",
    "expected = pd.DataFrame({'amplitude':np.array([[ (np.sqrt(2*Jx)*_Ai*_Aj) for _i,_Ai,_phii in zip(i,Ai,phii) ] for _j,_Aj,_phij in zip(j,Aj,phij) ]).flatten(),\n",
    "                         'frequency':np.array([[Q0+ _j*Qs + _i*dQ for _i,_Ai,_phii in zip(i,Ai,phii) ] for _j,_Aj,_phij in zip(j,Aj,phij) ]).flatten()})\n",
    "expected.sort_values(by='amplitude',ascending=False,inplace=True)\n",
    "expected.reset_index(drop=True,inplace=True)\n",
    "# plt.figure()\n",
    "# plt.plot(x,px,'o',alpha=0.002)\n",
    "# plt.axis('square')\n",
    "# plt.xlabel('x')\n",
    "# plt.ylabel('px')\n",
    "\n",
    "\n",
    "plt.figure(figsize=(15,4))\n",
    "freq,spectrum = get_FFT(hx_full)\n",
    "plt.plot(freq,spectrum/np.max(spectrum),'-')\n",
    "plt.yscale('log')\n",
    "plt.xlim(Q0-10*Qs,Q0+10*Qs)\n",
    "plt.xlabel('Frequency')\n",
    "plt.ylabel('|amplitude|')\n",
    "\n",
    "# plt.figure(figsize=(15,4))\n",
    "# freq,spectrum = get_FFT(x)\n",
    "# plt.plot(freq,spectrum/np.max(spectrum),'-')\n",
    "# plt.yscale('log')\n",
    "# # plt.xlim(Q0-10*dQ,Q0+10*dQ)\n",
    "# plt.xlim(Q0-1*Qs,Q0+1*Qs)\n",
    "# plt.xlabel('Frequency')\n",
    "# plt.ylabel('|amplitude|')\n",
    "\n",
    "# display(expected)\n"
   ]
  },
  {
   "cell_type": "markdown",
   "metadata": {},
   "source": [
    "---\n",
    "# Convergence study\n",
    "---"
   ]
  },
  {
   "cell_type": "code",
   "execution_count": null,
   "metadata": {},
   "outputs": [],
   "source": []
  },
  {
   "cell_type": "code",
   "execution_count": null,
   "metadata": {},
   "outputs": [],
   "source": [
    "N = int(1e4 )\n",
    "results = ducksussix.datspe(    x       = x[:N], \n",
    "                                px      = px[:N],\n",
    "                                y       = None,\n",
    "                                py      = None,\n",
    "                                zeta    = None,\n",
    "                                pzeta   = None,\n",
    "                                number_of_harmonics = 2*len(expected),Hann_order = 1)"
   ]
  },
  {
   "cell_type": "code",
   "execution_count": null,
   "metadata": {},
   "outputs": [],
   "source": [
    "results['x'].loc[25:45]"
   ]
  },
  {
   "cell_type": "code",
   "execution_count": 2,
   "metadata": {},
   "outputs": [],
   "source": [
    "\n",
    "x,px = hx_full.real,hx_full.imag\n",
    "N_vec = np.logspace(3,5,50).astype(int)\n",
    "\n",
    "freq_df = []\n",
    "amp_df = []\n",
    "exc_df = []\n",
    "for N in N_vec:\n",
    "    results = ducksussix.get_harmonics( x       = x[:N], \n",
    "                                        px      = px[:N],\n",
    "                                        y       = None,\n",
    "                                        py      = None,\n",
    "                                        zeta    = None,\n",
    "                                        pzeta   = None,\n",
    "                                        number_of_harmonics = len(expected),Hann_order = 1,\n",
    "                                        optimization='fortran')\n",
    "\n",
    "    # Finding matching line, higher weight on the frequency.\n",
    "    tol_amp  = 1e0\n",
    "    # tol_freq = dQ\n",
    "    found = results['x'].copy()\n",
    "    found.amplitude = found.amplitude.abs()\n",
    "    found.insert(0,'match',np.nan)\n",
    "    for line in found.index:\n",
    "        distance = 0.2*(expected['amplitude']-found.loc[line,'amplitude'])**2 + 0.8*(expected['frequency']-found.loc[line,'frequency'])**2\n",
    "        if np.sqrt(distance.min())/found.loc[line,'amplitude'] <1e-1 :#+ 0.8*(tol_freq)**2:\n",
    "            found.loc[line,'match'] = int(distance.idxmin())\n",
    "\n",
    "    # Creating frequency and amplitude table\n",
    "    df_f = pd.DataFrame({f'freq:{i}':[np.nan] for i in expected.index},index=[N])\n",
    "    df_a = pd.DataFrame({f'Err_amp:{i}':[np.nan] for i in expected.index},index=[N])\n",
    "    exc_count = 0\n",
    "    for idx,row in found.iterrows():\n",
    "        if not pd.isna(row['match']):\n",
    "            df_f.loc[N,f'freq:{row[\"match\"]:.0f}'] = row['frequency']\n",
    "            df_a.loc[N,f'Err_amp:{row[\"match\"]:.0f}']  = np.abs(row['amplitude']-expected.loc[row[\"match\"]].amplitude)/expected.loc[row[\"match\"]].amplitude\n",
    "        else:\n",
    "            exc_count += 1\n",
    "    df_exc =  pd.DataFrame({f'excluded':[exc_count] for i in expected.index},index=[N])\n",
    "\n",
    "\n",
    "    # saving results\n",
    "    freq_df.append(df_f)\n",
    "    amp_df.append(df_a)\n",
    "    exc_df.append(df_exc)\n",
    "\n",
    "\n",
    "df_freq = pd.concat(freq_df)\n",
    "df_amp  = pd.concat(amp_df)\n",
    "df_exc  = pd.concat(exc_df)"
   ]
  },
  {
   "cell_type": "markdown",
   "metadata": {},
   "source": [
    "---\n",
    "# Plotting\n",
    "---"
   ]
  },
  {
   "cell_type": "code",
   "execution_count": 3,
   "metadata": {},
   "outputs": [
    {
     "data": {
      "text/plain": [
       "(2e-06, 10.0)"
      ]
     },
     "execution_count": 3,
     "metadata": {},
     "output_type": "execute_result"
    },
    {
     "data": {
      "image/png": "[encoded data removed]",
      "text/plain": [
       "<Figure size 1500x800 with 4 Axes>"
      ]
     },
     "metadata": {},
     "output_type": "display_data"
    }
   ],
   "source": [
    "import matplotlib.colors as colors\n",
    "vmin = 1e-6\n",
    "vmax = 1e1\n",
    "fig, axs = plt.subplots(2, 1,figsize=(15,8))\n",
    "plt.subplots_adjust(hspace=0)\n",
    "\n",
    "plt.sca(axs[1])\n",
    "axs[0].set_title('SUSSIX Convergence')\n",
    "for col in df_freq.columns:\n",
    "    idx = col.split(':')[-1]\n",
    "    plt.scatter(df_freq[col],df_freq.index,c=df_amp[f'Err_amp:{idx}'],norm=colors.LogNorm(vmin=vmin, vmax=vmax),\n",
    "                                                                cmap='winter')\n",
    "plt.colorbar(label='Rel. amplitude error')\n",
    "\n",
    "# Adding excluded points\n",
    "\n",
    "x_exc_template = np.linspace(expected.frequency.min()-4*dQ,expected.frequency.min()-dQ,len(expected))\n",
    "x_exec = np.array([list(x_exc_template[:len(expected)-row['excluded']]) + (row['excluded'])*[np.nan] for idx,row in df_exc.iterrows()])\n",
    "y_exec = np.array([len(expected)*[idx] for idx,row in df_exc.iterrows()])\n",
    "\n",
    "plt.plot(x_exec.flatten(),y_exec.flatten(),'o',ms=2,color='k',alpha=0.5)\n",
    "plt.axvline(x_exc_template.max(),color='k')\n",
    "plt.axvline(x_exc_template.min(),color='k')\n",
    "\n",
    "plt.yscale('log')\n",
    "plt.xlim(expected.frequency.min()-5*dQ,expected.frequency.max()+dQ)\n",
    "plt.xlabel('Frequency')\n",
    "plt.ylabel('N turns')\n",
    "xticks = [x_exc_template.min(),x_exc_template.mean(),x_exc_template.max()] + list(np.linspace(Q0-15*dQ,Q0+15*dQ,11)) \n",
    "plt.gca().set_xticks(xticks,['0','Found',str(len(expected))] + [f'{_x:.4f}' for _x in xticks[3:]]);\n",
    "\n",
    "\n",
    "plt.sca(axs[0])\n",
    "freq,spectrum = get_FFT(hx_full)\n",
    "plt.plot(freq,spectrum/np.max(spectrum),'-')\n",
    "plt.scatter(np.nan,np.nan)\n",
    "cbar = plt.colorbar()\n",
    "cbar.ax.set_visible(False)\n",
    "plt.xticks([])\n",
    "\n",
    "plt.yscale('log')\n",
    "plt.xlim(Q0-10*Qs,Q0+10*Qs)\n",
    "plt.ylabel('Normalised FFT')\n",
    "plt.xlim(expected.frequency.min()-5*dQ,expected.frequency.max()+dQ)\n",
    "for line in expected.frequency:\n",
    "    plt.axvline(line,color='k',alpha=0.1,zorder=-10)\n",
    "plt.ylim(2e-6,1e1)"
   ]
  },
  {
   "cell_type": "code",
   "execution_count": 5,
   "metadata": {},
   "outputs": [
    {
     "name": "stdout",
     "output_type": "stream",
     "text": [
      "0.31025793875089835 (10.000033962066766+2.3433507527281747e-12j)\n",
      "0.3102579387508983 (10.000033962059327+1.1102391298924986e-10j)\n"
     ]
    }
   ],
   "source": [
    "_N = 1e5\n",
    "x  = hx_full.real[:int(_N)]\n",
    "px = hx_full.imag[:int(_N)]\n",
    "# Windowing of the signal\n",
    "N   = np.arange(len(x))\n",
    "z   = np.array(x) + 1j*np.array(px)\n",
    "z_w = z * ducksussix.Hann(N, Nt=len(z),p=1)\n",
    "\n",
    "# Estimation of the tune with FFT\n",
    "tune_est,resolution = ducksussix.FFT_tune_estimate(z_w)\n",
    "\n",
    "# Preparing the estimate for the Newton refinement method\n",
    "if tune_est >= 0.5:\n",
    "    tune_est = -(1.0 - tune_est)\n",
    "tune_est = tune_est - resolution\n",
    "\n",
    "# Refinement of the tune calulation\n",
    "\n",
    "    # tune,amplitude = crossroutines.zfunr(z_w,tune_est)\n",
    "    # amplitude /= len(z_w)\n",
    "# import PySUSSIX.ducksussix.f90newton as f90newton\n",
    "tune,amplitude = ducksussix.f90newton_method(z_w,tune_est,resolution)\n",
    "print(tune,amplitude)\n",
    "tune,amplitude = ducksussix.newton_method(z_w,N,tune_est,resolution)\n",
    "# tune,amplitude = crossroutines.zfunr(z_w,tune_est)\n",
    "# amplitude /= len(z_w)\n",
    "print(tune,amplitude)"
   ]
  },
  {
   "cell_type": "code",
   "execution_count": 6,
   "metadata": {},
   "outputs": [
    {
     "name": "stdout",
     "output_type": "stream",
     "text": [
      "0.3102579387508983 (11.089691087333767+1.4410594191147628e-12j)\n",
      "0.3102579387508983 (11.089691087333767+1.4410594191147628e-12j)\n"
     ]
    }
   ],
   "source": [
    "_N = 1e3\n",
    "x  = hx_full.real[:int(_N)]\n",
    "px = hx_full.imag[:int(_N)]\n",
    "# Windowing of the signal\n",
    "N   = np.arange(len(x))\n",
    "z   = np.array(x) + 1j*np.array(px)\n",
    "z_w = z * ducksussix.Hann(N, Nt=len(z),p=1)\n",
    "\n",
    "# Estimation of the tune with FFT\n",
    "tune_est,resolution = ducksussix.FFT_tune_estimate(z_w)\n",
    "\n",
    "# Preparing the estimate for the Newton refinement method\n",
    "if tune_est >= 0.5:\n",
    "    tune_est = -(1.0 - tune_est)\n",
    "tune_est = tune_est - resolution\n",
    "\n",
    "# Refinement of the tune calulation\n",
    "\n",
    "    # tune,amplitude = crossroutines.zfunr(z_w,tune_est)\n",
    "    # amplitude /= len(z_w)\n",
    "# import PySUSSIX.ducksussix.f90newton as f90newton\n",
    "tune,amplitude = ducksussix.f90newton_method(z_w,tune_est,resolution)\n",
    "print(tune,amplitude)\n",
    "tune,amplitude = crossroutines.zfunr(z_w,tune_est)\n",
    "amplitude /= len(z_w)\n",
    "print(tune,amplitude)"
   ]
  },
  {
   "cell_type": "code",
   "execution_count": 13,
   "metadata": {},
   "outputs": [
    {
     "name": "stdout",
     "output_type": "stream",
     "text": [
      "0.3102579387508983 (11.089691087333767+1.4410594191147628e-12j)\n",
      "0.3102579387508983 (11.089691087333767+1.4410594191147628e-12j)\n"
     ]
    }
   ],
   "source": [
    "_N = int(1e3)\n",
    "x,px = np.zeros(int(1e5)),np.zeros(int(1e5))\n",
    "x[:_N]  = hx_full.real[:int(_N)]\n",
    "px[:_N] = hx_full.imag[:int(_N)]\n",
    "x  = hx_full.real[:int(_N)]\n",
    "px = hx_full.imag[:int(_N)]\n",
    "# Windowing of the signal\n",
    "N   = np.arange(len(x))\n",
    "z   = np.array(x) + 1j*np.array(px)\n",
    "z_w = z * ducksussix.Hann(N, Nt=len(z),p=1)\n",
    "\n",
    "# Estimation of the tune with FFT\n",
    "tune_est,resolution = ducksussix.FFT_tune_estimate(z_w)\n",
    "\n",
    "# Preparing the estimate for the Newton refinement method\n",
    "if tune_est >= 0.5:\n",
    "    tune_est = -(1.0 - tune_est)\n",
    "tune_est = tune_est - resolution\n",
    "\n",
    "# Refinement of the tune calulation\n",
    "\n",
    "    # tune,amplitude = crossroutines.zfunr(z_w,tune_est)\n",
    "    # amplitude /= len(z_w)\n",
    "# import PySUSSIX.ducksussix.f90newton as f90newton\n",
    "tune,amplitude = ducksussix.f90newton_method(z_w,tune_est,resolution)\n",
    "print(tune,amplitude)\n",
    "tune,amplitude = crossroutines.zfunr(z_w,tune_est)\n",
    "amplitude /= len(z_w)\n",
    "print(tune,amplitude)"
   ]
  },
  {
   "cell_type": "code",
   "execution_count": 10,
   "metadata": {},
   "outputs": [
    {
     "data": {
      "text/plain": [
       "array([11.8083927 , -4.36474428, -8.58167819, ...,  0.        ,\n",
       "        0.        ,  0.        ])"
      ]
     },
     "execution_count": 10,
     "metadata": {},
     "output_type": "execute_result"
    }
   ],
   "source": [
    "x"
   ]
  },
  {
   "cell_type": "markdown",
   "metadata": {},
   "source": [
    "---\n",
    "# NAFFLib comparison\n",
    "---"
   ]
  },
  {
   "cell_type": "code",
   "execution_count": null,
   "metadata": {},
   "outputs": [],
   "source": [
    "\n",
    "import NAFFlib\n",
    "import gc\n",
    "import importlib\n",
    "\n",
    "\n",
    "x,px = hx_full.real,hx_full.imag\n",
    "N_vec = np.logspace(3,5,100).astype(int)\n",
    "\n",
    "freq_df = []\n",
    "amp_df = []\n",
    "exc_df = []\n",
    "naff_Q = 0\n",
    "naff_A = 0\n",
    "for N in N_vec:\n",
    "\n",
    "    importlib.reload(NAFFlib)\n",
    "    del(naff_Q)\n",
    "    del(naff_A)\n",
    "    gc.collect()\n",
    "\n",
    "    def NAFFlib_tune(x,nfreqs = 1,Hann_order=1):\n",
    "            x        = np.array(x)\n",
    "            Q,A,An  = NAFFlib.get_tunes(x, nfreqs, Hann_order)\n",
    "\n",
    "            if nfreqs ==1:\n",
    "                return Q[0]\n",
    "            else:\n",
    "                \n",
    "                return Q,np.abs(A)\n",
    "            \n",
    "    naff_Q,naff_A = NAFFlib_tune(hx_full[:N],nfreqs=len(expected),Hann_order=1)\n",
    "    naff_results = pd.DataFrame({'amplitude':naff_A,'frequency':naff_Q})\n",
    "\n",
    "    # Finding matching line, higher weight on the frequency.\n",
    "    tol_amp  = 1e0\n",
    "    # tol_freq = dQ\n",
    "    found = naff_results.copy()\n",
    "    found.amplitude = found.amplitude.abs()\n",
    "    found.insert(0,'match',np.nan)\n",
    "    for line in found.index:\n",
    "        distance = 0.2*(expected['amplitude']-found.loc[line,'amplitude'])**2 + 0.8*(expected['frequency']-found.loc[line,'frequency'])**2\n",
    "        if np.sqrt(distance.min())/found.loc[line,'amplitude'] <1e-1 :#+ 0.8*(tol_freq)**2:\n",
    "            found.loc[line,'match'] = int(distance.idxmin())\n",
    "\n",
    "    # Creating frequency and amplitude table\n",
    "    df_f = pd.DataFrame({f'freq:{i}':[np.nan] for i in expected.index},index=[N])\n",
    "    df_a = pd.DataFrame({f'Err_amp:{i}':[np.nan] for i in expected.index},index=[N])\n",
    "    exc_count = 0\n",
    "    for idx,row in found.iterrows():\n",
    "        if not pd.isna(row['match']):\n",
    "            df_f.loc[N,f'freq:{row[\"match\"]:.0f}'] = row['frequency']\n",
    "            df_a.loc[N,f'Err_amp:{row[\"match\"]:.0f}']  = np.abs(row['amplitude']-expected.loc[row[\"match\"]].amplitude)/expected.loc[row[\"match\"]].amplitude\n",
    "        else:\n",
    "            exc_count += 1\n",
    "    df_exc =  pd.DataFrame({f'excluded':[exc_count] for i in expected.index},index=[N])\n",
    "\n",
    "\n",
    "    # saving results\n",
    "    freq_df.append(df_f)\n",
    "    amp_df.append(df_a)\n",
    "    exc_df.append(df_exc)\n",
    "\n",
    "\n",
    "df_freq = pd.concat(freq_df)\n",
    "df_amp  = pd.concat(amp_df)\n",
    "df_exc  = pd.concat(exc_df)"
   ]
  },
  {
   "cell_type": "code",
   "execution_count": null,
   "metadata": {},
   "outputs": [],
   "source": [
    "import matplotlib.colors as colors\n",
    "vmin = 1e-6\n",
    "vmax = 1e1\n",
    "fig, axs = plt.subplots(2, 1,figsize=(15,8))\n",
    "plt.subplots_adjust(hspace=0)\n",
    "\n",
    "plt.sca(axs[1])\n",
    "axs[0].set_title('NAFFlib Convergence')\n",
    "for col in df_freq.columns:\n",
    "    idx = col.split(':')[-1]\n",
    "    plt.scatter(df_freq[col],df_freq.index,c=df_amp[f'Err_amp:{idx}'],norm=colors.LogNorm(vmin=vmin, vmax=vmax),\n",
    "                                                                cmap='winter')\n",
    "plt.colorbar(label='Rel. amplitude error')\n",
    "\n",
    "# Adding excluded points\n",
    "\n",
    "x_exc_template = np.linspace(expected.frequency.min()-4*dQ,expected.frequency.min()-dQ,len(expected))\n",
    "x_exec = np.array([list(x_exc_template[:len(expected)-row['excluded']]) + (row['excluded'])*[np.nan] for idx,row in df_exc.iterrows()])\n",
    "y_exec = np.array([len(expected)*[idx] for idx,row in df_exc.iterrows()])\n",
    "\n",
    "plt.plot(x_exec.flatten(),y_exec.flatten(),'o',ms=2,color='k',alpha=0.5)\n",
    "plt.axvline(x_exc_template.max(),color='k')\n",
    "plt.axvline(x_exc_template.min(),color='k')\n",
    "\n",
    "plt.yscale('log')\n",
    "plt.xlim(expected.frequency.min()-5*dQ,expected.frequency.max()+dQ)\n",
    "plt.xlabel('Frequency')\n",
    "plt.ylabel('N turns')\n",
    "xticks = [x_exc_template.min(),x_exc_template.mean(),x_exc_template.max()] + list(np.linspace(Q0-15*dQ,Q0+15*dQ,11)) \n",
    "plt.gca().set_xticks(xticks,['0','Found',str(len(expected))] + [f'{_x:.4f}' for _x in xticks[3:]]);\n",
    "\n",
    "\n",
    "plt.sca(axs[0])\n",
    "freq,spectrum = get_FFT(hx_full)\n",
    "plt.plot(freq,spectrum/np.max(spectrum),'-')\n",
    "plt.scatter(np.nan,np.nan)\n",
    "cbar = plt.colorbar()\n",
    "cbar.ax.set_visible(False)\n",
    "plt.xticks([])\n",
    "\n",
    "plt.yscale('log')\n",
    "plt.xlim(Q0-10*Qs,Q0+10*Qs)\n",
    "plt.ylabel('Normalised FFT')\n",
    "plt.xlim(expected.frequency.min()-5*dQ,expected.frequency.max()+dQ)\n",
    "for line in expected.frequency:\n",
    "    plt.axvline(line,color='k',alpha=0.1,zorder=-10)\n",
    "plt.ylim(2e-6,1e1)"
   ]
  },
  {
   "cell_type": "code",
   "execution_count": null,
   "metadata": {},
   "outputs": [],
   "source": []
  },
  {
   "cell_type": "code",
   "execution_count": null,
   "metadata": {},
   "outputs": [],
   "source": [
    "sorted(expected.frequency.values)[::5]"
   ]
  },
  {
   "cell_type": "code",
   "execution_count": null,
   "metadata": {},
   "outputs": [],
   "source": [
    "df_exc"
   ]
  },
  {
   "cell_type": "code",
   "execution_count": null,
   "metadata": {},
   "outputs": [],
   "source": [
    "amp_error"
   ]
  },
  {
   "cell_type": "code",
   "execution_count": null,
   "metadata": {},
   "outputs": [],
   "source": [
    "amp_goal"
   ]
  },
  {
   "cell_type": "code",
   "execution_count": null,
   "metadata": {},
   "outputs": [],
   "source": [
    "results['x']"
   ]
  },
  {
   "cell_type": "code",
   "execution_count": null,
   "metadata": {},
   "outputs": [],
   "source": [
    "plt.figure(figsize=(15,4))\n",
    "for col in df.columns:\n",
    "    plt.plot(df[col],df.index,'.',color='C0')\n",
    "\n",
    "plt.yscale('log')\n",
    "plt.xlim(expected.frequency.min()-dQ,expected.frequency.max()+dQ)"
   ]
  },
  {
   "cell_type": "code",
   "execution_count": null,
   "metadata": {},
   "outputs": [],
   "source": [
    "import NAFFlib\n",
    "\n",
    "# naff_Q,naff_A = NAFFlib_tune(hx_full,nfreqs=len(expected),Hann_order=2)\n",
    "# naff_results = pd.DataFrame({'amplitude':naff_A,'frequency':naff_Q})\n",
    "\n",
    "import gc\n",
    "import importlib\n",
    "\n",
    "importlib.reload(NAFFlib)\n",
    "del(naff_Q)\n",
    "del(naff_A)\n",
    "gc.collect()\n",
    "\n",
    "def NAFFlib_tune(x,nfreqs = 1,Hann_order=1):\n",
    "        x        = np.array(x)\n",
    "        Q,A,An  = NAFFlib.get_tunes(x, nfreqs, Hann_order)\n",
    "\n",
    "        if nfreqs ==1:\n",
    "            return Q[0]\n",
    "        else:\n",
    "            \n",
    "            return Q,np.abs(A)\n",
    "\n",
    "N = int(1e5)\n",
    "\n",
    "naff_Q,naff_A = NAFFlib_tune(hx_full[:N],nfreqs=len(expected),Hann_order=1)\n",
    "naff_results = pd.DataFrame({'amplitude':naff_A,'frequency':naff_Q})\n"
   ]
  },
  {
   "cell_type": "code",
   "execution_count": null,
   "metadata": {},
   "outputs": [],
   "source": [
    "naff_results"
   ]
  },
  {
   "cell_type": "code",
   "execution_count": null,
   "metadata": {},
   "outputs": [],
   "source": [
    "pd.DataFrame({f'freq:{i[0]}':[i[1]] for i in results['x'].frequency.items()},index=[1e5])"
   ]
  },
  {
   "cell_type": "code",
   "execution_count": null,
   "metadata": {},
   "outputs": [],
   "source": [
    "\n",
    "N = int(1e3)\n",
    "results = ducksussix.datspe(x       = x[:N], \n",
    "                                px      = px[:N],\n",
    "                                y       = None,\n",
    "                                py      = None,\n",
    "                                zeta    = None,\n",
    "                                pzeta   = None,\n",
    "                                number_of_harmonics = len(expected),Hann_order = 1)\n",
    "\n",
    "plt.figure(figsize=(15,4))\n",
    "plt.plot()\n",
    "plt.plot(expected['frequency'],expected['amplitude'],'o',label='expected')\n",
    "plt.plot(results['x']['frequency'],np.abs(results['x']['amplitude']),'.',label='ducksussix')\n",
    "# plt.plot(datspe_x['txa'],np.abs(datspe_x['zxpes']),'x',label='crosssussix')\n",
    "# plt.plot(naff_results['frequency'],np.abs(naff_results['amplitude']),'+',label='NAFF')\n",
    "plt.yscale('log')\n",
    "plt.legend(title=f'N points: {len(hx_full):.0e}')\n",
    "plt.xlabel('frequency')\n",
    "plt.ylabel('|amplitude|')\n",
    "plt.xlim(Q0-6*Qs,Q0+6*Qs)\n",
    "\n",
    "plt.figure(figsize=(15,4))\n",
    "plt.plot()\n",
    "plt.plot(expected['frequency'],expected['amplitude'],'o',label='expected')\n",
    "plt.plot(results['x']['frequency'],np.abs(results['x']['amplitude']),'.',label='ducksussix')\n",
    "# plt.plot(datspe_x['txa'],np.abs(datspe_x['zxpes']),'x',label='crosssussix')\n",
    "# plt.plot(naff_results['frequency'],np.abs(naff_results['amplitude']),'+',label='NAFF')\n",
    "plt.yscale('log')\n",
    "plt.legend(title=f'N points: {len(hx_full):.0e}')\n",
    "plt.xlabel('frequency')\n",
    "plt.ylabel('|amplitude|')\n",
    "plt.xlim(Q0-10*dQ,Q0+10*dQ)"
   ]
  },
  {
   "cell_type": "code",
   "execution_count": null,
   "metadata": {},
   "outputs": [],
   "source": []
  },
  {
   "cell_type": "code",
   "execution_count": null,
   "metadata": {},
   "outputs": [],
   "source": [
    "plt.figure(figsize=(15,4))\n",
    "plt.plot()\n",
    "plt.plot(expected['frequency'],expected['amplitude'],'o',label='expected')\n",
    "plt.plot(results['x']['frequency'],np.abs(results['x']['amplitude']),'.',label='ducksussix')\n",
    "# plt.plot(datspe_x['txa'],np.abs(datspe_x['zxpes']),'x',label='crosssussix')\n",
    "plt.plot(naff_results['frequency'],np.abs(naff_results['amplitude']),'+',label='NAFF')\n",
    "plt.yscale('log')\n",
    "plt.legend(title=f'N points: {len(hx_full):.0e}')\n",
    "plt.xlabel('frequency')\n",
    "plt.ylabel('|amplitude|')\n",
    "plt.xlim(Q0-6*Qs,Q0+6*Qs)\n",
    "\n",
    "plt.figure(figsize=(15,4))\n",
    "plt.plot()\n",
    "plt.plot(expected['frequency'],expected['amplitude'],'o',label='expected')\n",
    "plt.plot(results['x']['frequency'],np.abs(results['x']['amplitude']),'.',label='ducksussix')\n",
    "# plt.plot(datspe_x['txa'],np.abs(datspe_x['zxpes']),'x',label='crosssussix')\n",
    "plt.plot(naff_results['frequency'],np.abs(naff_results['amplitude']),'+',label='NAFF')\n",
    "plt.yscale('log')\n",
    "plt.legend(title=f'N points: {len(hx_full):.0e}')\n",
    "plt.xlabel('frequency')\n",
    "plt.ylabel('|amplitude|')\n",
    "plt.xlim(Q0-10*dQ,Q0+10*dQ)"
   ]
  },
  {
   "cell_type": "markdown",
   "metadata": {},
   "source": [
    "---\n",
    "# Root finding\n",
    "---"
   ]
  },
  {
   "cell_type": "code",
   "execution_count": null,
   "metadata": {},
   "outputs": [],
   "source": [
    "test = 0\n",
    "test.real"
   ]
  },
  {
   "cell_type": "code",
   "execution_count": null,
   "metadata": {},
   "outputs": [],
   "source": [
    "\n",
    "\n",
    "\n",
    "\n",
    "def tunenewt(x,px,hanning_order = 1):\n",
    "    \"\"\"COMPUTES THE TUNE USING A DISCRETE VERSION OF LASKAR METHOD.\n",
    "        IT INCLUDES A NEWTON METHOD FOR THE SEARCH OF THE FREQUENCY.\"\"\"\n",
    "\n",
    "    # Estimation of Tune with FFT\n",
    "    maxn = len(x)\n",
    "    mft = int(np.log2(maxn))\n",
    "    npoint = 2**mft\n",
    "    maxn2 = maxn // 2\n",
    "    step = 2 * np.pi / maxn\n",
    "\n",
    "    mf_values = np.arange(1, maxn +1)\n",
    "\n",
    "\n",
    "    z = (np.array(x) + 1j *np.array(px)) * (1.0 + np.cos(step * (mf_values - maxn2)))\n",
    "\n",
    "    # N    = np.arange(len(x))\n",
    "    # z2   = np.array(x) + 1j*np.array(px)\n",
    "    # z2_w = z# * ducksussix.Hann(N, Nt=len(z),p=1)\n",
    "    # print(z)\n",
    "    # print(z2_w)\n",
    "\n",
    "    # Search for maximum in Fourier spectrum\n",
    "    # zsing = crossroutines.cfft(z)\n",
    "    zsing = np.fft.fft(z[:npoint])\n",
    "    ftmax = np.max(np.abs(zsing[:npoint]))\n",
    "    nftmax = np.argmax(np.abs(zsing[:npoint]))\n",
    "    \n",
    "    tunefou = float(nftmax ) / float(npoint)\n",
    "    \n",
    "    if tunefou >= 0.5:\n",
    "        tunefou = -(1.0 - tunefou)\n",
    "    deltat = 1.0 / float(npoint)\n",
    "\n",
    "    \n",
    "    tune1 = tunefou - deltat\n",
    "    \n",
    "    \n",
    "    # Call zfun\n",
    "    # print('est:',tune1)\n",
    "    print('tune1',tune1)\n",
    "    tune,zw = crossroutines.zfunr(z,tune1)\n",
    "\n",
    "\n",
    "    # Windowing of the signal\n",
    "    N   = np.arange(len(x))\n",
    "    z   = np.array(x) + 1j*np.array(px)\n",
    "    z_w = z * ducksussix.Hann(N, Nt=len(z),p=1)\n",
    "    \n",
    "    # Estimation of the tune with FFT\n",
    "    tune_est,resolution = ducksussix.FFT_tune_estimate(z_w)\n",
    "\n",
    "    # Preparing the estimate for the Newton refinement method\n",
    "    if tune_est >= 0.5:\n",
    "        tune_est = -(1.0 - tune_est)\n",
    "    tune_est = tune_est - resolution\n",
    "\n",
    "    # Refinement of the tune calulation\n",
    "    print('tune_est',tune_est)\n",
    "    tune,amplitude = crossroutines.zfunr(z_w,tune_est)\n",
    "    # print(tune,zw)\n",
    "\n",
    "    # def zfun(tune, z, maxn):\n",
    "    #     # Implementation of the function z(tune)\n",
    "    #     # Modify this based on your actual function\n",
    "    #     ztune = np.exp(-1j * 2 * np.pi * tune.real)\n",
    "    #     return np.polyval(z[::-1], ztune)\n",
    "\n",
    "    # def zfund(tune, z, maxn):\n",
    "    #     # Implementation of the function z(tune)\n",
    "    #     # Modify this based on your actual function\n",
    "\n",
    "    #     zd = 1j * np.arange(1, maxn + 1) * z\n",
    "    #     ztune = np.exp(-1j * 2 * np.pi * tune.real)\n",
    "    #     return np.polyval(zd[::-1], ztune)\n",
    "\n",
    "\n",
    "\n",
    "    # # Additional arguments to pass to the function and its derivative\n",
    "    # args = (z, len(z))\n",
    "\n",
    "    # # Tolerance for convergence\n",
    "    # tolerance = 1e-10\n",
    "\n",
    "    # # Use Newton's method with specified tolerance\n",
    "    # # from scipy.optimize import newton\n",
    "    # # result_tune = newton(zfun, tune1,fprime=zfund, args=args)\n",
    "    # # print(tune1)\n",
    "\n",
    "    # # print(result_tune)\n",
    "\n",
    "    return tune,zw\n",
    "\n",
    "\n",
    "number_of_harmonics = 10\n",
    "# initialisation\n",
    "x,px = hx_full.real,hx_full.imag\n",
    "z  = x + 1j*px\n",
    "N  = np.arange(len(x))\n",
    "\n",
    "\n",
    "frequencies = []\n",
    "amplitudes  = [] \n",
    "for _ in range(number_of_harmonics):\n",
    "\n",
    "    # Computing frequency and amplitude\n",
    "    print('**')\n",
    "    print(_)\n",
    "    # freq,zw = tunenewt(x,px)\n",
    "    # print(freq,zw)\n",
    "    freq,zw  = ducksussix.fundamental_frequency(x,px,Hann_order=1)\n",
    "    print(freq,zw)\n",
    "    freq2,zw2 = crossroutines.tunenewt(x,px)\n",
    "    print(freq2,zw2)\n",
    "    print(40*'-')\n",
    "    # freq,zw = crossroutines.tunenewt(x,px)\n",
    "    zpesi   = zw #/ max(N+1)\n",
    "\n",
    "    # Saving results\n",
    "    frequencies.append(freq)\n",
    "    amplitudes.append(zpesi)\n",
    "\n",
    "    # Substraction procedure\n",
    "    zgs  = zpesi * np.exp(2 * np.pi * 1j * freq * N)\n",
    "    z   -= zgs\n",
    "    x,px = np.real(z), np.imag(z)"
   ]
  },
  {
   "cell_type": "code",
   "execution_count": null,
   "metadata": {},
   "outputs": [],
   "source": [
    "expected.loc[9].frequency"
   ]
  },
  {
   "cell_type": "code",
   "execution_count": null,
   "metadata": {},
   "outputs": [],
   "source": [
    "np.arange(10)"
   ]
  },
  {
   "cell_type": "code",
   "execution_count": null,
   "metadata": {},
   "outputs": [],
   "source": [
    "x,px = hx_full.real,hx_full.imag\n",
    "z  = x + 1j*px\n",
    "\n",
    "# Estimation of Tune with FFT\n",
    "maxn = len(x)\n",
    "mft = int(np.log2(maxn))\n",
    "npoint = 2**mft\n",
    "maxn2 = maxn // 2\n",
    "step = 2 * np.pi / maxn\n",
    "\n",
    "mf_values = np.arange(1, maxn +1)\n",
    "N   = np.arange(len(x))\n",
    "\n",
    "window_schmidt = (1.0 + np.cos(step * (mf_values - maxn2)))\n",
    "window_hann    = ducksussix.Hann(N, Nt=len(z),p=1)\n",
    "\n",
    "plt.figure()\n",
    "plt.plot(window_schmidt,'-',label='schmidt')\n",
    "plt.plot(window_hann,'-',label='hann')\n",
    "plt.legend()\n",
    "# # z = (np.array(x) + 1j *np.array(px)) * (1.0 + np.cos(step * (mf_values - maxn2)))\n",
    "\n",
    "# N    = np.arange(len(x))\n",
    "# z2   = np.array(x) + 1j*np.array(px)\n",
    "# z2_w = z# * ducksussix.Hann(N, Nt=len(z),p=1)"
   ]
  },
  {
   "cell_type": "code",
   "execution_count": null,
   "metadata": {},
   "outputs": [],
   "source": [
    "mf_values"
   ]
  },
  {
   "cell_type": "code",
   "execution_count": null,
   "metadata": {},
   "outputs": [],
   "source": [
    "N"
   ]
  },
  {
   "cell_type": "code",
   "execution_count": null,
   "metadata": {},
   "outputs": [],
   "source": [
    "window_hann"
   ]
  },
  {
   "cell_type": "code",
   "execution_count": null,
   "metadata": {},
   "outputs": [],
   "source": [
    "window_schmidt"
   ]
  },
  {
   "cell_type": "code",
   "execution_count": null,
   "metadata": {},
   "outputs": [],
   "source": [
    "def zfun(tune, z, maxn):\n",
    "    # Implementation of the function z(tune)\n",
    "    # Modify this based on your actual function\n",
    "    ztune = np.exp(-1j * 2 * np.pi * tune)\n",
    "    return np.abs(np.polyval(z[::-1], ztune))\n",
    "\n",
    "x,px = hx_full.real,hx_full.imag\n",
    "z  = x + 1j*px\n",
    "# Estimation of Tune with FFT\n",
    "maxn = len(x)\n",
    "mft = int(np.log2(maxn))\n",
    "npoint = 2**mft\n",
    "maxn2 = maxn // 2\n",
    "step = 2 * np.pi / maxn\n",
    "\n",
    "mf_values = np.arange(1, maxn +1)\n",
    "\n",
    "freq,zw = tunenewt(x,px)\n",
    "\n",
    "\n",
    "# Search for maximum in Fourier spectrum\n",
    "# zsing = crossroutines.cfft(z)\n",
    "zsing = np.fft.fft(z[:npoint])\n",
    "ftmax = np.max(np.abs(zsing[:npoint]))\n",
    "nftmax = np.argmax(np.abs(zsing[:npoint]))\n",
    "\n",
    "tunefou = float(nftmax ) / float(npoint)\n",
    "\n",
    "if tunefou >= 0.5:\n",
    "    tunefou = -(1.0 - tunefou)\n",
    "deltat = 1.0 / float(npoint)\n",
    "\n",
    "\n",
    "tune1 = tunefou - deltat\n",
    "\n",
    "z = (np.array(x) + 1j *np.array(px)) * (1.0 + np.cos(step * (mf_values - maxn2)))\n",
    "\n",
    "\n",
    "f_test = np.linspace(freq-0.5e-4,freq+0.5e-4,1000)\n",
    "\n",
    "value = [zfun(_f,z,len(z)) for _f in f_test]\n",
    "\n",
    "plt.figure()\n",
    "plt.plot(f_test,value)\n",
    "plt.axvline(freq)\n",
    "plt.axvline(tune1)"
   ]
  },
  {
   "cell_type": "code",
   "execution_count": null,
   "metadata": {},
   "outputs": [],
   "source": [
    "tune1"
   ]
  },
  {
   "cell_type": "code",
   "execution_count": null,
   "metadata": {},
   "outputs": [],
   "source": [
    "plt.figure()\n",
    "plt.plot(f_test,value)\n",
    "plt.axvline(freq)\n",
    "plt.axvline(tune1)\n",
    "plt.xlim(freq-0.5e-4,freq+0.5e-4)"
   ]
  },
  {
   "cell_type": "code",
   "execution_count": null,
   "metadata": {},
   "outputs": [],
   "source": [
    "tune1"
   ]
  },
  {
   "cell_type": "code",
   "execution_count": null,
   "metadata": {},
   "outputs": [],
   "source": [
    "\n",
    "scaling = 1e6\n",
    "from scipy.optimize import minimize\n",
    "def zfun(tune, z, maxn):\n",
    "    # Implementation of the function z(tune)\n",
    "    # Modify this based on your actual function\n",
    "    ztune = np.exp(-1j * 2 * np.pi * tune/scaling)\n",
    "    return np.log(np.abs(np.polyval(z[::-1], ztune)))\n",
    "\n",
    "def zfund(tune, z, maxn):\n",
    "    # Implementation of the function z(tune)\n",
    "    # Modify this based on your actual function\n",
    "\n",
    "    zd = 1j * np.arange(1, maxn + 1) * z\n",
    "    ztune = np.exp(-1j * 2 * np.pi * tune/scaling)\n",
    "    return np.log(np.abs(np.polyval(zd[::-1], ztune)))\n",
    "\n",
    "\n",
    "args = (z, len(z))\n",
    "results = minimize(zfun, x0=[tune1*scaling],jac=zfund, args=args)#,  bounds=[((tune1-1e-4)*scaling,(tune1+1e-4)*scaling)]))"
   ]
  },
  {
   "cell_type": "code",
   "execution_count": null,
   "metadata": {},
   "outputs": [],
   "source": [
    "print(results.x[0]/scaling)\n",
    "print(freq)"
   ]
  },
  {
   "cell_type": "code",
   "execution_count": null,
   "metadata": {},
   "outputs": [],
   "source": [
    "\n",
    "\n",
    "\n",
    "x,px = hx_full.real,hx_full.imag\n",
    "print(ducksussix.tunenewt(x,px,hanning_order = 1))\n",
    "print(crosssussix.tunenewt(x,px,hanning_order = 1))"
   ]
  },
  {
   "cell_type": "code",
   "execution_count": null,
   "metadata": {},
   "outputs": [],
   "source": []
  },
  {
   "cell_type": "code",
   "execution_count": null,
   "metadata": {},
   "outputs": [],
   "source": []
  },
  {
   "cell_type": "code",
   "execution_count": null,
   "metadata": {},
   "outputs": [],
   "source": []
  },
  {
   "cell_type": "code",
   "execution_count": null,
   "metadata": {},
   "outputs": [],
   "source": []
  },
  {
   "cell_type": "code",
   "execution_count": null,
   "metadata": {},
   "outputs": [],
   "source": []
  },
  {
   "cell_type": "code",
   "execution_count": null,
   "metadata": {},
   "outputs": [],
   "source": [
    "\n",
    "\n",
    "for part in [dummy,particle0,particle1]:\n",
    "    x,px = part.x_sig,part.px_sig\n",
    "    print(40*'-')\n",
    "    print(ducksussix.tunenewt(x,px))\n",
    "    print(crossroutines.tunenewt(x,px))"
   ]
  },
  {
   "cell_type": "code",
   "execution_count": null,
   "metadata": {},
   "outputs": [],
   "source": [
    "part  = dummy\n",
    "datspe_x,datspe_y,datspe_s = crosssussix.datspe(part.x_sig,part.px_sig,\n",
    "                            part.y_sig,part.py_sig,\n",
    "                            part.zeta_sig,part.pzeta_sig,\n",
    "                            number_of_harmonics = 5,method = 'hanning',return_values = True)\n",
    "ordres_x,ordres_y,ordres_s  = crosssussix.ordres(len(part.x_sig),tune_estimate = [0.31,0.32,0.0018],number_of_harmonics = 5,return_values = True)\n",
    "part  = dummy\n",
    "results = ducksussix.datspe(x       = part.x_sig, \n",
    "                            px      = part.px_sig,\n",
    "                            y       = part.y_sig, \n",
    "                            py      = part.py_sig,\n",
    "                            zeta    = part.zeta_sig, \n",
    "                            pzeta   = part.pzeta_sig,\n",
    "                            number_of_harmonics = 5,method = 'hanning')\n",
    "# results['x']\n",
    "display('cross DATSPE X',datspe_x)\n",
    "display('duck DATSPE X',results['x'])\n",
    "# display('DATSPE S',datspe_s)\n",
    "display('ORDRES X',ordres_x)\n",
    "# display('ORDRES Y',ordres_y)\n",
    "# display('ORDRES S',ordres_s)"
   ]
  },
  {
   "cell_type": "code",
   "execution_count": null,
   "metadata": {},
   "outputs": [],
   "source": []
  },
  {
   "cell_type": "code",
   "execution_count": null,
   "metadata": {},
   "outputs": [],
   "source": [
    "particle0 = pd.read_parquet('data/TEST_BUNCH_0000_XPLANE_ZETA_0.parquet')\n",
    "particle1 = pd.read_parquet('data/TEST_BUNCH_0000_XPLANE_ZETA_1.parquet')\n",
    "\n",
    "dummy = particle0.copy()\n",
    "\n",
    "\n",
    "turns = int(10000)\n",
    "N     = np.arange(0,turns)\n",
    "\n",
    "Qx    = 0.31025793875089835\n",
    "Qy    = 0.320264\n",
    "Jx    = 0.5**2*(0.5*(10**2))\n",
    "Jy    = (0.5*(10**2))\n",
    "psi0  = 0#0.25\n",
    "\n",
    "# mn = [(1,0),(-2,0)]\n",
    "\n",
    "#  jQ_x + kQ_y + l*Q_z + m\n",
    "jklm = [(0,0,0,0),(0,2,1,0)] \n",
    "aj = [np.sqrt(2*Jx),0.02*Jx,0.02*Jx,0.02*Jx]\n",
    "phasors = sum([a*np.exp(2*np.pi*1j*((1-j+k)*Qx + (m-l)*Qy)*N) for (j,k,l,m),a in zip(jklm,aj)])\n",
    "\n",
    "hx = phasors\n",
    "x  = hx.real\n",
    "px = hx.imag\n",
    "\n",
    "hy = np.sqrt(2*Jy)*np.exp(-1j*(2*np.pi*Qy*N - psi0))\n",
    "y  = hy.real\n",
    "py = hy.imag\n",
    "\n",
    "\n",
    "dummy.particle = 0\n",
    "dummy.x_sig = x\n",
    "dummy.px_sig = px\n",
    "dummy.y_sig = y\n",
    "dummy.py_sig = py\n",
    "\n",
    "\n",
    "plt.figure(figsize=(6,6))\n",
    "plt.plot(x,px,'.')\n",
    "# plt.plot(hx.real,hx.imag,'.',ms=2)\n",
    "plt.axhline(0,color='k',alpha=0.4)\n",
    "plt.axvline(0,color='k',alpha=0.4)\n",
    "plt.axis('square');\n",
    "plt.xlim([-15,15])\n",
    "plt.ylim([-15,15])\n",
    "\n",
    "plt.figure(figsize=(6,6))\n",
    "plt.plot(y,py,'.')\n",
    "# plt.plot(hx.real,hx.imag,'.',ms=2)\n",
    "plt.axhline(0,color='k',alpha=0.4)\n",
    "plt.axvline(0,color='k',alpha=0.4)\n",
    "plt.axis('square');\n",
    "plt.xlim([-15,15])\n",
    "plt.ylim([-15,15])\n"
   ]
  },
  {
   "cell_type": "code",
   "execution_count": null,
   "metadata": {},
   "outputs": [],
   "source": [
    "def get_FFT(x):\n",
    "    x     = np.array(x)\n",
    "    turns = np.arange(1,len(x)+1)\n",
    "\n",
    "    freq  = np.fft.fftfreq(turns.shape[-1])\n",
    "    spectrum = np.fft.fft(x-np.mean(x))\n",
    "\n",
    "    idx      = np.argmax(np.abs(spectrum))\n",
    "    Qx       = freq[idx]\n",
    "    return freq[freq>0],np.abs(spectrum)[freq>0]\n",
    "\n",
    "\n",
    "\n",
    "\n",
    "plt.figure(figsize=(15,4))\n",
    "freq,spectrum = get_FFT(particle1.x_sig)\n",
    "plt.plot(freq,spectrum/np.max(spectrum),'-')\n",
    "\n",
    "freq,spectrum = get_FFT(particle0.x_sig)\n",
    "plt.plot(freq,spectrum/np.max(spectrum),'-')\n",
    "# plt.plot(Q,A/np.max(A),'o')\n",
    "plt.yscale('log')\n",
    "plt.axvline(Qx+0.001)\n",
    "plt.axvline(Qx+0.001+0.002)\n",
    "plt.xlim(0.25,0.35)\n",
    "\n"
   ]
  },
  {
   "cell_type": "markdown",
   "metadata": {},
   "source": [
    "---\n",
    "# sidebands\n",
    "---"
   ]
  },
  {
   "cell_type": "code",
   "execution_count": null,
   "metadata": {},
   "outputs": [],
   "source": [
    "Qx"
   ]
  },
  {
   "cell_type": "code",
   "execution_count": null,
   "metadata": {},
   "outputs": [],
   "source": []
  },
  {
   "cell_type": "code",
   "execution_count": null,
   "metadata": {},
   "outputs": [],
   "source": [
    "Q0+dQ"
   ]
  },
  {
   "cell_type": "code",
   "execution_count": null,
   "metadata": {},
   "outputs": [],
   "source": [
    "plt.figure()\n",
    "_x = np.linspace(-1,1,1000)\n",
    "_x_bands = i/np.max(i)\n",
    "_y = sciStat.cauchy.pdf(_x,0,0.05)\n",
    "_y_bands = sciStat.cauchy.pdf(_x_bands,0,0.05)\n",
    "\n",
    "plt.plot(_x,_y/np.max(_y))\n",
    "plt.plot(_x_bands,_y_bands/np.max(_y_bands),'o')"
   ]
  },
  {
   "cell_type": "code",
   "execution_count": null,
   "metadata": {},
   "outputs": [],
   "source": [
    "10/(10+i**2) "
   ]
  },
  {
   "cell_type": "code",
   "execution_count": null,
   "metadata": {},
   "outputs": [],
   "source": [
    "Ai*Aj"
   ]
  },
  {
   "cell_type": "code",
   "execution_count": null,
   "metadata": {},
   "outputs": [],
   "source": []
  },
  {
   "cell_type": "code",
   "execution_count": null,
   "metadata": {},
   "outputs": [],
   "source": [
    "plt.figure(figsize=(15,4))\n",
    "freq,spectrum = get_FFT(x)\n",
    "plt.plot(freq,spectrum/np.max(spectrum),'-')\n",
    "plt.yscale('log')\n",
    "plt.xlim(0.31,0.311)"
   ]
  },
  {
   "cell_type": "code",
   "execution_count": null,
   "metadata": {},
   "outputs": [],
   "source": [
    "freq"
   ]
  },
  {
   "cell_type": "code",
   "execution_count": null,
   "metadata": {},
   "outputs": [],
   "source": []
  },
  {
   "cell_type": "markdown",
   "metadata": {},
   "source": [
    "---\n",
    "# Testing main program\n",
    "---"
   ]
  },
  {
   "cell_type": "code",
   "execution_count": null,
   "metadata": {},
   "outputs": [],
   "source": [
    "SS = F90Sussix()\n",
    "SS.sussix_inp(nt1   = 1, \n",
    "              nt2   = len(particle0.x_sig),\n",
    "              idam  = 3,\n",
    "              ir    = 1,\n",
    "              tunex = 0.31,\n",
    "              tuney = 0.32,\n",
    "              istun = None,\n",
    "              nline = 0)\n",
    "\n",
    "\n",
    "SS.sussix(  particle0.x_sig,particle0.px_sig,\n",
    "            particle0.y_sig,particle0.py_sig,\n",
    "            particle0.zeta_sig,particle0.pzeta_sig,)\n",
    "df = pd.DataFrame({'ax':SS.ax,'ox':SS.ox,'ay':SS.ay,'oy':SS.oy})#,'y':y,'py':py})\n",
    "# df = df[df.ox>0]\n",
    "# df.sort_values('ox',inplace=True)\n",
    "# df = df.reset_index(drop=True)\n",
    "df.head(10)"
   ]
  },
  {
   "cell_type": "markdown",
   "metadata": {},
   "source": [
    "---\n",
    "# Testing subroutines\n",
    "---"
   ]
  },
  {
   "cell_type": "markdown",
   "metadata": {},
   "source": [
    "## spectrum"
   ]
  },
  {
   "cell_type": "code",
   "execution_count": null,
   "metadata": {},
   "outputs": [],
   "source": [
    "\n",
    "\n",
    "\n",
    "cross = crossroutines.spectrum(dummy.x_sig,dummy.px_sig,number_of_harmonics = 5,method = 'hanning',return_values = True)\n",
    "duck = ducksussix.spectrum(dummy.x_sig,dummy.px_sig,number_of_harmonics = 5,method = 'hanning')\n",
    "display('CROSS',cross)\n",
    "display('DUCK',duck)"
   ]
  },
  {
   "cell_type": "code",
   "execution_count": null,
   "metadata": {},
   "outputs": [],
   "source": [
    "crossroutines.tunenewt(dummy.x_sig,0*dummy.px_sig)"
   ]
  },
  {
   "cell_type": "code",
   "execution_count": null,
   "metadata": {},
   "outputs": [],
   "source": []
  },
  {
   "cell_type": "code",
   "execution_count": null,
   "metadata": {},
   "outputs": [],
   "source": [
    "type(0*1J)"
   ]
  },
  {
   "cell_type": "code",
   "execution_count": null,
   "metadata": {},
   "outputs": [],
   "source": [
    "type(complex(f90sussix.data.zw_out[0].real/len(x)))"
   ]
  },
  {
   "cell_type": "code",
   "execution_count": null,
   "metadata": {},
   "outputs": [],
   "source": [
    "crossroutines.tunelasr(dummy.x_sig,dummy.px_sig)"
   ]
  },
  {
   "cell_type": "markdown",
   "metadata": {},
   "source": [
    "\n",
    "## tunenewt and tunelasr"
   ]
  },
  {
   "cell_type": "code",
   "execution_count": null,
   "metadata": {},
   "outputs": [],
   "source": [
    "dummy"
   ]
  },
  {
   "cell_type": "code",
   "execution_count": null,
   "metadata": {},
   "outputs": [],
   "source": [
    "print(crossroutines.tunenewt(dummy.x_sig,dummy.px_sig))\n",
    "print(crossroutines.tunenewt(dummy.x_sig,0*dummy.px_sig))\n",
    "print(Qx)"
   ]
  },
  {
   "cell_type": "code",
   "execution_count": null,
   "metadata": {},
   "outputs": [],
   "source": [
    "crossroutines.tunenewt(dummy.x_sig,dummy.px_sig)"
   ]
  },
  {
   "cell_type": "code",
   "execution_count": null,
   "metadata": {},
   "outputs": [],
   "source": [
    "crossroutines.tunenewt(dummy.x_sig,dummy.px_sig)"
   ]
  },
  {
   "cell_type": "code",
   "execution_count": null,
   "metadata": {},
   "outputs": [],
   "source": [
    "print(crossroutines.tunenewt(particle0.x_sig,particle0.px_sig))\n",
    "print(crossroutines.tunelasr(particle0.x_sig,particle0.px_sig))"
   ]
  },
  {
   "cell_type": "code",
   "execution_count": null,
   "metadata": {},
   "outputs": [],
   "source": [
    "Qx"
   ]
  },
  {
   "cell_type": "markdown",
   "metadata": {},
   "source": [
    "---\n",
    "# Testing main sections of the code\n",
    "---"
   ]
  },
  {
   "cell_type": "code",
   "execution_count": null,
   "metadata": {},
   "outputs": [],
   "source": [
    "\n",
    "part  = dummy\n",
    "results = ducksussix.datspe(x       = part.x_sig, \n",
    "                            px      = part.px_sig,\n",
    "                            y       = part.y_sig, \n",
    "                            py      = part.py_sig,\n",
    "                            zeta    = part.zeta_sig, \n",
    "                            pzeta   = part.pzeta_sig,\n",
    "                            number_of_harmonics = 5,method = 'hanning')\n",
    "results['x']"
   ]
  },
  {
   "cell_type": "code",
   "execution_count": null,
   "metadata": {},
   "outputs": [],
   "source": [
    "number_of_harmonics = 5\n",
    "for n in range(number_of_harmonics):\n",
    "    print(n)"
   ]
  },
  {
   "cell_type": "code",
   "execution_count": null,
   "metadata": {},
   "outputs": [],
   "source": [
    "part.px_sig"
   ]
  },
  {
   "cell_type": "code",
   "execution_count": null,
   "metadata": {},
   "outputs": [],
   "source": [
    "part  = dummy\n",
    "datspe_x,datspe_y,datspe_s = crosssussix.datspe(part.x_sig,part.px_sig,\n",
    "                            part.y_sig,part.py_sig,\n",
    "                            part.zeta_sig,part.pzeta_sig,\n",
    "                            number_of_harmonics = 5,method = 'hanning',return_values = True)\n",
    "# ordres_x,ordres_y,ordres_s  = crosssussix.ordres(len(part.x_sig),tune_estimate = [0.31,0.32,0.0018],number_of_harmonics = 5,return_values = True)\n",
    "part  = dummy\n",
    "results = ducksussix.datspe(x       = part.x_sig, \n",
    "                            px      = part.px_sig,\n",
    "                            y       = part.y_sig, \n",
    "                            py      = part.py_sig,\n",
    "                            zeta    = part.zeta_sig, \n",
    "                            pzeta   = part.pzeta_sig,\n",
    "                            number_of_harmonics = 5,method = 'hanning')\n",
    "# results['x']\n",
    "display('cross DATSPE X',datspe_x)\n",
    "display('duck DATSPE X',results['x'])\n",
    "# display('DATSPE S',datspe_s)\n",
    "# display('ORDRES X',ordres_x)\n",
    "# display('ORDRES Y',ordres_y)\n",
    "# display('ORDRES S',ordres_s)"
   ]
  },
  {
   "cell_type": "code",
   "execution_count": null,
   "metadata": {},
   "outputs": [],
   "source": [
    "print(datspe_x.txa[0])\n",
    "print(results['x'].frequency[0])\n",
    "print([((1-j+k)*Qx + (m-l)*Qy) for (j,k,l,m),a in zip(jklm,aj)][0])\n",
    "print(40*'-')\n",
    "print(datspe_x.txa[1] +1)  \n",
    "print(results['x'].frequency[1] + 1)\n",
    "print([((1-j+k)*Qx + (m-l)*Qy) for (j,k,l,m),a in zip(jklm,aj)][1])"
   ]
  },
  {
   "cell_type": "code",
   "execution_count": null,
   "metadata": {},
   "outputs": [],
   "source": [
    "\n",
    "def hanning_window(n, order=1):\n",
    "    window = 0.5 - 0.5 * np.cos(2 * np.pi * np.arange(n) / (n - 1))\n",
    "    for _ in range(order - 1):\n",
    "        window = 0.5 - 0.5 * np.cos(2 * np.pi * window / (n - 1))\n",
    "    return window\n",
    "\n",
    "def tunenewt(x,px,hanning_order = 1):\n",
    "    \"\"\"COMPUTES THE TUNE USING A DISCRETE VERSION OF LASKAR METHOD.\n",
    "        IT INCLUDES A NEWTON METHOD FOR THE SEARCH OF THE FREQUENCY.\"\"\"\n",
    "\n",
    "    # Estimation of Tune with FFT\n",
    "    maxn = len(x)\n",
    "    mft = int(np.log2(maxn))\n",
    "    npoint = 2**mft\n",
    "    maxn2 = maxn // 2\n",
    "    step = 2 * np.pi / maxn\n",
    "\n",
    "    mf_values = np.arange(1, maxn + 1)\n",
    "    window = hanning_window(maxn, order=hanning_order)\n",
    "    # z = (x + 1j * px) * window\n",
    "    z = (x + 1j * px) * (1.0 + np.cos(step * (mf_values - maxn2)))\n",
    "    zsing = np.fft(z, n=-mft)\n",
    "\n",
    "\n",
    "    # Search for maximum in Fourier spectrum\n",
    "    ftmax = np.max(np.abs(zsing))\n",
    "    nftmax = np.argmax(np.abs(zsing))\n",
    "    \n",
    "    tunefou = float(nftmax - 1) / float(npoint)\n",
    "    if tunefou >= 0.5:\n",
    "        tunefou = -(1.0 - tunefou)\n",
    "\n",
    "    deltat = 1.0 / float(npoint)\n",
    "    tune1 = tunefou - deltat\n",
    "\n",
    "    # Call zfun\n",
    "    tune = zfunr(tune, zw, zsing, maxn, tune1, deltat)\n",
    "\n",
    "    # Call zfunr function\n",
    "    tune, zw = zfunr(0.0, 1.0 / maxn, x, px, maxn)\n",
    "\n",
    "    # Return tune\n",
    "    return tune\n",
    "    \n",
    "\n",
    "def zfunr(tunea1, deltat, z, maxn):\n",
    "    # Initialization\n",
    "    err = 1e-10\n",
    "    zu = 1j\n",
    "\n",
    "    # Divide deltat in 5 parts\n",
    "    deltat /= 5.0\n",
    "\n",
    "    # Create complex arrays\n",
    "    zd = zu * np.arange(1, maxn + 1) * z\n",
    "    tunetest = np.zeros(10)\n",
    "    tuneval = np.zeros(10)\n",
    "\n",
    "    # Calculate ztune1\n",
    "    ztune1 = np.exp(-zu * 2 * np.pi * tunea1)\n",
    "    zf = calcr(ztune1, z)\n",
    "    zfd = calcr(ztune1, zd)\n",
    "    dtunea1 = np.real(zf) * np.real(zfd) + np.imag(zf) * np.imag(zfd)\n",
    "\n",
    "    num = 1\n",
    "    for ntest in range(10):\n",
    "        tunea2 = tunea1 + deltat\n",
    "        ztune2 = np.exp(-zu * 2 * np.pi * tunea2)\n",
    "        zf = calcr(ztune2, z)\n",
    "        zfd = calcr(ztune2, zd)\n",
    "        dtunea2 = np.real(zf) * np.real(zfd) + np.imag(zf) * np.imag(zfd)\n",
    "\n",
    "        if dtunea1 <= 0.0 and dtunea2 >= 0.0:\n",
    "            tune1, tune2, dtune1, dtune2 = tunea1, tunea2, dtunea1, dtunea2\n",
    "\n",
    "            for ncont in range(100):\n",
    "                ratio = -dtune1 / dtune2 if np.abs(dtune2) > 0 else 0.0\n",
    "                tune3 = (tune1 + ratio * tune2) / (1.0 + ratio)\n",
    "                ztune3 = np.exp(-zu * 2 * np.pi * tune3)\n",
    "                zf = calcr(ztune3, z)\n",
    "                zfd = calcr(ztune3, zd)\n",
    "                dtune3 = np.real(zf) * np.real(zfd) + np.imag(zf) * np.imag(zfd)\n",
    "\n",
    "                if dtune3 <= 0.0:\n",
    "                    if tune1 == tune3:\n",
    "                        break\n",
    "                    tune1, dtune1 = tune3, dtune3\n",
    "                else:\n",
    "                    if tune2 == tune3:\n",
    "                        break\n",
    "                    tune2, dtune2 = tune3, dtune3\n",
    "\n",
    "                if np.abs(tune2 - tune1) <= err:\n",
    "                    break\n",
    "\n",
    "            tunetest[num - 1] = tune3\n",
    "            tuneval[num - 1] = np.abs(zf)\n",
    "            num += 1\n",
    "\n",
    "        tunea1, dtunea1 = tunea2, dtunea2\n",
    "\n",
    "    tune = tunetest[0]\n",
    "    tunevmax = tuneval[0]\n",
    "\n",
    "    for nc in range(1, num - 1):\n",
    "        if tunevmax <= tuneval[nc]:\n",
    "            tunevmax = tuneval[nc]\n",
    "            tune = tunetest[nc]\n",
    "\n",
    "    ztune = np.exp(-zu * 2 * np.pi * tune)\n",
    "    zw = calcr(ztune, z)\n",
    "\n",
    "    return tune, zw\n",
    "\n",
    "def calcr(zv, zp):\n",
    "    return np.polyval(zp[::-1], zv)\n",
    "\n",
    "\n",
    "\n",
    "x = dummy.x_sig\n",
    "px = dummy.px_sig\n",
    "# Estimation of Tune with FFT\n",
    "maxn = len(x)\n",
    "mft = int(np.log2(maxn))\n",
    "npoint = 2**mft\n",
    "maxn2 = maxn // 2\n",
    "step = 2 * np.pi / maxn\n",
    "\n",
    "mf_values = np.arange(1, maxn + 1)\n",
    "z = (x + 1j * px).values * (1.0 + np.cos(step * (mf_values - maxn2)))\n",
    "zfunr(0.3103, 1.0 / len(x), z, len(x))\n",
    "\n",
    "\n"
   ]
  },
  {
   "cell_type": "code",
   "execution_count": null,
   "metadata": {},
   "outputs": [],
   "source": [
    "crossroutines.tunenewt(dummy.x_sig,dummy.px_sig)"
   ]
  },
  {
   "cell_type": "code",
   "execution_count": null,
   "metadata": {},
   "outputs": [],
   "source": [
    "Qx"
   ]
  },
  {
   "cell_type": "code",
   "execution_count": null,
   "metadata": {},
   "outputs": [],
   "source": [
    "def zfunr(z,tune0):\n",
    "    size_tbt    = 100000\n",
    "\n",
    "    _z   = np.zeros(size_tbt)\n",
    "    tune = 0\n",
    "    zw   = complex(0,0)\n",
    "\n",
    "    maxn = len(z)\n",
    "    _z[:maxn] = z\n",
    "\n",
    "    tunea1 = tune0\n",
    "    deltat = 1.0 / maxn\n",
    "    f90sussix.zfunr(tune,zw,_z,maxn,tunea1,deltat)\n",
    "    print(tune,f90sussix.zfunr_out.tune_out[0],f90sussix.zfunr_out.zw_out[0])\n",
    "\n",
    "\n",
    "x = dummy.x_sig\n",
    "px = dummy.px_sig\n",
    "# Estimation of Tune with FFT\n",
    "maxn = len(x)\n",
    "mft = int(np.log2(maxn))\n",
    "npoint = 2**mft\n",
    "maxn2 = maxn // 2\n",
    "step = 2 * np.pi / maxn\n",
    "\n",
    "mf_values = np.arange(1, maxn + 1)\n",
    "z = (x + 1j * px).values #* (1.0 + np.cos(step * (mf_values - maxn2)))\n",
    "zfunr(z,0.3103)"
   ]
  },
  {
   "cell_type": "code",
   "execution_count": null,
   "metadata": {},
   "outputs": [],
   "source": []
  },
  {
   "cell_type": "code",
   "execution_count": null,
   "metadata": {},
   "outputs": [],
   "source": [
    "calcr([1,2,3],[0,0,1])"
   ]
  },
  {
   "cell_type": "code",
   "execution_count": null,
   "metadata": {},
   "outputs": [],
   "source": [
    "\n",
    "\n",
    "def calcr(zv, zp):\n",
    "    \"\"\"\n",
    "    Auxiliary routine used by TUNENEWT.\n",
    "\n",
    "    Parameters:\n",
    "    - zv: complex value\n",
    "    - zp: array of complex coefficients\n",
    "\n",
    "    Returns:\n",
    "    - zpp: result of the polynomial evaluation\n",
    "    \"\"\"\n",
    "    zpp = zp[-1]\n",
    "\n",
    "    for np in range(len(zp) - 2, 0, -1):\n",
    "        zpp = zpp * zv + zp[np]\n",
    "\n",
    "    return zpp\n",
    "\n",
    "zv = np.exp(-1j * 2 * np.pi * 0.31)\n",
    "zp = (dummy.x_sig[:5] + 1j*dummy.px_sig[:5]).values\n",
    "calcr(zv,zp)"
   ]
  },
  {
   "cell_type": "code",
   "execution_count": null,
   "metadata": {},
   "outputs": [],
   "source": [
    "zv"
   ]
  },
  {
   "cell_type": "code",
   "execution_count": null,
   "metadata": {},
   "outputs": [],
   "source": [
    "x,px = dummy.x_sig,dummy.px_sig\n",
    "x,px = particle0.x_sig,particle0.px_sig\n",
    "\n",
    "# def calcr(tune_phasor, z):\n",
    "#     return np.polyval(z[::-1], tune_phasor)\n",
    "\n",
    "\n",
    "def testcalcr(x,px):\n",
    "    \n",
    "    ztune1 = np.exp(-1j * 2 * np.pi * 0.31)\n",
    "    # zpp\n",
    "    #np.array([complex(0,0)], dtype='complex', order='F')\n",
    "    z      = (x + 1j * px).values\n",
    "    zf     = z[-1]*0 + 1\n",
    "    maxn   = len(z)\n",
    "\n",
    "\n",
    "    f90sussix.calcr(ztune1,zf,z,maxn)\n",
    "    print('--')\n",
    "    print('--')\n",
    "    print('--')\n",
    "\n",
    "    print('python:',ducksussix.calcr(ztune1,z))\n",
    "    print('sussix:',f90sussix.calcr_out.zpp_out)\n",
    "    return None\n",
    "\n",
    "testcalcr(x,px);"
   ]
  },
  {
   "cell_type": "code",
   "execution_count": null,
   "metadata": {},
   "outputs": [],
   "source": [
    "f90sussix.calcr_out.zpp_out"
   ]
  },
  {
   "cell_type": "code",
   "execution_count": null,
   "metadata": {},
   "outputs": [],
   "source": [
    "ztune1 = np.exp(-1j * 2 * np.pi * 0.31)\n",
    "z      = (x + 1j * px).values\n",
    "zd     = 1j * np.arange(1, len(x) + 1) * z\n",
    "def calcr(tune_phasor, z):\n",
    "    return np.polyval(z[::-1], tune_phasor)\n",
    "\n",
    "print(calcr(ztune1,z))\n",
    "print(calcr(ztune1,zd))"
   ]
  },
  {
   "cell_type": "code",
   "execution_count": null,
   "metadata": {},
   "outputs": [],
   "source": [
    "ztune1**np.arange(1,6)\n",
    "# sum()"
   ]
  },
  {
   "cell_type": "code",
   "execution_count": null,
   "metadata": {},
   "outputs": [],
   "source": [
    "x,px = dummy.x_sig,dummy.px_sig\n",
    "z    = (x + 1j * px).values\n",
    "zu = 1j\n",
    "zd = zu * np.arange(1, len(x) + 1) * z\n"
   ]
  },
  {
   "cell_type": "code",
   "execution_count": null,
   "metadata": {},
   "outputs": [],
   "source": [
    "zd[:3]"
   ]
  },
  {
   "cell_type": "code",
   "execution_count": null,
   "metadata": {},
   "outputs": [],
   "source": [
    "\n",
    "z[:3]"
   ]
  },
  {
   "cell_type": "code",
   "execution_count": null,
   "metadata": {},
   "outputs": [],
   "source": [
    "z"
   ]
  },
  {
   "cell_type": "code",
   "execution_count": null,
   "metadata": {},
   "outputs": [],
   "source": [
    "zfunr(0.31, 1/len(z), z, len(z))"
   ]
  },
  {
   "cell_type": "code",
   "execution_count": null,
   "metadata": {},
   "outputs": [],
   "source": [
    "Qx"
   ]
  },
  {
   "cell_type": "code",
   "execution_count": null,
   "metadata": {},
   "outputs": [],
   "source": [
    "import numpy as np\n",
    "from scipy.optimize import newton\n",
    "\n",
    "def zfun(tune, z, maxn):\n",
    "    # Implementation of the function z(tune)\n",
    "    # Modify this based on your actual function\n",
    "    ztune = np.exp(-1j * 2 * np.pi * tune)\n",
    "    return np.polyval(z[::-1], ztune)\n",
    "\n",
    "def zfund(tune, z, maxn):\n",
    "    # Implementation of the function z(tune)\n",
    "    # Modify this based on your actual function\n",
    "\n",
    "    zd = 1j * np.arange(1, maxn + 1) * z\n",
    "    ztune = np.exp(-1j * 2 * np.pi * tune)\n",
    "    return np.polyval(zd[::-1], ztune)\n",
    "\n",
    "def equation_to_solve(tune, z, maxn):\n",
    "    # The equation to solve using Newton's method\n",
    "    return zfun(tune, z, maxn)\n",
    "\n",
    "# Initial guess for the tune\n",
    "initial_guess = 0.3103\n",
    "\n",
    "# Additional arguments to pass to the function and its derivative\n",
    "x,px = dummy.x_sig,dummy.px_sig\n",
    "z    = (x + 1j * px).values\n",
    "args = (z, len(z))\n",
    "\n",
    "# Tolerance for convergence\n",
    "tolerance = 1e-10\n",
    "\n",
    "# Use Newton's method with specified tolerance\n",
    "result_tune = newton(zfun, initial_guess,fprime=zfund, args=args)\n",
    "\n",
    "# Now result_tune contains the tuned value of the tune\n",
    "print(\"Tuned Tune:\", result_tune)"
   ]
  },
  {
   "cell_type": "code",
   "execution_count": null,
   "metadata": {},
   "outputs": [],
   "source": [
    "def cfft(z):\n",
    "    size_tbt = 100000\n",
    "    maxn     = len(z)\n",
    "    mft      = int(np.log2(maxn))\n",
    "\n",
    "    _z       = np.zeros(size_tbt) + 1j*np.zeros(size_tbt)\n",
    "    _z[:maxn]= z\n",
    "    \n",
    "    f90sussix.cfft(_z,-mft)\n",
    "    return _z\n",
    "\n",
    "_z = cfft(z)"
   ]
  },
  {
   "cell_type": "code",
   "execution_count": null,
   "metadata": {},
   "outputs": [],
   "source": [
    "z"
   ]
  },
  {
   "cell_type": "code",
   "execution_count": null,
   "metadata": {},
   "outputs": [],
   "source": [
    "_z"
   ]
  },
  {
   "cell_type": "code",
   "execution_count": null,
   "metadata": {},
   "outputs": [],
   "source": [
    "f90sussix.cfft_out.a_out"
   ]
  },
  {
   "cell_type": "code",
   "execution_count": null,
   "metadata": {},
   "outputs": [],
   "source": [
    "z"
   ]
  },
  {
   "cell_type": "code",
   "execution_count": null,
   "metadata": {},
   "outputs": [],
   "source": [
    "def cfft(z):\n",
    "    size_tbt = 100000\n",
    "    maxn     = len(z)\n",
    "    mft      = int(np.log2(maxn))\n",
    "\n",
    "    _z       = np.zeros(size_tbt) + 1j*np.zeros(size_tbt)\n",
    "    _z[:maxn]= z\n",
    "    \n",
    "    f90sussix.cfft(_z,-mft)\n",
    "    \n",
    "    return f90sussix.cfft_out.a_out\n",
    "\n",
    "\n",
    "\n",
    "def tunenewt(x,px,hanning_order = 1):\n",
    "    \"\"\"COMPUTES THE TUNE USING A DISCRETE VERSION OF LASKAR METHOD.\n",
    "        IT INCLUDES A NEWTON METHOD FOR THE SEARCH OF THE FREQUENCY.\"\"\"\n",
    "\n",
    "    # Estimation of Tune with FFT\n",
    "    maxn = len(x)\n",
    "    mft = int(np.log2(maxn))\n",
    "    npoint = 2**mft\n",
    "    maxn2 = maxn // 2\n",
    "    step = 2 * np.pi / maxn\n",
    "\n",
    "    mf_values = np.arange(1, maxn + 1)\n",
    "\n",
    "\n",
    "    z = (x + 1j *px).values * (1.0 + np.cos(step * (mf_values - maxn2)))\n",
    "\n",
    "\n",
    "    # Search for maximum in Fourier spectrum\n",
    "    zsing = crossroutines.cfft(z)\n",
    "    ftmax = np.max(np.abs(zsing[:npoint]))\n",
    "    nftmax = np.argmax(np.abs(zsing[:npoint]))\n",
    "    \n",
    "    tunefou = float(nftmax ) / float(npoint)\n",
    "    \n",
    "    if tunefou >= 0.5:\n",
    "        tunefou = -(1.0 - tunefou)\n",
    "    deltat = 1.0 / float(npoint)\n",
    "\n",
    "    \n",
    "    tune1 = tunefou - deltat\n",
    "    \n",
    "    \n",
    "    # Call zfun\n",
    "    tune,zw = crossroutines.zfunr(z,tune1)\n",
    "\n",
    "    return tune,zw\n",
    "\n",
    "x,px = dummy.x_sig,dummy.px_sig\n",
    "print(tunenewt(x,px))\n",
    "print(f'({Qx})')\n",
    "\n"
   ]
  }
 ],
 "metadata": {
  "kernelspec": {
   "display_name": "py-sussix",
   "language": "python",
   "name": "py-sussix"
  },
  "language_info": {
   "codemirror_mode": {
    "name": "ipython",
    "version": 3
   },
   "file_extension": ".py",
   "mimetype": "text/x-python",
   "name": "python",
   "nbconvert_exporter": "python",
   "pygments_lexer": "ipython3",
   "version": "3.10.13"
  }
 },
 "nbformat": 4,
 "nbformat_minor": 2
}
