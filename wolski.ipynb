{
 "cells": [
  {
   "cell_type": "code",
   "execution_count": null,
   "metadata": {},
   "outputs": [],
   "source": [
    "import numpy as np\n",
    "import matplotlib.pyplot as plt\n",
    "import pandas as pd\n",
    "import sys\n",
    "import scipy.stats as sciStat\n",
    "\n",
    "\n",
    "import PySUSSIX.f90sussix.f90sussix as f90sussix\n",
    "from PySUSSIX.f90sussix.sussix import  F90Sussix\n",
    "\n",
    "import PySUSSIX.crosssussix.crossroutines as crossroutines\n",
    "import PySUSSIX.crosssussix.crosssussix as crosssussix\n",
    "import PySUSSIX.crosssussix.crossref as crossref\n",
    "\n",
    "import PySUSSIX.ducksussix.ducksussix as ducksussix\n",
    "\n",
    "\n",
    "# Creating dummy x,px\n",
    "def get_FFT(x):\n",
    "    x     = np.array(x)\n",
    "    turns = np.arange(1,len(x)+1)\n",
    "\n",
    "    freq  = np.fft.fftfreq(turns.shape[-1])\n",
    "    spectrum = np.fft.fft(x-np.mean(x))\n",
    "\n",
    "    idx      = np.argmax(np.abs(spectrum))\n",
    "    Qx       = freq[idx]\n",
    "    return freq[freq>0],np.abs(spectrum)[freq>0]\n",
    "\n",
    "\n",
    "\n",
    "Q0 = 0.3102579387508984\n",
    "Qs = 0.002\n",
    "dQ = Qs/10\n",
    "Jx = (0.5*(10**2))\n",
    "\n",
    "n_bands_Qs = 1\n",
    "n_bands_dQ = 5\n",
    "N   = np.arange(int(1e5) - 21)\n",
    "j   = np.arange(-n_bands_Qs,n_bands_Qs+1)\n",
    "i   = np.arange(-n_bands_dQ,n_bands_dQ+1)\n",
    "\n",
    "\n",
    "\n",
    "Ai  = sciStat.cauchy.pdf(i/np.max(i),0,0.05)\n",
    "Aj  = sciStat.cauchy.pdf(j/np.max(j),0,0.05)\n",
    "Ai  = Ai/np.max(Ai)\n",
    "Aj  = Aj/np.max(Aj)\n",
    "np.random.seed(0)\n",
    "phii = np.zeros(len(i))#np.random.uniform(-np.pi/2,np.pi/2,len(i))\n",
    "phij = np.zeros(len(j))#np.random.uniform(-np.pi/2,np.pi/2,len(j)) \n",
    "# x = sum([sum([ _Ai*_Aj * np.sin(2*np.pi*(Q0+ _j*Qs + _i*dQ)*N) for _i,_Ai in zip(i,Ai) ]) for _j,_Aj in zip(j,Aj) ])\n",
    "hx_full = sum([sum([ np.sqrt(2*Jx)*_Ai*_Aj * np.exp(1j*2*np.pi*(Q0+ _j*Qs + _i*dQ)*N + _phii + _phij) for _i,_Ai,_phii in zip(i,Ai,phii) ]) for _j,_Aj,_phij in zip(j,Aj,phij) ])\n",
    "x  = hx_full.real\n",
    "px = hx_full.imag\n",
    "\n",
    "expected = pd.DataFrame({'amplitude':np.array([[ (np.sqrt(2*Jx)*_Ai*_Aj) for _i,_Ai,_phii in zip(i,Ai,phii) ] for _j,_Aj,_phij in zip(j,Aj,phij) ]).flatten(),\n",
    "                         'frequency':np.array([[Q0+ _j*Qs + _i*dQ for _i,_Ai,_phii in zip(i,Ai,phii) ] for _j,_Aj,_phij in zip(j,Aj,phij) ]).flatten()})\n",
    "expected.sort_values(by='amplitude',ascending=False,inplace=True)\n",
    "expected.reset_index(drop=True,inplace=True)\n",
    "plt.figure()\n",
    "plt.plot(x,px,'o',alpha=0.002)\n",
    "plt.axis('square')\n",
    "plt.xlabel('x')\n",
    "plt.ylabel('px')\n",
    "\n",
    "\n",
    "plt.figure(figsize=(15,4))\n",
    "freq,spectrum = get_FFT(x)\n",
    "plt.plot(freq,spectrum/np.max(spectrum),'-')\n",
    "plt.yscale('log')\n",
    "plt.xlim(Q0-10*Qs,Q0+10*Qs)\n",
    "plt.xlabel('Frequency')\n",
    "plt.ylabel('|amplitude|')\n",
    "\n",
    "plt.figure(figsize=(15,4))\n",
    "freq,spectrum = get_FFT(x)\n",
    "plt.plot(freq,spectrum/np.max(spectrum),'-')\n",
    "plt.yscale('log')\n",
    "# plt.xlim(Q0-10*dQ,Q0+10*dQ)\n",
    "plt.xlim(Q0-1*Qs,Q0+1*Qs)\n",
    "plt.xlabel('Frequency')\n",
    "plt.ylabel('|amplitude|')\n",
    "\n",
    "# display(expected)\n"
   ]
  },
  {
   "cell_type": "markdown",
   "metadata": {},
   "source": [
    "---\n",
    "# Schmidt\n",
    "---"
   ]
  },
  {
   "cell_type": "code",
   "execution_count": null,
   "metadata": {},
   "outputs": [],
   "source": [
    "def zfun(tune, z, maxn):\n",
    "    # Implementation of the function z(tune)\n",
    "    # Modify this based on your actual function\n",
    "    ztune = np.exp(-1j * 2 * np.pi * tune)\n",
    "    return np.polyval(z[::-1], ztune)"
   ]
  },
  {
   "cell_type": "markdown",
   "metadata": {},
   "source": [
    "---\n",
    "# Wolski's approach!\n",
    "---\n"
   ]
  },
  {
   "cell_type": "code",
   "execution_count": null,
   "metadata": {},
   "outputs": [],
   "source": [
    "Hann_order = 0\n",
    "x,px       = hx_full.real,hx_full.imag\n",
    "\n",
    "# Windowing of the signal\n",
    "N   = np.arange(len(x))# + 1\n",
    "Nt  = len(x)\n",
    "z   = np.array(x) + 1j*np.array(px)\n",
    "z_w = z * ducksussix.Hann(N, Nt=len(z),p=Hann_order)\n",
    "    \n",
    "# Estimation of the tune with FFT\n",
    "tune_est,resolution = ducksussix.FFT_tune_estimate(z_w)\n",
    "\n",
    "# Optimizer:\n",
    "freqs = np.linspace(tune_est-0.5e-4,tune_est+0.5e-4,100)\n",
    "\n",
    "\n",
    "\n",
    "def Laskar_DFFT(freq,N,z):\n",
    "    \"\"\"\n",
    "    Discrete fourier transform of z, as defined in A. Wolski, Sec. 11.5.\n",
    "    In a typical DFFT , freq = m/Nt where m is an integer. Here m could take any value.\n",
    "    ----------------------------------------------------\n",
    "        freq: discrete frequency to evaluate the DFFT at\n",
    "        N   : turn numbers of the signal\n",
    "        z   : complex array of the signal\n",
    "    ----------------------------------------------------\n",
    "    \"\"\"\n",
    "    Nt = len(z)\n",
    "    return sum(1/Nt*np.exp(-2*np.pi*1j*freq*N)*z)\n",
    "\n",
    "# y_wolski  = np.imag(np.array([Laskar_DFFT(freq,N-1,z_w) for freq in freqs]))\n",
    "# y_schmidt = np.imag(np.array([zfun(freq, z_w, len(z_w)) for freq in freqs]))\n",
    "y_wolski  = np.abs(np.array([ducksussix.Laskar_DFFT(freq,N,z_w) for freq in freqs]))\n",
    "# y_schmidt = np.imag(np.array([zfun(freq, z_w, len(z_w)) for freq in freqs]))\n",
    "\n",
    "plt.figure(figsize=(15,6))\n",
    "plt.plot(freqs,y_wolski)\n",
    "# plt.plot(freqs,y_schmidt/Nt,'--')#/np.max(y_schmidt)) \n",
    "plt.axvline(tune_est)\n",
    "plt.axvline(Q0,color='k')\n"
   ]
  },
  {
   "cell_type": "code",
   "execution_count": null,
   "metadata": {},
   "outputs": [],
   "source": [
    "N"
   ]
  },
  {
   "cell_type": "markdown",
   "metadata": {},
   "source": [
    "---\n",
    "# Newton optimizer\n",
    "---"
   ]
  },
  {
   "cell_type": "code",
   "execution_count": null,
   "metadata": {},
   "outputs": [],
   "source": [
    "import numpy as np\n",
    "\n",
    "def Laskar_DFFT(freq,N,z):\n",
    "    Nt = len(z)\n",
    "    return sum(1/Nt*1*np.exp(-2*np.pi*1j*freq*N)*z)\n",
    "\n",
    "def Laskar_DFFT_derivative(freq,N,z):\n",
    "    Nt = len(z)\n",
    "    deriv_factor = 1j*N\n",
    "    return sum(1/Nt*deriv_factor*1*np.exp(-2*np.pi*1j*freq*N)*z)\n",
    "\n",
    "\n",
    "\n",
    "Hann_order = 1\n",
    "x,px       = hx_full.real,hx_full.imag\n",
    "\n",
    "import math\n",
    "def Hann(N,Nt = None,p=1):\n",
    "    \"\"\"Hann's window, centered at the middle of the dataset.\n",
    "        N : index of the turn\n",
    "        Nt: total number of turns\n",
    "    \"\"\"\n",
    "    if Nt is None:\n",
    "        Nt = np.max(N)\n",
    "    if np.mod(Nt,2) == 0:\n",
    "        center = Nt//2 - 1\n",
    "    else:\n",
    "        center = Nt//2\n",
    "    return (2**p)*math.factorial(p)**2/(math.factorial(2*p)) * (1+np.cos(2*np.pi*(N-center)/Nt))**(p)\n",
    "\n",
    "\n",
    "\n",
    "# Windowing of the signal\n",
    "N   = np.arange(len(x))\n",
    "z   = np.array(x) + 1j*np.array(px)\n",
    "z_w = z * Hann(N, Nt=len(z),p=Hann_order)\n",
    "    \n",
    "# Estimation of the tune with FFT\n",
    "tune_est,resolution = ducksussix.FFT_tune_estimate(z_w)\n",
    "\n",
    "# Optimizer:\n",
    "freqs = np.linspace(tune_est-0.5e-4,tune_est+0.5e-4,1000)\n",
    "\n",
    "\n",
    "# newton_method(z_w,N,tune_est,resolution)\n",
    "\n",
    "z = z_w\n",
    "\n",
    "# Increase resolution by factor 5\n",
    "resolution /= 5\n",
    "\n",
    "tune_test = np.zeros(10)\n",
    "tune_val  = np.zeros(10)\n",
    "\n",
    "\n",
    "DFFT   = Laskar_DFFT(tune_est,N,z)\n",
    "DFFT_d = Laskar_DFFT_derivative(tune_est,N,z)\n",
    "dtunea1 = DFFT.real*DFFT_d.real + DFFT.imag*DFFT_d.imag\n",
    "\n",
    "\n",
    "# old name\n",
    "tunea1 = tune_est\n",
    "deltat = resolution\n",
    "err    = 1e-10\n",
    "num    = 0\n",
    "# print('loop entry :',tune_est)\n",
    "\n",
    "DFFT   = Laskar_DFFT(tunea1,N,z)\n",
    "DFFT_d = Laskar_DFFT_derivative(tunea1,N,z)\n",
    "# \n",
    "# print('dfft:',DFFT,DFFT_d)\n",
    "dtunea1 = DFFT.real*DFFT_d.real + DFFT.imag*DFFT_d.imag\n",
    "\n",
    "\n",
    "\n",
    "tunea2 = 0\n",
    "dtunea2 = 0\n",
    "# print('before all:',tunea1, tunea2, dtunea1, dtunea2)\n",
    "for ntest in range(1, 11):\n",
    "    tunea2 = tunea1+deltat\n",
    "\n",
    "    DFFT   = Laskar_DFFT(tunea2,N,z)\n",
    "    DFFT_d = Laskar_DFFT_derivative(tunea2,N,z)\n",
    "    dtunea2 = DFFT.real*DFFT_d.real + DFFT.imag*DFFT_d.imag\n",
    "\n",
    "    # print('condition:',dtunea1,dtunea2)\n",
    "    if (dtunea1 <= 0) and (dtunea2 >= 0):\n",
    "        tune1, tune2, dtune1, dtune2 = tunea1, tunea2, dtunea1, dtunea2\n",
    "\n",
    "        # print('loop entry :',tune1, tune2, dtune1, dtune2)\n",
    "        for ncont in range(1, 101):\n",
    "            ratio = -dtune1 / dtune2 if abs(dtune2) > 0 else 0.0\n",
    "\n",
    "            tune3 = (tune1 + ratio * tune2) / (1.0 + ratio)\n",
    "\n",
    "            \n",
    "            DFFT   = Laskar_DFFT(tune3,N,z)\n",
    "            DFFT_d = Laskar_DFFT_derivative(tune3,N,z)\n",
    "            dtune3 = DFFT.real*DFFT_d.real + DFFT.imag*DFFT_d.imag\n",
    "\n",
    "\n",
    "            if dtune3 <= 0.0:\n",
    "                if tune1 == tune3:\n",
    "                    break\n",
    "                tune1, dtune1 = tune3, dtune3\n",
    "            else:\n",
    "                if tune2 == tune3:\n",
    "                    break\n",
    "                tune2, dtune2 = tune3, dtune3\n",
    "\n",
    "            if abs(tune2 - tune1) <= err:\n",
    "                break\n",
    "\n",
    "        \n",
    "        tune_test[num] = tune3\n",
    "        tune_val[num]  = np.abs(DFFT)\n",
    "        num += 1\n",
    "        # print('allo     :',list(tune_test))\n",
    "\n",
    "\n",
    "    tunea1, dtunea1 = tunea2, dtunea2\n",
    "\n",
    "idx_max = np.argmax(tune_val[:num])\n",
    "tune      = tune_test[idx_max]\n",
    "amplitude = Laskar_DFFT(tune,N,z)\n",
    "\n",
    "\n",
    "tune_zfun,zw_zfun = crossroutines.zfunr(z_w,tune_est)"
   ]
  },
  {
   "cell_type": "code",
   "execution_count": null,
   "metadata": {},
   "outputs": [],
   "source": [
    "center = (int(10e5) - 5)//2\n",
    "center"
   ]
  },
  {
   "cell_type": "code",
   "execution_count": null,
   "metadata": {},
   "outputs": [],
   "source": [
    "print(Q0)\n",
    "print(tune)\n",
    "print(tune_zfun)"
   ]
  },
  {
   "cell_type": "code",
   "execution_count": null,
   "metadata": {},
   "outputs": [],
   "source": [
    "Q0 = 0.3102579387508984\n",
    "print(f'{Q0:.20f}')"
   ]
  },
  {
   "cell_type": "code",
   "execution_count": null,
   "metadata": {},
   "outputs": [],
   "source": [
    "# a = 0.3102579387508983\n",
    "# print(f'{a:.20f}')"
   ]
  },
  {
   "cell_type": "code",
   "execution_count": null,
   "metadata": {},
   "outputs": [],
   "source": [
    "print(amplitude)\n",
    "print(zw_zfun/Nt)"
   ]
  },
  {
   "cell_type": "code",
   "execution_count": null,
   "metadata": {},
   "outputs": [],
   "source": [
    "Nt"
   ]
  },
  {
   "cell_type": "code",
   "execution_count": null,
   "metadata": {},
   "outputs": [],
   "source": [
    "print(amplitude)\n",
    "print(zw_zfun)"
   ]
  },
  {
   "cell_type": "code",
   "execution_count": null,
   "metadata": {},
   "outputs": [],
   "source": []
  },
  {
   "cell_type": "code",
   "execution_count": null,
   "metadata": {},
   "outputs": [],
   "source": [
    "Q0"
   ]
  },
  {
   "cell_type": "code",
   "execution_count": null,
   "metadata": {},
   "outputs": [],
   "source": [
    "zw_zfun"
   ]
  },
  {
   "cell_type": "code",
   "execution_count": null,
   "metadata": {},
   "outputs": [],
   "source": [
    "print(tune)\n",
    "print(Q0)\n"
   ]
  },
  {
   "cell_type": "code",
   "execution_count": null,
   "metadata": {},
   "outputs": [],
   "source": [
    " np.argmax(tune_val[:num])"
   ]
  },
  {
   "cell_type": "code",
   "execution_count": null,
   "metadata": {},
   "outputs": [],
   "source": [
    "%%timeit\n",
    "a.real"
   ]
  },
  {
   "cell_type": "code",
   "execution_count": null,
   "metadata": {},
   "outputs": [],
   "source": [
    "a = 5 + 2*1j\n",
    "b = 2 + 3*1j\n",
    "\n",
    "print(np.vdot(a,b))\n",
    "print(a.real*b.real + a.imag*b.imag)"
   ]
  }
 ],
 "metadata": {
  "kernelspec": {
   "display_name": "py-sussix",
   "language": "python",
   "name": "py-sussix"
  },
  "language_info": {
   "codemirror_mode": {
    "name": "ipython",
    "version": 3
   },
   "file_extension": ".py",
   "mimetype": "text/x-python",
   "name": "python",
   "nbconvert_exporter": "python",
   "pygments_lexer": "ipython3",
   "version": "3.10.13"
  }
 },
 "nbformat": 4,
 "nbformat_minor": 2
}
